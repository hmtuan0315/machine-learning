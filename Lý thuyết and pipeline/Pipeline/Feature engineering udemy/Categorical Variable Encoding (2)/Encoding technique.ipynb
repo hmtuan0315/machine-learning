{
 "cells": [
  {
   "cell_type": "code",
   "execution_count": null,
   "id": "5b4f1a16",
   "metadata": {},
   "outputs": [],
   "source": []
  },
  {
   "cell_type": "markdown",
   "id": "e500d9dd",
   "metadata": {},
   "source": [
    "<img src=\"../image/Screenshot 2021-07-25 200316.png\" />"
   ]
  },
  {
   "cell_type": "code",
   "execution_count": null,
   "id": "deef11b6",
   "metadata": {},
   "outputs": [],
   "source": []
  },
  {
   "cell_type": "markdown",
   "id": "9f21b05e",
   "metadata": {},
   "source": [
    "# 1. One hot encoding of top categories"
   ]
  },
  {
   "cell_type": "markdown",
   "id": "ed812eff",
   "metadata": {
    "ExecuteTime": {
     "end_time": "2021-07-25T11:59:00.224896Z",
     "start_time": "2021-07-25T11:59:00.212908Z"
    }
   },
   "source": [
    "<img src=\"../image/Screenshot 2021-07-25 185343.png\" />\n",
    "\n",
    "<img src=\"../image/Screenshot 2021-07-25 185438.png\" />"
   ]
  },
  {
   "cell_type": "code",
   "execution_count": null,
   "id": "d3ac02dc",
   "metadata": {},
   "outputs": [],
   "source": []
  },
  {
   "cell_type": "markdown",
   "id": "a4be0b3a",
   "metadata": {
    "ExecuteTime": {
     "end_time": "2021-07-25T12:15:14.655303Z",
     "start_time": "2021-07-25T12:15:14.636290Z"
    }
   },
   "source": [
    "# 2. Label/ integers encoding\n",
    "\n",
    "<img src=\"../image/Screenshot 2021-07-25 191402.png\" />\n",
    "\n",
    "<img src=\"../image/Screenshot 2021-07-25 191456.png\" />"
   ]
  },
  {
   "cell_type": "code",
   "execution_count": null,
   "id": "c5992d7e",
   "metadata": {},
   "outputs": [],
   "source": []
  },
  {
   "cell_type": "markdown",
   "id": "8b75a734",
   "metadata": {},
   "source": [
    "# 3. Count / frequency encoding"
   ]
  },
  {
   "cell_type": "markdown",
   "id": "b8f8e86d",
   "metadata": {
    "ExecuteTime": {
     "end_time": "2021-07-25T12:22:46.851905Z",
     "start_time": "2021-07-25T12:22:46.844903Z"
    }
   },
   "source": [
    "<img src=\"../image/Screenshot 2021-07-25 192231.png\" />\n",
    "\n",
    "<img src=\"../image/Screenshot 2021-07-25 192304.png\" />\n",
    "\n",
    "<img src=\"../image/Screenshot 2021-07-25 192342.png\" />\n",
    "\n",
    "<img src=\"../image/Screenshot 2021-07-25 192357.png\" />"
   ]
  },
  {
   "cell_type": "code",
   "execution_count": null,
   "id": "2e34c40f",
   "metadata": {},
   "outputs": [],
   "source": []
  },
  {
   "cell_type": "markdown",
   "id": "e2a90531",
   "metadata": {},
   "source": [
    "# 4. Ordered ordinal encoding\n"
   ]
  },
  {
   "cell_type": "markdown",
   "id": "4a726699",
   "metadata": {
    "ExecuteTime": {
     "end_time": "2021-07-25T12:30:43.797870Z",
     "start_time": "2021-07-25T12:30:43.787909Z"
    }
   },
   "source": [
    "<img src=\"../image/Screenshot 2021-07-25 192956.png\" />\n",
    "\n",
    "**As you can see we have 2 observations with color red, but the target of one of these is 1 and the other is 0, so the mean of target with red color is 0.5. Calculate similarly, the mean of target with yellow color is 1 and the green is 0**\n",
    "\n",
    "**So we encoding color with red is 2, the largest is yellow and we label it to 1 and green is 3**\n",
    "\n",
    "<img src=\"../image/Screenshot 2021-07-25 193546.png\" />\n",
    "\n",
    "<img src=\"../image/Screenshot 2021-07-25 193638.png\" />"
   ]
  },
  {
   "cell_type": "code",
   "execution_count": null,
   "id": "d5c3cc0c",
   "metadata": {},
   "outputs": [],
   "source": []
  },
  {
   "cell_type": "markdown",
   "id": "855ccf84",
   "metadata": {},
   "source": [
    "# 5. Mean Encoding\n",
    "\n",
    "<img src=\"../image/Screenshot 2021-07-25 194920.png\" />\n",
    "\n",
    "<img src=\"../image/Screenshot 2021-07-25 194936.png\" />"
   ]
  },
  {
   "cell_type": "code",
   "execution_count": null,
   "id": "c77610da",
   "metadata": {},
   "outputs": [],
   "source": []
  },
  {
   "cell_type": "markdown",
   "id": "505f5f54",
   "metadata": {
    "ExecuteTime": {
     "end_time": "2021-07-25T12:52:12.949428Z",
     "start_time": "2021-07-25T12:52:12.935428Z"
    }
   },
   "source": [
    "# 6. Probability Ratio Encoding\n",
    "\n",
    "<img src=\"../image/Screenshot 2021-07-25 195135.png\" />"
   ]
  },
  {
   "cell_type": "code",
   "execution_count": null,
   "id": "bfa07d24",
   "metadata": {},
   "outputs": [],
   "source": []
  },
  {
   "cell_type": "markdown",
   "id": "a1d40cd6",
   "metadata": {},
   "source": [
    "7. Weight Of evidence\n",
    "\n",
    "<img src=\"../image/Screenshot 2021-07-25 195346.png\" />\n",
    "\n",
    "<img src=\"../image/Screenshot 2021-07-25 200049.png\" />\n",
    "\n",
    "<img src=\"../image/Screenshot 2021-07-25 200100.png\" />\n",
    "\n",
    "<img src=\"../image/Screenshot 2021-07-25 200153.png\" />\n",
    "\n",
    "<img src=\"../image/Screenshot 2021-07-25 200205.png\" />"
   ]
  },
  {
   "cell_type": "code",
   "execution_count": null,
   "id": "cd24f168",
   "metadata": {},
   "outputs": [],
   "source": []
  },
  {
   "attachments": {},
   "cell_type": "markdown",
   "id": "2bb5e88e",
   "metadata": {},
   "source": [
    "# 8. Rare Labels\n",
    "\n",
    "**They can lead to overfitting, because rare label maybe appears in training dataset but not in test dataset, or vice versa. So we need to group all rare labels into 1**\n",
    "\n",
    "<img src=\"../image/Screenshot 2021-07-25 212400.png\" />\n",
    "\n",
    "<img src=\"../image/Screenshot 2021-07-25 212600.png\" />\n",
    "\n",
    "<img src=\"../image/Screenshot 2021-07-25 212611.png\" />\n",
    "\n",
    "<img src=\"../image/Screenshot 2021-07-25 212631.png\" />\n",
    "\n",
    "<img src=\"../image/Screenshot 2021-07-25 212841.png\" />"
   ]
  },
  {
   "cell_type": "code",
   "execution_count": null,
   "id": "befd9f68",
   "metadata": {},
   "outputs": [],
   "source": []
  },
  {
   "cell_type": "markdown",
   "id": "54dbb2c4",
   "metadata": {},
   "source": [
    "# 9. Binary encoding and feature hashing\n",
    "\n",
    "<img src=\"../image/Screenshot 2021-07-25 213416.png\" />"
   ]
  },
  {
   "cell_type": "code",
   "execution_count": null,
   "id": "333bd743",
   "metadata": {},
   "outputs": [],
   "source": []
  },
  {
   "cell_type": "markdown",
   "id": "a0d3b897",
   "metadata": {},
   "source": [
    "# Summary table\n",
    "\n",
    "https://drive.google.com/file/d/1t4AwJGf6cAZ8Dnm-fskqpFrq190lgBEU/view"
   ]
  },
  {
   "cell_type": "code",
   "execution_count": null,
   "id": "ed16c681",
   "metadata": {},
   "outputs": [],
   "source": []
  }
 ],
 "metadata": {
  "kernelspec": {
   "display_name": "Pytorch (conda)",
   "language": "python",
   "name": "pytorch"
  },
  "language_info": {
   "codemirror_mode": {
    "name": "ipython",
    "version": 3
   },
   "file_extension": ".py",
   "mimetype": "text/x-python",
   "name": "python",
   "nbconvert_exporter": "python",
   "pygments_lexer": "ipython3",
   "version": "3.8.0"
  },
  "varInspector": {
   "cols": {
    "lenName": 16,
    "lenType": 16,
    "lenVar": 40
   },
   "kernels_config": {
    "python": {
     "delete_cmd_postfix": "",
     "delete_cmd_prefix": "del ",
     "library": "var_list.py",
     "varRefreshCmd": "print(var_dic_list())"
    },
    "r": {
     "delete_cmd_postfix": ") ",
     "delete_cmd_prefix": "rm(",
     "library": "var_list.r",
     "varRefreshCmd": "cat(var_dic_list()) "
    }
   },
   "types_to_exclude": [
    "module",
    "function",
    "builtin_function_or_method",
    "instance",
    "_Feature"
   ],
   "window_display": false
  }
 },
 "nbformat": 4,
 "nbformat_minor": 5
}
