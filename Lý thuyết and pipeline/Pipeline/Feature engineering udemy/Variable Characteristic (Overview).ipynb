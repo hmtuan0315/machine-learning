{
 "cells": [
  {
   "cell_type": "markdown",
   "id": "bb449c53",
   "metadata": {},
   "source": [
    "## Variable Characteristics are the different things we need to look out for when analyzing the variables in our datasets"
   ]
  },
  {
   "cell_type": "code",
   "execution_count": null,
   "id": "77b1a34a",
   "metadata": {},
   "outputs": [],
   "source": []
  },
  {
   "cell_type": "markdown",
   "id": "4428eebb",
   "metadata": {},
   "source": [
    "There are 6 variable characteristics:\n",
    "\n",
    "1) Missing data\n",
    "\n",
    "2) Categorical Variables\n",
    "\n",
    "3) Linear Model Assumptions\n",
    "\n",
    "4) Distributions\n",
    "\n",
    "5) Outliers\n",
    "\n",
    "6) Feature Scaling\n",
    "\n",
    "<img src=\"./image/Screenshot 2021-07-27 003012.png\" />\n",
    "\n",
    "<img src=\"./image/Screenshot 2021-07-27 003059.png\" />"
   ]
  },
  {
   "cell_type": "code",
   "execution_count": null,
   "id": "3d9e462d",
   "metadata": {},
   "outputs": [],
   "source": []
  },
  {
   "cell_type": "markdown",
   "id": "a130c3fb",
   "metadata": {},
   "source": [
    "# I. Missing data"
   ]
  },
  {
   "cell_type": "markdown",
   "id": "c3309cf4",
   "metadata": {},
   "source": [
    "## 1. Type of missing data\n",
    "a) Missing Data Completely at Random (MCAR)\n",
    "- the probability of being missing is the same for all observations\n",
    "- there is absolutely no relationships between the data missing and any other values, observed or missing within the dataset\n",
    "- disregarding those cases would not bias the inferences made\n",
    "\n",
    "b) Missing Data at Random (MAR)\n",
    "- THe probability of an observation being missing depends on available infomation\n",
    "\n",
    "c) Missing data not at random (MNAR)\n",
    "- There is a mechanism or a reason why missing values are introduced in the dataset"
   ]
  },
  {
   "cell_type": "markdown",
   "id": "22647211",
   "metadata": {
    "ExecuteTime": {
     "end_time": "2021-07-22T03:18:56.403718Z",
     "start_time": "2021-07-22T03:18:56.391786Z"
    }
   },
   "source": [
    "## 2. Categorical variables\n",
    "## a) Cardinality: the number of different lables is known as cardinality\n",
    "\n",
    "<img src=\"./image/Screenshot 2021-07-22 101457.png\"/>\n",
    "\n",
    "So the cardinality of gender is 2, and for the vehicle is 9\n",
    "\n",
    "### Impact of cardinality:\n",
    "- String are incompatible with Scikit-learn\n",
    "- Uneven distribution between train and test sets: Some lables may appear only in train set => Over-fitting or some lables may appear only in test set => model will not know how to interpret the value\n",
    "- Over-fitting in tree based algorithms: Variables with too many labels tend to dominate over those with fewer lables, particularly in tree based algorithms. So reducing cardinality may help imporve model performance\n",
    "\n",
    "\n",
    "## b) Rare lables:\n",
    "### Impact of rare labels:\n",
    "- Rare lables may cause over-fitting\n",
    "- hard to understand the role of the rare lable on the outcome prediction\n",
    "- Removing rare lables may imporve model performance\n",
    "\n",
    "\n",
    "## c) Linear Model Assumptions:\n",
    "<img src=\"./image/Screenshot 2021-07-22 105043.png\"/>\n",
    "\n",
    "<img src=\"./image/Screenshot 2021-07-22 110122.png\"/>\n",
    "\n",
    "<img src=\"./image/Screenshot 2021-07-22 110338.png\"/>\n",
    "\n",
    "<img src=\"./image/Screenshot 2021-07-22 110350.png\"/>\n",
    "\n",
    "<img src=\"./image/Screenshot 2021-07-22 110434.png\"/>"
   ]
  },
  {
   "cell_type": "code",
   "execution_count": null,
   "id": "2a3cbf7b",
   "metadata": {},
   "outputs": [],
   "source": []
  },
  {
   "cell_type": "markdown",
   "id": "be6d7d46",
   "metadata": {},
   "source": [
    "## 3. Variable distribution\n",
    "\n",
    "<img src=\"./image/Screenshot 2021-07-22 120234.png\"/>\n",
    "\n",
    "<img src=\"./image/Screenshot 2021-07-22 120308.png\"/>\n",
    "\n",
    "<img src=\"./image/Screenshot 2021-07-22 150229.png\"/>\n",
    "\n",
    "<img src=\"./image/Screenshot 2021-07-22 150317.png\"/>\n",
    "\n",
    "<img src=\"./image/Screenshot 2021-07-22 150447.png\"/>\n",
    "\n",
    "<img src=\"./image/Screenshot 2021-07-22 151747.png\"/>"
   ]
  },
  {
   "cell_type": "code",
   "execution_count": null,
   "id": "bc36dfa8",
   "metadata": {},
   "outputs": [],
   "source": []
  },
  {
   "cell_type": "markdown",
   "id": "49418a67",
   "metadata": {},
   "source": [
    "## 4. Outliers\n",
    "\n",
    "### a. Algorithms that are sensitive to outliers\n",
    "- Linear Regression\n",
    "- Adaboost\n",
    "\n",
    "### b.Detect outliers\n",
    "\n",
    "<img src=\"./image/Screenshot 2021-07-22 152558.png\"/>\n",
    "\n",
    "<img src=\"./image/Screenshot 2021-07-22 152634.png\"/>\n",
    "\n",
    "<img src=\"./image/Screenshot 2021-07-22 152839.png\"/>"
   ]
  },
  {
   "cell_type": "code",
   "execution_count": null,
   "id": "548e464e",
   "metadata": {},
   "outputs": [],
   "source": []
  },
  {
   "cell_type": "markdown",
   "id": "acd1f556",
   "metadata": {},
   "source": [
    "## 4. Feature Scalling\n",
    "\n",
    "<img src=\"./image/Screenshot 2021-07-22 155317.png\"/>"
   ]
  },
  {
   "cell_type": "code",
   "execution_count": null,
   "id": "e1e6218f",
   "metadata": {},
   "outputs": [],
   "source": []
  }
 ],
 "metadata": {
  "kernelspec": {
   "display_name": "Python 3",
   "language": "python",
   "name": "python3"
  },
  "language_info": {
   "codemirror_mode": {
    "name": "ipython",
    "version": 3
   },
   "file_extension": ".py",
   "mimetype": "text/x-python",
   "name": "python",
   "nbconvert_exporter": "python",
   "pygments_lexer": "ipython3",
   "version": "3.8.0"
  },
  "varInspector": {
   "cols": {
    "lenName": 16,
    "lenType": 16,
    "lenVar": 40
   },
   "kernels_config": {
    "python": {
     "delete_cmd_postfix": "",
     "delete_cmd_prefix": "del ",
     "library": "var_list.py",
     "varRefreshCmd": "print(var_dic_list())"
    },
    "r": {
     "delete_cmd_postfix": ") ",
     "delete_cmd_prefix": "rm(",
     "library": "var_list.r",
     "varRefreshCmd": "cat(var_dic_list()) "
    }
   },
   "types_to_exclude": [
    "module",
    "function",
    "builtin_function_or_method",
    "instance",
    "_Feature"
   ],
   "window_display": false
  }
 },
 "nbformat": 4,
 "nbformat_minor": 5
}
