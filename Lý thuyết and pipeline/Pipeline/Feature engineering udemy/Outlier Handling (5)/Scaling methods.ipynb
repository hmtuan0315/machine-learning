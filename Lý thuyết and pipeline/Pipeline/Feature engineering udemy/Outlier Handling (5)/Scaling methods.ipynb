{
 "cells": [
  {
   "cell_type": "markdown",
   "id": "9207980d",
   "metadata": {},
   "source": [
    "# 1. Standardisation\n",
    "\n",
    "<img src=\"../image/Screenshot 2021-07-26 232208.png\" />\n",
    "\n",
    "<img src=\"../image/Screenshot 2021-07-26 232527.png\" />\n"
   ]
  },
  {
   "cell_type": "markdown",
   "id": "028aab32",
   "metadata": {
    "ExecuteTime": {
     "end_time": "2021-07-26T16:40:55.805996Z",
     "start_time": "2021-07-26T16:40:55.799009Z"
    }
   },
   "source": [
    "<img src=\"../image/Screenshot 2021-07-26 233722.png\" />\n",
    "\n",
    "<img src=\"../image/Screenshot 2021-07-26 233902.png\" />\n",
    "\n",
    "## Preserving outliers means this method is sensitive with outliers\n",
    "\n",
    "<img src=\"../image/Screenshot 2021-07-26 233943.png\" />\n",
    "\n",
    "<img src=\"../image/Screenshot 2021-07-26 234008.png\" />"
   ]
  },
  {
   "cell_type": "code",
   "execution_count": null,
   "id": "375a6ac3",
   "metadata": {},
   "outputs": [],
   "source": []
  },
  {
   "cell_type": "markdown",
   "id": "bd9aecc6",
   "metadata": {},
   "source": [
    "# 2. Mean Normalisation\n",
    "\n",
    "<img src=\"../image/Screenshot 2021-07-26 234551.png\" />\n",
    "\n",
    "<img src=\"../image/Screenshot 2021-07-26 234631.png\" />\n",
    "\n",
    "<img src=\"../image/Screenshot 2021-07-26 235119.png\" />\n",
    "\n",
    "<img src=\"../image/Screenshot 2021-07-26 235153.png\" />\n",
    "\n",
    "<img src=\"../image/Screenshot 2021-07-26 235536.png\" />"
   ]
  },
  {
   "cell_type": "code",
   "execution_count": null,
   "id": "1b36182f",
   "metadata": {},
   "outputs": [],
   "source": []
  },
  {
   "cell_type": "markdown",
   "id": "7d2d1455",
   "metadata": {},
   "source": [
    "# 3. Min-max Scaling\n",
    "\n",
    "<img src=\"../image/Screenshot 2021-07-27 000111.png\" />\n",
    "\n",
    "<img src=\"../image/Screenshot 2021-07-27 000122.png\" />\n",
    "\n",
    "<img src=\"../image/Screenshot 2021-07-27 000515.png\" />\n",
    "\n",
    "<img src=\"../image/Screenshot 2021-07-27 000548.png\" />"
   ]
  },
  {
   "cell_type": "code",
   "execution_count": null,
   "id": "304bdc29",
   "metadata": {},
   "outputs": [],
   "source": []
  },
  {
   "cell_type": "markdown",
   "id": "6c58d5f6",
   "metadata": {},
   "source": [
    "# 4. MaxAbsScaling\n",
    "\n",
    "<img src=\"../image/Screenshot 2021-07-27 000911.png\" />\n",
    "\n",
    "<img src=\"../image/Screenshot 2021-07-27 000924.png\" />\n",
    "\n",
    "<img src=\"../image/Screenshot 2021-07-27 000951.png\" />\n",
    "\n",
    "<img src=\"../image/Screenshot 2021-07-27 001048.png\" />"
   ]
  },
  {
   "cell_type": "code",
   "execution_count": null,
   "id": "e40a909e",
   "metadata": {},
   "outputs": [],
   "source": []
  },
  {
   "cell_type": "markdown",
   "id": "4453e2ff",
   "metadata": {},
   "source": [
    "# 5. Robust Scaling\n",
    "\n",
    "<img src=\"../image/Screenshot 2021-07-27 001233.png\" />\n",
    "\n",
    "<img src=\"../image/Screenshot 2021-07-27 001257.png\" />\n",
    "\n",
    "<img src=\"../image/Screenshot 2021-07-27 001318.png\" />\n",
    "\n",
    "<img src=\"../image/Screenshot 2021-07-27 001439.png\" />"
   ]
  },
  {
   "cell_type": "code",
   "execution_count": null,
   "id": "10cf7d39",
   "metadata": {},
   "outputs": [],
   "source": []
  }
 ],
 "metadata": {
  "kernelspec": {
   "display_name": "Pytorch (conda)",
   "language": "python",
   "name": "pytorch"
  },
  "language_info": {
   "codemirror_mode": {
    "name": "ipython",
    "version": 3
   },
   "file_extension": ".py",
   "mimetype": "text/x-python",
   "name": "python",
   "nbconvert_exporter": "python",
   "pygments_lexer": "ipython3",
   "version": "3.8.0"
  },
  "varInspector": {
   "cols": {
    "lenName": 16,
    "lenType": 16,
    "lenVar": 40
   },
   "kernels_config": {
    "python": {
     "delete_cmd_postfix": "",
     "delete_cmd_prefix": "del ",
     "library": "var_list.py",
     "varRefreshCmd": "print(var_dic_list())"
    },
    "r": {
     "delete_cmd_postfix": ") ",
     "delete_cmd_prefix": "rm(",
     "library": "var_list.r",
     "varRefreshCmd": "cat(var_dic_list()) "
    }
   },
   "types_to_exclude": [
    "module",
    "function",
    "builtin_function_or_method",
    "instance",
    "_Feature"
   ],
   "window_display": false
  }
 },
 "nbformat": 4,
 "nbformat_minor": 5
}
