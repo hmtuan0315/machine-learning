{
 "cells": [
  {
   "cell_type": "markdown",
   "id": "eccc79c6",
   "metadata": {},
   "source": [
    "<img src=\"../image/Screenshot 2021-07-26 121318.png\" />\n",
    "\n",
    "**Capping: Any value that is smaller or bigger than those caps will be replaced by the maximum or minimum allowed**"
   ]
  },
  {
   "cell_type": "markdown",
   "id": "9ee029a2",
   "metadata": {},
   "source": [
    "<img src=\"../image/Screenshot 2021-07-26 222839.png\" />\n",
    "\n",
    "<img src=\"../image/Screenshot 2021-07-26 222928.png\" />\n",
    "\n",
    "<img src=\"../image/Screenshot 2021-07-26 222958.png\" />"
   ]
  },
  {
   "cell_type": "code",
   "execution_count": null,
   "id": "cb831e75",
   "metadata": {},
   "outputs": [],
   "source": []
  }
 ],
 "metadata": {
  "kernelspec": {
   "display_name": "Pytorch (conda)",
   "language": "python",
   "name": "pytorch"
  },
  "language_info": {
   "codemirror_mode": {
    "name": "ipython",
    "version": 3
   },
   "file_extension": ".py",
   "mimetype": "text/x-python",
   "name": "python",
   "nbconvert_exporter": "python",
   "pygments_lexer": "ipython3",
   "version": "3.8.0"
  },
  "varInspector": {
   "cols": {
    "lenName": 16,
    "lenType": 16,
    "lenVar": 40
   },
   "kernels_config": {
    "python": {
     "delete_cmd_postfix": "",
     "delete_cmd_prefix": "del ",
     "library": "var_list.py",
     "varRefreshCmd": "print(var_dic_list())"
    },
    "r": {
     "delete_cmd_postfix": ") ",
     "delete_cmd_prefix": "rm(",
     "library": "var_list.r",
     "varRefreshCmd": "cat(var_dic_list()) "
    }
   },
   "types_to_exclude": [
    "module",
    "function",
    "builtin_function_or_method",
    "instance",
    "_Feature"
   ],
   "window_display": false
  }
 },
 "nbformat": 4,
 "nbformat_minor": 5
}
