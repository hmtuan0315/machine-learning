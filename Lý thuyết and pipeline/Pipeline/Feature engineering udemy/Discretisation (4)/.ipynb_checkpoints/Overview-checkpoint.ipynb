{
 "cells": [
  {
   "cell_type": "markdown",
   "id": "782db5a7",
   "metadata": {},
   "source": [
    "<img src=\"../image/Screenshot 2021-07-26 111645.png\" />\n",
    "\n",
    "<img src=\"../image/Screenshot 2021-07-26 111949.png\" />\n",
    "\n",
    "<img src=\"../image/Screenshot 2021-07-26 112004.png\" />"
   ]
  },
  {
   "cell_type": "code",
   "execution_count": null,
   "id": "aa6fc7de",
   "metadata": {},
   "outputs": [],
   "source": []
  },
  {
   "cell_type": "markdown",
   "id": "f8fc3c31",
   "metadata": {},
   "source": [
    "# 1. Equal-width discretisation\\\n",
    "\n",
    "<img src=\"../image/Screenshot 2021-07-26 112759.png\" />"
   ]
  },
  {
   "cell_type": "code",
   "execution_count": null,
   "id": "a86160d0",
   "metadata": {},
   "outputs": [],
   "source": []
  },
  {
   "cell_type": "markdown",
   "id": "440580f6",
   "metadata": {},
   "source": [
    "# 2. Equal-frequency discretisation\n",
    "\n",
    "<img src=\"../image/Screenshot 2021-07-26 113044.png\" />"
   ]
  },
  {
   "cell_type": "markdown",
   "id": "577ba0e6",
   "metadata": {
    "ExecuteTime": {
     "end_time": "2021-07-26T04:56:21.562621Z",
     "start_time": "2021-07-26T04:56:21.541572Z"
    }
   },
   "source": [
    "**Without monotonic encoding**\n",
    "<img src=\"../image/Screenshot 2021-07-26 115522.png\" />\n",
    "\n",
    "\n",
    "**With monotonic encoding**\n",
    "<img src=\"../image/Screenshot 2021-07-26 115549.png\" />\n",
    "\n",
    "<img src=\"../image/Screenshot 2021-07-26 120000.png\" />"
   ]
  },
  {
   "cell_type": "code",
   "execution_count": null,
   "id": "fcdfa5bb",
   "metadata": {},
   "outputs": [],
   "source": []
  },
  {
   "cell_type": "markdown",
   "id": "01268590",
   "metadata": {
    "ExecuteTime": {
     "end_time": "2021-07-26T05:06:08.121119Z",
     "start_time": "2021-07-26T05:06:08.115141Z"
    }
   },
   "source": [
    "<img src=\"../image/Screenshot 2021-07-26 120324.png\" />\n",
    "\n",
    "<img src=\"../image/Screenshot 2021-07-26 120429.png\" />\n",
    "\n",
    "<img src=\"../image/Screenshot 2021-07-26 120459.png\" />"
   ]
  },
  {
   "cell_type": "code",
   "execution_count": null,
   "id": "cda460b4",
   "metadata": {},
   "outputs": [],
   "source": []
  }
 ],
 "metadata": {
  "kernelspec": {
   "display_name": "Pytorch (conda)",
   "language": "python",
   "name": "pytorch"
  },
  "language_info": {
   "codemirror_mode": {
    "name": "ipython",
    "version": 3
   },
   "file_extension": ".py",
   "mimetype": "text/x-python",
   "name": "python",
   "nbconvert_exporter": "python",
   "pygments_lexer": "ipython3",
   "version": "3.8.0"
  },
  "varInspector": {
   "cols": {
    "lenName": 16,
    "lenType": 16,
    "lenVar": 40
   },
   "kernels_config": {
    "python": {
     "delete_cmd_postfix": "",
     "delete_cmd_prefix": "del ",
     "library": "var_list.py",
     "varRefreshCmd": "print(var_dic_list())"
    },
    "r": {
     "delete_cmd_postfix": ") ",
     "delete_cmd_prefix": "rm(",
     "library": "var_list.r",
     "varRefreshCmd": "cat(var_dic_list()) "
    }
   },
   "types_to_exclude": [
    "module",
    "function",
    "builtin_function_or_method",
    "instance",
    "_Feature"
   ],
   "window_display": false
  }
 },
 "nbformat": 4,
 "nbformat_minor": 5
}
