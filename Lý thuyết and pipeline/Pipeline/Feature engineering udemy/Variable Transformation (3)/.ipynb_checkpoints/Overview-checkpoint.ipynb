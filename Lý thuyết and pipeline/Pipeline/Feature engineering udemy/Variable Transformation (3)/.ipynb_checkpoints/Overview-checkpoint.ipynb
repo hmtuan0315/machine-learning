{
 "cells": [
  {
   "cell_type": "markdown",
   "id": "4420f7fc",
   "metadata": {
    "ExecuteTime": {
     "end_time": "2021-07-26T04:12:37.338306Z",
     "start_time": "2021-07-26T04:12:37.333287Z"
    }
   },
   "source": [
    "<img src=\"../image/Screenshot 2021-07-26 111114.png\" />"
   ]
  },
  {
   "cell_type": "markdown",
   "id": "84c3b3e5",
   "metadata": {},
   "source": [
    "<img src=\"../image/Screenshot 2021-07-26 111321.png\" />\n",
    "\n",
    "<img src=\"../image/Screenshot 2021-07-26 111344.png\" />"
   ]
  },
  {
   "cell_type": "code",
   "execution_count": null,
   "id": "78b52b35",
   "metadata": {},
   "outputs": [],
   "source": []
  }
 ],
 "metadata": {
  "kernelspec": {
   "display_name": "Pytorch (conda)",
   "language": "python",
   "name": "pytorch"
  },
  "language_info": {
   "codemirror_mode": {
    "name": "ipython",
    "version": 3
   },
   "file_extension": ".py",
   "mimetype": "text/x-python",
   "name": "python",
   "nbconvert_exporter": "python",
   "pygments_lexer": "ipython3",
   "version": "3.8.0"
  },
  "varInspector": {
   "cols": {
    "lenName": 16,
    "lenType": 16,
    "lenVar": 40
   },
   "kernels_config": {
    "python": {
     "delete_cmd_postfix": "",
     "delete_cmd_prefix": "del ",
     "library": "var_list.py",
     "varRefreshCmd": "print(var_dic_list())"
    },
    "r": {
     "delete_cmd_postfix": ") ",
     "delete_cmd_prefix": "rm(",
     "library": "var_list.r",
     "varRefreshCmd": "cat(var_dic_list()) "
    }
   },
   "types_to_exclude": [
    "module",
    "function",
    "builtin_function_or_method",
    "instance",
    "_Feature"
   ],
   "window_display": false
  }
 },
 "nbformat": 4,
 "nbformat_minor": 5
}
