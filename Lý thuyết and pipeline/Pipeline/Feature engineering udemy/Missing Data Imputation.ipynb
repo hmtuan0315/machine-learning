{
 "cells": [
  {
   "cell_type": "markdown",
   "id": "3aa41def",
   "metadata": {},
   "source": [
    "# Missing data imputation techniques\n",
    "\n",
    "<img src=\"../image/Screenshot 2021-07-22 155507.png\"/>\n",
    "\n",
    "<img src=\"../image/Screenshot 2021-07-22 155727.png\"/>"
   ]
  },
  {
   "cell_type": "markdown",
   "id": "26e74ed6",
   "metadata": {},
   "source": [
    "# Continuous variables\n",
    "\n",
    "## 1. CCA\n",
    "- Complete-case analysis (CCA), also called \"list-wise deletion\" of cases, is about discarding observations (rows) \n",
    "\n",
    "<img src=\"../image/Screenshot 2021-07-22 160705.png\"/>\n",
    "\n",
    "<img src=\"../image/Screenshot 2021-07-22 160705.png\"/>\n",
    "\n",
    "<img src=\"../image/Screenshot 2021-07-22 160752.png\"/>"
   ]
  },
  {
   "cell_type": "code",
   "execution_count": null,
   "id": "b1e8248a",
   "metadata": {},
   "outputs": [],
   "source": []
  },
  {
   "cell_type": "markdown",
   "id": "3ea0eebf",
   "metadata": {},
   "source": [
    "## 2. Mean or Median imputation\n",
    "- When data is normal distribution, mean or median are the same\n",
    "- When data is skewed, the median is a better representation\n",
    "\n",
    "<img src=\"../image/Screenshot 2021-07-22 161932.png\"/>\n",
    "\n",
    "<img src=\"../image/Screenshot 2021-07-22 162037.png\"/>\n",
    "\n",
    "<img src=\"../image/Screenshot 2021-07-22 162209.png\"/>\n",
    "\n",
    "<img src=\"../image/Screenshot 2021-07-22 162432.png\"/>"
   ]
  },
  {
   "cell_type": "code",
   "execution_count": null,
   "id": "5c22dbee",
   "metadata": {},
   "outputs": [],
   "source": []
  },
  {
   "cell_type": "markdown",
   "id": "70e0b6b2",
   "metadata": {
    "ExecuteTime": {
     "end_time": "2021-07-22T09:51:46.425390Z",
     "start_time": "2021-07-22T09:51:46.417393Z"
    }
   },
   "source": [
    "## 3. Arbitrary value imputation\n",
    "\n",
    "<img src=\"../image/Screenshot 2021-07-22 165131.png\"/>\n",
    "\n",
    "<img src=\"../image/Screenshot 2021-07-22 165301.png\"/>\n",
    "\n",
    "<img src=\"../image/Screenshot 2021-07-22 165352.png\"/>"
   ]
  },
  {
   "cell_type": "code",
   "execution_count": null,
   "id": "0810b5db",
   "metadata": {},
   "outputs": [],
   "source": []
  },
  {
   "cell_type": "markdown",
   "id": "42b3189c",
   "metadata": {},
   "source": [
    "## 4. End of tail imputation\n",
    "\n",
    "<img src=\"../image/Screenshot 2021-07-22 170316.png\"/>\n",
    "\n",
    "<img src=\"../image/Screenshot 2021-07-22 170430.png\"/>"
   ]
  },
  {
   "cell_type": "code",
   "execution_count": null,
   "id": "f969ae41",
   "metadata": {},
   "outputs": [],
   "source": []
  },
  {
   "cell_type": "markdown",
   "id": "dd2312a2",
   "metadata": {},
   "source": [
    "# Category Variables\n",
    "\n",
    "## 1. Frequent category imputation\n",
    "\n",
    "\n",
    "<img src=\"../image/Screenshot 2021-07-22 171212.png\"/>\n",
    "\n",
    "<img src=\"../image/Screenshot 2021-07-22 171300.png\"/>\n",
    "\n",
    "<img src=\"../image/Screenshot 2021-07-22 171431.png\"/>"
   ]
  },
  {
   "cell_type": "code",
   "execution_count": null,
   "id": "ff9fa5f7",
   "metadata": {},
   "outputs": [],
   "source": []
  },
  {
   "cell_type": "markdown",
   "id": "ced30b6d",
   "metadata": {},
   "source": [
    "## 2. Missing category imputation\n",
    "\n",
    "<img src=\"../image/Screenshot 2021-07-22 171712.png\"/>"
   ]
  },
  {
   "cell_type": "code",
   "execution_count": null,
   "id": "41de8393",
   "metadata": {},
   "outputs": [],
   "source": []
  },
  {
   "cell_type": "markdown",
   "id": "26b1359f",
   "metadata": {},
   "source": [
    "# 3. Random sample imputation"
   ]
  },
  {
   "cell_type": "code",
   "execution_count": null,
   "id": "7496aa38",
   "metadata": {},
   "outputs": [],
   "source": []
  },
  {
   "cell_type": "markdown",
   "id": "c4f60c5a",
   "metadata": {},
   "source": [
    "# 4. Adding a missing indicator"
   ]
  },
  {
   "cell_type": "markdown",
   "id": "0be506d1",
   "metadata": {
    "ExecuteTime": {
     "end_time": "2021-07-24T13:55:31.872811Z",
     "start_time": "2021-07-24T13:55:31.865837Z"
    }
   },
   "source": [
    "<img src=\"../image/Screenshot 2021-07-24 205618.png\"/>\n",
    "\n",
    "<img src=\"../image/Screenshot 2021-07-24 205723.png\"/>\n",
    "\n",
    "<img src=\"../image/Screenshot 2021-07-24 205832.png\"/>"
   ]
  },
  {
   "cell_type": "code",
   "execution_count": null,
   "id": "7342d4df",
   "metadata": {},
   "outputs": [],
   "source": []
  }
 ],
 "metadata": {
  "kernelspec": {
   "display_name": "Pytorch (conda)",
   "language": "python",
   "name": "pytorch"
  },
  "language_info": {
   "codemirror_mode": {
    "name": "ipython",
    "version": 3
   },
   "file_extension": ".py",
   "mimetype": "text/x-python",
   "name": "python",
   "nbconvert_exporter": "python",
   "pygments_lexer": "ipython3",
   "version": "3.8.0"
  },
  "varInspector": {
   "cols": {
    "lenName": 16,
    "lenType": 16,
    "lenVar": 40
   },
   "kernels_config": {
    "python": {
     "delete_cmd_postfix": "",
     "delete_cmd_prefix": "del ",
     "library": "var_list.py",
     "varRefreshCmd": "print(var_dic_list())"
    },
    "r": {
     "delete_cmd_postfix": ") ",
     "delete_cmd_prefix": "rm(",
     "library": "var_list.r",
     "varRefreshCmd": "cat(var_dic_list()) "
    }
   },
   "types_to_exclude": [
    "module",
    "function",
    "builtin_function_or_method",
    "instance",
    "_Feature"
   ],
   "window_display": false
  }
 },
 "nbformat": 4,
 "nbformat_minor": 5
}
