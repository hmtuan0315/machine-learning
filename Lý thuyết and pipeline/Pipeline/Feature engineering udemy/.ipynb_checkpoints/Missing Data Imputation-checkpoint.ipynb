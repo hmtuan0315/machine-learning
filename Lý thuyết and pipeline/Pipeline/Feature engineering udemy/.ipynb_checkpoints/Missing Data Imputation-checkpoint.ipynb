{
 "cells": [
  {
   "cell_type": "markdown",
   "id": "c3288bfb",
   "metadata": {},
   "source": [
    "# Missing data imputation techniques\n",
    "\n",
    "<img src=\"../image/Screenshot 2021-07-22 155507.png\"/>\n",
    "\n",
    "<img src=\"../image/Screenshot 2021-07-22 155727.png\"/>"
   ]
  },
  {
   "cell_type": "markdown",
   "id": "418bb35e",
   "metadata": {},
   "source": [
    "# Continuous variables\n",
    "\n",
    "## 1. CCA\n",
    "- Complete-case analysis (CCA), also called \"list-wise deletion\" of cases, is about discarding observations (rows) \n",
    "\n",
    "<img src=\"../image/Screenshot 2021-07-22 160705.png\"/>\n",
    "\n",
    "<img src=\"../image/Screenshot 2021-07-22 160705.png\"/>\n",
    "\n",
    "<img src=\"../image/Screenshot 2021-07-22 160752.png\"/>"
   ]
  },
  {
   "cell_type": "code",
   "execution_count": null,
   "id": "8b4c805d",
   "metadata": {},
   "outputs": [],
   "source": []
  },
  {
   "cell_type": "markdown",
   "id": "0a39bd5d",
   "metadata": {},
   "source": [
    "## 2. Mean or Median imputation\n",
    "- When data is normal distribution, mean or median are the same\n",
    "- When data is skewed, the median is a better representation\n",
    "\n",
    "<img src=\"../image/Screenshot 2021-07-22 161932.png\"/>\n",
    "\n",
    "<img src=\"../image/Screenshot 2021-07-22 162037.png\"/>\n",
    "\n",
    "<img src=\"../image/Screenshot 2021-07-22 162209.png\"/>\n",
    "\n",
    "<img src=\"../image/Screenshot 2021-07-22 162432.png\"/>"
   ]
  },
  {
   "cell_type": "code",
   "execution_count": null,
   "id": "7725714c",
   "metadata": {},
   "outputs": [],
   "source": []
  },
  {
   "cell_type": "markdown",
   "id": "849bad45",
   "metadata": {
    "ExecuteTime": {
     "end_time": "2021-07-22T09:51:46.425390Z",
     "start_time": "2021-07-22T09:51:46.417393Z"
    }
   },
   "source": [
    "## 3. Arbitrary value imputation\n",
    "\n",
    "<img src=\"../image/Screenshot 2021-07-22 165131.png\"/>\n",
    "\n",
    "<img src=\"../image/Screenshot 2021-07-22 165301.png\"/>\n",
    "\n",
    "<img src=\"../image/Screenshot 2021-07-22 165352.png\"/>"
   ]
  },
  {
   "cell_type": "code",
   "execution_count": null,
   "id": "4407c2c9",
   "metadata": {},
   "outputs": [],
   "source": []
  },
  {
   "cell_type": "markdown",
   "id": "9263f7aa",
   "metadata": {},
   "source": [
    "## 4. End of tail imputation\n",
    "\n",
    "<img src=\"../image/Screenshot 2021-07-22 170316.png\"/>\n",
    "\n",
    "<img src=\"../image/Screenshot 2021-07-22 170430.png\"/>"
   ]
  },
  {
   "cell_type": "code",
   "execution_count": null,
   "id": "2fe8ec91",
   "metadata": {},
   "outputs": [],
   "source": []
  },
  {
   "cell_type": "markdown",
   "id": "6003dbf4",
   "metadata": {},
   "source": [
    "# Category Variables\n",
    "\n",
    "## 1. Frequent category imputation\n",
    "\n",
    "\n",
    "<img src=\"../image/Screenshot 2021-07-22 171212.png\"/>\n",
    "\n",
    "<img src=\"../image/Screenshot 2021-07-22 171300.png\"/>\n",
    "\n",
    "<img src=\"../image/Screenshot 2021-07-22 171431.png\"/>"
   ]
  },
  {
   "cell_type": "code",
   "execution_count": null,
   "id": "4827ad7a",
   "metadata": {},
   "outputs": [],
   "source": []
  },
  {
   "cell_type": "markdown",
   "id": "5c83186f",
   "metadata": {},
   "source": [
    "## 2. Missing category imputation\n",
    "\n",
    "<img src=\"../image/Screenshot 2021-07-22 171712.png\"/>"
   ]
  },
  {
   "cell_type": "code",
   "execution_count": null,
   "id": "a1741072",
   "metadata": {},
   "outputs": [],
   "source": []
  },
  {
   "cell_type": "markdown",
   "id": "285f2df0",
   "metadata": {},
   "source": [
    "# 3. Random sample imputation"
   ]
  },
  {
   "cell_type": "code",
   "execution_count": null,
   "id": "d7f635b0",
   "metadata": {},
   "outputs": [],
   "source": []
  }
 ],
 "metadata": {
  "kernelspec": {
   "display_name": "Pytorch (conda)",
   "language": "python",
   "name": "pytorch"
  },
  "language_info": {
   "codemirror_mode": {
    "name": "ipython",
    "version": 3
   },
   "file_extension": ".py",
   "mimetype": "text/x-python",
   "name": "python",
   "nbconvert_exporter": "python",
   "pygments_lexer": "ipython3",
   "version": "3.8.0"
  },
  "varInspector": {
   "cols": {
    "lenName": 16,
    "lenType": 16,
    "lenVar": 40
   },
   "kernels_config": {
    "python": {
     "delete_cmd_postfix": "",
     "delete_cmd_prefix": "del ",
     "library": "var_list.py",
     "varRefreshCmd": "print(var_dic_list())"
    },
    "r": {
     "delete_cmd_postfix": ") ",
     "delete_cmd_prefix": "rm(",
     "library": "var_list.r",
     "varRefreshCmd": "cat(var_dic_list()) "
    }
   },
   "types_to_exclude": [
    "module",
    "function",
    "builtin_function_or_method",
    "instance",
    "_Feature"
   ],
   "window_display": false
  }
 },
 "nbformat": 4,
 "nbformat_minor": 5
}
