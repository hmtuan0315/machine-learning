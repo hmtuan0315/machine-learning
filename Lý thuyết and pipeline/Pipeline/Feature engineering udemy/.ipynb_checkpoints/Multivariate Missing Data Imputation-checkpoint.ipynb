{
 "cells": [
  {
   "cell_type": "markdown",
   "id": "860b4589",
   "metadata": {},
   "source": [
    "# Multivariate Mising Data Imputation"
   ]
  },
  {
   "cell_type": "markdown",
   "id": "5b7ab261",
   "metadata": {
    "ExecuteTime": {
     "end_time": "2021-07-24T14:08:29.168524Z",
     "start_time": "2021-07-24T14:08:29.160523Z"
    }
   },
   "source": [
    "<img src=\"../image/Screenshot 2021-07-24 210706.png\"/>"
   ]
  },
  {
   "cell_type": "code",
   "execution_count": null,
   "id": "8274c57b",
   "metadata": {},
   "outputs": [],
   "source": []
  },
  {
   "cell_type": "markdown",
   "id": "205a732e",
   "metadata": {},
   "source": [
    "# 1. KNN Imputation"
   ]
  },
  {
   "cell_type": "markdown",
   "id": "f16bacc3",
   "metadata": {},
   "source": [
    "<img src=\"../image/Screenshot 2021-07-24 211347.png\"/>"
   ]
  },
  {
   "cell_type": "code",
   "execution_count": null,
   "id": "f2ce2c60",
   "metadata": {},
   "outputs": [],
   "source": [
    "<img src"
   ]
  }
 ],
 "metadata": {
  "kernelspec": {
   "display_name": "Pytorch (conda)",
   "language": "python",
   "name": "pytorch"
  },
  "language_info": {
   "codemirror_mode": {
    "name": "ipython",
    "version": 3
   },
   "file_extension": ".py",
   "mimetype": "text/x-python",
   "name": "python",
   "nbconvert_exporter": "python",
   "pygments_lexer": "ipython3",
   "version": "3.8.0"
  },
  "varInspector": {
   "cols": {
    "lenName": 16,
    "lenType": 16,
    "lenVar": 40
   },
   "kernels_config": {
    "python": {
     "delete_cmd_postfix": "",
     "delete_cmd_prefix": "del ",
     "library": "var_list.py",
     "varRefreshCmd": "print(var_dic_list())"
    },
    "r": {
     "delete_cmd_postfix": ") ",
     "delete_cmd_prefix": "rm(",
     "library": "var_list.r",
     "varRefreshCmd": "cat(var_dic_list()) "
    }
   },
   "types_to_exclude": [
    "module",
    "function",
    "builtin_function_or_method",
    "instance",
    "_Feature"
   ],
   "window_display": false
  }
 },
 "nbformat": 4,
 "nbformat_minor": 5
}
