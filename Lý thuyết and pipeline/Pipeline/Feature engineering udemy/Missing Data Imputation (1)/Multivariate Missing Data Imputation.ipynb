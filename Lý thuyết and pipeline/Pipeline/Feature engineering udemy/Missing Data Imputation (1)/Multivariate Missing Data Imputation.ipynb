{
 "cells": [
  {
   "cell_type": "markdown",
   "id": "208381f9",
   "metadata": {},
   "source": [
    "# Multivariate Mising Data Imputation"
   ]
  },
  {
   "cell_type": "markdown",
   "id": "36759680",
   "metadata": {
    "ExecuteTime": {
     "end_time": "2021-07-24T14:08:29.168524Z",
     "start_time": "2021-07-24T14:08:29.160523Z"
    }
   },
   "source": [
    "<img src=\"../image/Screenshot 2021-07-24 210706.png\"/>"
   ]
  },
  {
   "cell_type": "code",
   "execution_count": null,
   "id": "fc493138",
   "metadata": {},
   "outputs": [],
   "source": []
  },
  {
   "cell_type": "markdown",
   "id": "98cfaa61",
   "metadata": {},
   "source": [
    "# 1. KNN Imputation"
   ]
  },
  {
   "cell_type": "markdown",
   "id": "7e696562",
   "metadata": {},
   "source": [
    "<img src=\"../image/Screenshot 2021-07-24 211347.png\"/>"
   ]
  },
  {
   "cell_type": "code",
   "execution_count": null,
   "id": "48744605",
   "metadata": {},
   "outputs": [],
   "source": []
  },
  {
   "cell_type": "markdown",
   "id": "6c6d567f",
   "metadata": {},
   "source": [
    "# 2. MICE (Multivariate Imputation of Chained Equations)"
   ]
  },
  {
   "cell_type": "code",
   "execution_count": null,
   "id": "4c9a77d4",
   "metadata": {},
   "outputs": [],
   "source": []
  },
  {
   "cell_type": "markdown",
   "id": "fd18ba76",
   "metadata": {},
   "source": [
    "# 3. MissForest"
   ]
  },
  {
   "cell_type": "code",
   "execution_count": null,
   "id": "8c6eb625",
   "metadata": {},
   "outputs": [],
   "source": []
  }
 ],
 "metadata": {
  "kernelspec": {
   "display_name": "Pytorch (conda)",
   "language": "python",
   "name": "pytorch"
  },
  "language_info": {
   "codemirror_mode": {
    "name": "ipython",
    "version": 3
   },
   "file_extension": ".py",
   "mimetype": "text/x-python",
   "name": "python",
   "nbconvert_exporter": "python",
   "pygments_lexer": "ipython3",
   "version": "3.8.0"
  },
  "varInspector": {
   "cols": {
    "lenName": 16,
    "lenType": 16,
    "lenVar": 40
   },
   "kernels_config": {
    "python": {
     "delete_cmd_postfix": "",
     "delete_cmd_prefix": "del ",
     "library": "var_list.py",
     "varRefreshCmd": "print(var_dic_list())"
    },
    "r": {
     "delete_cmd_postfix": ") ",
     "delete_cmd_prefix": "rm(",
     "library": "var_list.r",
     "varRefreshCmd": "cat(var_dic_list()) "
    }
   },
   "types_to_exclude": [
    "module",
    "function",
    "builtin_function_or_method",
    "instance",
    "_Feature"
   ],
   "window_display": false
  }
 },
 "nbformat": 4,
 "nbformat_minor": 5
}
