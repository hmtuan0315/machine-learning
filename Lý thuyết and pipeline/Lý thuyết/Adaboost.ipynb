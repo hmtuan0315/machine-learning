{
 "cells": [
  {
   "cell_type": "markdown",
   "id": "1dfca38c",
   "metadata": {},
   "source": [
    "# Adaboost"
   ]
  },
  {
   "cell_type": "markdown",
   "id": "05774b3f",
   "metadata": {},
   "source": [
    "**Instead of making full size of tree like decision tree, the tree in adaboost is just 1 node and 2 leafs called stumps (weak learner)**\n",
    "\n",
    "**the next tree is builded based on the error of the previous tree**"
   ]
  },
  {
   "cell_type": "markdown",
   "id": "ad590843",
   "metadata": {},
   "source": [
    "## How to calculate:\n",
    "    "
   ]
  },
  {
   "cell_type": "markdown",
   "id": "8b37681e",
   "metadata": {},
   "source": [
    "**Initialize sample weights for all rows (samples) in dataset, ie: if dataset has 8 rows, the initialized weight for each sample is 1/8**"
   ]
  },
  {
   "cell_type": "markdown",
   "id": "c376c5c1",
   "metadata": {
    "ExecuteTime": {
     "end_time": "2021-07-01T05:20:52.084383Z",
     "start_time": "2021-07-01T05:20:52.076362Z"
    }
   },
   "source": [
    " <img src=\"./ml_lý_thuyết/initialize_weight.png\">"
   ]
  },
  {
   "cell_type": "markdown",
   "id": "034cdd5f",
   "metadata": {},
   "source": [
    "**Next, we choose the first stump by using gini index**"
   ]
  },
  {
   "cell_type": "markdown",
   "id": "a6326bc4",
   "metadata": {
    "ExecuteTime": {
     "end_time": "2021-07-01T07:54:13.458385Z",
     "start_time": "2021-07-01T07:54:13.452436Z"
    }
   },
   "source": [
    "<img src=\"./ml_lý_thuyết/Screenshot 2021-07-01 145344.png\">"
   ]
  },
  {
   "cell_type": "markdown",
   "id": "3bc4a951",
   "metadata": {},
   "source": [
    "**Then calculate total error in this stump**"
   ]
  },
  {
   "cell_type": "markdown",
   "id": "1e55fb32",
   "metadata": {},
   "source": [
    "**we use the total error to determine [amount of say](how stump influence) to the final classification\n",
    "\tAmount of say = 1/2 log((1 - total err) / total err)**\n",
    "\n",
    "**If amount of say near to 1, that means the stump makes the terrible job, and vice versa when it near to 0.**"
   ]
  },
  {
   "cell_type": "markdown",
   "id": "1d80a599",
   "metadata": {
    "ExecuteTime": {
     "end_time": "2021-07-01T08:01:04.319259Z",
     "start_time": "2021-07-01T08:01:04.298211Z"
    }
   },
   "source": [
    "<img src=\"./ml_lý_thuyết/Screenshot 2021-07-01 150045.png\">"
   ]
  },
  {
   "cell_type": "markdown",
   "id": "eddea2fc",
   "metadata": {
    "ExecuteTime": {
     "end_time": "2021-07-01T08:02:20.343237Z",
     "start_time": "2021-07-01T08:02:20.327239Z"
    }
   },
   "source": [
    "<img src=\"./ml_lý_thuyết/Screenshot 2021-07-01 150202.png\">"
   ]
  },
  {
   "cell_type": "markdown",
   "id": "ec61284e",
   "metadata": {},
   "source": [
    "**new sample weight = sample weight x e^-amount of say**"
   ]
  },
  {
   "cell_type": "markdown",
   "id": "e3241473",
   "metadata": {},
   "source": [
    "<img src=\"./ml_lý_thuyết/Screenshot 2021-07-01 150325.png\">"
   ]
  },
  {
   "cell_type": "markdown",
   "id": "1a09b413",
   "metadata": {},
   "source": [
    "**normalise to make sum of all sample weight to be 1, then we create range for randomization, 0.7, 0.14, 0.63,...**\n",
    "\n",
    "**we make a new collection is same size as the original by using the random number to choose sample**"
   ]
  },
  {
   "cell_type": "markdown",
   "id": "4999afdb",
   "metadata": {},
   "source": [
    "<img src=\"./ml_lý_thuyết/Screenshot 2021-07-01 150527.png\">"
   ]
  },
  {
   "cell_type": "markdown",
   "id": "1ee2fe96",
   "metadata": {
    "ExecuteTime": {
     "end_time": "2021-07-01T08:06:50.415310Z",
     "start_time": "2021-07-01T08:06:50.403329Z"
    }
   },
   "source": [
    "<img src=\"./ml_lý_thuyết/Screenshot 2021-07-01 150630.png\">"
   ]
  },
  {
   "cell_type": "markdown",
   "id": "9e5debad",
   "metadata": {},
   "source": [
    "**Then we repeat the steps that choose the stump by gini index, and re-initialize weight for new collection**"
   ]
  },
  {
   "cell_type": "markdown",
   "id": "28be528d",
   "metadata": {
    "ExecuteTime": {
     "end_time": "2021-07-01T08:08:58.431337Z",
     "start_time": "2021-07-01T08:08:58.423337Z"
    }
   },
   "source": [
    "<img src=\"./ml_lý_thuyết/Screenshot 2021-07-01 150820.png\">"
   ]
  },
  {
   "cell_type": "markdown",
   "id": "e328afe8",
   "metadata": {},
   "source": [
    "**To predict, group all stumps that predict is 1 and calculate sum of amount of say in this group**"
   ]
  },
  {
   "cell_type": "markdown",
   "id": "655edbfd",
   "metadata": {
    "ExecuteTime": {
     "end_time": "2021-07-01T08:10:23.475106Z",
     "start_time": "2021-07-01T08:10:23.456129Z"
    }
   },
   "source": [
    "<img src=\"./ml_lý_thuyết/Screenshot 2021-07-01 151004.png\">"
   ]
  },
  {
   "cell_type": "code",
   "execution_count": null,
   "id": "2ddc0ce5",
   "metadata": {},
   "outputs": [],
   "source": []
  },
  {
   "cell_type": "markdown",
   "id": "6dc62761",
   "metadata": {},
   "source": [
    "# pros:\n",
    "\n",
    "**One of the many advantages of the AdaBoost Algorithm is it is fast, simple and easy to program. Also, it has the flexibility to be combined with any machine learning algorithm, and there is no need to tune the parameters except for T. It has been extended to learning problems beyond binary classification, and it is versatile as it can be used with text or numeric data.**"
   ]
  },
  {
   "cell_type": "markdown",
   "id": "df8f39be",
   "metadata": {},
   "source": [
    "# cons:\n",
    "\n",
    "**AdaBoost also has few disadvantages, such as it is from empirical evidence and particularly vulnerable to uniform noise. Weak classifiers being too weak can lead to low margins and overfitting.**"
   ]
  },
  {
   "cell_type": "code",
   "execution_count": null,
   "id": "bc78ced1",
   "metadata": {},
   "outputs": [],
   "source": []
  }
 ],
 "metadata": {
  "kernelspec": {
   "display_name": "Pytorch (conda)",
   "language": "python",
   "name": "pytorch"
  },
  "language_info": {
   "codemirror_mode": {
    "name": "ipython",
    "version": 3
   },
   "file_extension": ".py",
   "mimetype": "text/x-python",
   "name": "python",
   "nbconvert_exporter": "python",
   "pygments_lexer": "ipython3",
   "version": "3.8.0"
  },
  "varInspector": {
   "cols": {
    "lenName": 16,
    "lenType": 16,
    "lenVar": 40
   },
   "kernels_config": {
    "python": {
     "delete_cmd_postfix": "",
     "delete_cmd_prefix": "del ",
     "library": "var_list.py",
     "varRefreshCmd": "print(var_dic_list())"
    },
    "r": {
     "delete_cmd_postfix": ") ",
     "delete_cmd_prefix": "rm(",
     "library": "var_list.r",
     "varRefreshCmd": "cat(var_dic_list()) "
    }
   },
   "types_to_exclude": [
    "module",
    "function",
    "builtin_function_or_method",
    "instance",
    "_Feature"
   ],
   "window_display": false
  }
 },
 "nbformat": 4,
 "nbformat_minor": 5
}
