{
 "cells": [
  {
   "cell_type": "markdown",
   "id": "52d6b68e",
   "metadata": {},
   "source": [
    "# Ridge Regression"
   ]
  },
  {
   "cell_type": "markdown",
   "id": "75884879",
   "metadata": {},
   "source": [
    "**the traditional regression method is to try to minimize sum of the squared residuals while the ridge regression tries to minimize (sum of the squared residuals + lamda*slope^2)**"
   ]
  },
  {
   "cell_type": "markdown",
   "id": "ba0edbc3",
   "metadata": {
    "ExecuteTime": {
     "end_time": "2021-07-03T04:15:02.891624Z",
     "start_time": "2021-07-03T04:15:02.883608Z"
    }
   },
   "source": [
    " <img src=\"./ml_lý_thuyết/Screenshot 2021-07-03 111710.png\">"
   ]
  },
  {
   "cell_type": "markdown",
   "id": "2c926e17",
   "metadata": {
    "ExecuteTime": {
     "end_time": "2021-07-03T04:18:18.236539Z",
     "start_time": "2021-07-03T04:18:18.224559Z"
    }
   },
   "source": [
    " <img src=\"./ml_lý_thuyết/Screenshot 2021-07-03 111804.png\">"
   ]
  },
  {
   "cell_type": "code",
   "execution_count": null,
   "id": "8630c8b8",
   "metadata": {},
   "outputs": [],
   "source": [
    "without the penalty, thee least squares fit has a large amount of variance"
   ]
  }
 ],
 "metadata": {
  "kernelspec": {
   "display_name": "Pytorch (conda)",
   "language": "python",
   "name": "pytorch"
  },
  "language_info": {
   "codemirror_mode": {
    "name": "ipython",
    "version": 3
   },
   "file_extension": ".py",
   "mimetype": "text/x-python",
   "name": "python",
   "nbconvert_exporter": "python",
   "pygments_lexer": "ipython3",
   "version": "3.8.0"
  },
  "varInspector": {
   "cols": {
    "lenName": 16,
    "lenType": 16,
    "lenVar": 40
   },
   "kernels_config": {
    "python": {
     "delete_cmd_postfix": "",
     "delete_cmd_prefix": "del ",
     "library": "var_list.py",
     "varRefreshCmd": "print(var_dic_list())"
    },
    "r": {
     "delete_cmd_postfix": ") ",
     "delete_cmd_prefix": "rm(",
     "library": "var_list.r",
     "varRefreshCmd": "cat(var_dic_list()) "
    }
   },
   "types_to_exclude": [
    "module",
    "function",
    "builtin_function_or_method",
    "instance",
    "_Feature"
   ],
   "window_display": false
  }
 },
 "nbformat": 4,
 "nbformat_minor": 5
}
