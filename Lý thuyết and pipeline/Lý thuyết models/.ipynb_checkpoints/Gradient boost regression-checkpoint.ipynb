{
 "cells": [
  {
   "cell_type": "markdown",
   "id": "8ee6135a",
   "metadata": {},
   "source": [
    "# Gradient Boost"
   ]
  },
  {
   "cell_type": "markdown",
   "id": "45bf537f",
   "metadata": {},
   "source": [
    "**Instead of building a very short tree like adaboost, gradient boost starts by making a single leaf. The leaf represents an initial guess for the target of all of the samples**\n",
    "\n",
    "**i.e, when trying to predict a continuos value like \"Weight\", the first guess is the average value. Then gradient boost build the tree. But unlike adaboost, this tree is usually larger than a stump**"
   ]
  },
  {
   "cell_type": "markdown",
   "id": "5d1cfdc3",
   "metadata": {},
   "source": [
    " <img src=\"./ml_lý_thuyết/Screenshot 2021-07-01 161417.png\">"
   ]
  },
  {
   "cell_type": "markdown",
   "id": "0a9e0dca",
   "metadata": {},
   "source": [
    "**In practice, people often set the maximum number of leaves to be between 8 and 32**"
   ]
  },
  {
   "cell_type": "markdown",
   "id": "465877fa",
   "metadata": {},
   "source": [
    "# How to calculate"
   ]
  },
  {
   "cell_type": "markdown",
   "id": "66d74649",
   "metadata": {},
   "source": [
    "**First, create a leaf that is the first guess of tree, we set it to be the average of \"Weight\"**"
   ]
  },
  {
   "cell_type": "markdown",
   "id": "3b55e628",
   "metadata": {
    "ExecuteTime": {
     "end_time": "2021-07-01T10:10:13.803029Z",
     "start_time": "2021-07-01T10:10:13.786019Z"
    }
   },
   "source": [
    " <img src=\"./ml_lý_thuyết/Screenshot 2021-07-01 170944.png\">"
   ]
  },
  {
   "cell_type": "markdown",
   "id": "59cbb155",
   "metadata": {},
   "source": [
    "**Then, calculate the residual between actual value and average weight(guess). After that, we build a tree using features in dataset to predict residuals**"
   ]
  },
  {
   "cell_type": "markdown",
   "id": "cadf0a6d",
   "metadata": {},
   "source": [
    " <img src=\"./ml_lý_thuyết/Screenshot 2021-07-01 180018.png\">"
   ]
  },
  {
   "cell_type": "markdown",
   "id": "5616487b",
   "metadata": {
    "ExecuteTime": {
     "end_time": "2021-07-01T11:02:41.399737Z",
     "start_time": "2021-07-01T11:02:41.385739Z"
    }
   },
   "source": [
    " <img src=\"./ml_lý_thuyết/Screenshot 2021-07-01 180203.png\">"
   ]
  },
  {
   "cell_type": "markdown",
   "id": "65e23f5a",
   "metadata": {},
   "source": [
    "**If web add the average weigth with the residual, the predicted data fits too well. Then we predict the \"Weight\" by adding average weigth with alpha*residual**"
   ]
  },
  {
   "cell_type": "markdown",
   "id": "6adfc334",
   "metadata": {
    "ExecuteTime": {
     "end_time": "2021-07-01T13:55:09.408526Z",
     "start_time": "2021-07-01T13:55:09.394500Z"
    }
   },
   "source": [
    " <img src=\"./ml_lý_thuyết/Screenshot 2021-07-01 180838.png\">"
   ]
  },
  {
   "cell_type": "markdown",
   "id": "e37d41a5",
   "metadata": {},
   "source": [
    "**Then we repeat calculating the residual for new tree, using the lastest predicted value**"
   ]
  },
  {
   "cell_type": "markdown",
   "id": "fdfbe239",
   "metadata": {},
   "source": [
    " <img src=\"./ml_lý_thuyết/Screenshot 2021-07-01 211355.png\">"
   ]
  },
  {
   "cell_type": "markdown",
   "id": "1bfe1625",
   "metadata": {},
   "source": [
    "**to predict value, we sum the average weigth with all residual value**"
   ]
  },
  {
   "cell_type": "markdown",
   "id": "718cb774",
   "metadata": {},
   "source": [
    " <img src=\"./ml_lý_thuyết/Screenshot 2021-07-01 211516.png\">"
   ]
  },
  {
   "cell_type": "code",
   "execution_count": null,
   "id": "f9164df5",
   "metadata": {},
   "outputs": [],
   "source": []
  }
 ],
 "metadata": {
  "kernelspec": {
   "display_name": "Pytorch (conda)",
   "language": "python",
   "name": "pytorch"
  },
  "language_info": {
   "codemirror_mode": {
    "name": "ipython",
    "version": 3
   },
   "file_extension": ".py",
   "mimetype": "text/x-python",
   "name": "python",
   "nbconvert_exporter": "python",
   "pygments_lexer": "ipython3",
   "version": "3.8.0"
  },
  "varInspector": {
   "cols": {
    "lenName": 16,
    "lenType": 16,
    "lenVar": 40
   },
   "kernels_config": {
    "python": {
     "delete_cmd_postfix": "",
     "delete_cmd_prefix": "del ",
     "library": "var_list.py",
     "varRefreshCmd": "print(var_dic_list())"
    },
    "r": {
     "delete_cmd_postfix": ") ",
     "delete_cmd_prefix": "rm(",
     "library": "var_list.r",
     "varRefreshCmd": "cat(var_dic_list()) "
    }
   },
   "types_to_exclude": [
    "module",
    "function",
    "builtin_function_or_method",
    "instance",
    "_Feature"
   ],
   "window_display": false
  }
 },
 "nbformat": 4,
 "nbformat_minor": 5
}
