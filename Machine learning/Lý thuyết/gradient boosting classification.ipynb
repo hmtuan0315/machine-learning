{
 "cells": [
  {
   "cell_type": "markdown",
   "id": "ea3739d9",
   "metadata": {},
   "source": [
    "# Gradient boosting classification"
   ]
  },
  {
   "cell_type": "markdown",
   "id": "4f68bd77",
   "metadata": {},
   "source": [
    "**when we use gradient boost for classification, the initial guess in leaf is thee log(odds) (equivalent to the average value in gr boosting in regession)**"
   ]
  },
  {
   "cell_type": "markdown",
   "id": "8240776d",
   "metadata": {
    "ExecuteTime": {
     "end_time": "2021-07-02T14:28:11.393637Z",
     "start_time": "2021-07-02T14:28:11.374616Z"
    }
   },
   "source": [
    "**Calculate the log(odds)**"
   ]
  },
  {
   "cell_type": "markdown",
   "id": "9108539e",
   "metadata": {
    "ExecuteTime": {
     "end_time": "2021-07-02T14:29:14.489947Z",
     "start_time": "2021-07-02T14:29:14.478932Z"
    }
   },
   "source": [
    " <img src=\"./ml_lý_thuyết/Screenshot 2021-07-02 212833.png\">"
   ]
  },
  {
   "cell_type": "markdown",
   "id": "3e60177a",
   "metadata": {},
   "source": [
    "**so the log(odds below) is the value in the green block**"
   ]
  },
  {
   "cell_type": "markdown",
   "id": "24c9a742",
   "metadata": {},
   "source": [
    " <img src=\"./ml_lý_thuyết/Screenshot 2021-07-02 213111.png\">"
   ]
  },
  {
   "cell_type": "markdown",
   "id": "5649793a",
   "metadata": {},
   "source": [
    "**now we calculate the residual based on log(odds)**"
   ]
  },
  {
   "cell_type": "markdown",
   "id": "fd4d00ad",
   "metadata": {
    "ExecuteTime": {
     "end_time": "2021-07-02T14:33:54.040552Z",
     "start_time": "2021-07-02T14:33:54.022587Z"
    }
   },
   "source": [
    " <img src=\"./ml_lý_thuyết/Screenshot 2021-07-02 213338.png\">"
   ]
  },
  {
   "cell_type": "markdown",
   "id": "b1fe9aad",
   "metadata": {},
   "source": [
    "**now we build a tree, using features in dataset to predict the residuals**"
   ]
  },
  {
   "cell_type": "markdown",
   "id": "7a7929e3",
   "metadata": {},
   "source": [
    " <img src=\"./ml_lý_thuyết/Screenshot 2021-07-02 213639.png\">"
   ]
  },
  {
   "cell_type": "markdown",
   "id": "d2eb880a",
   "metadata": {},
   "source": [
    "**cause the predictions are in terms of the log(odds), then we must transform before sum**"
   ]
  },
  {
   "cell_type": "markdown",
   "id": "57d77418",
   "metadata": {},
   "source": [
    " <img src=\"./ml_lý_thuyết/Screenshot 2021-07-02 214102.png\">"
   ]
  },
  {
   "cell_type": "markdown",
   "id": "a9f621d2",
   "metadata": {},
   "source": [
    " <img src=\"./ml_lý_thuyết/Screenshot 2021-07-02 214228.png\">"
   ]
  },
  {
   "cell_type": "markdown",
   "id": "ed281538",
   "metadata": {},
   "source": [
    "**Then we calculate the prediction**"
   ]
  },
  {
   "cell_type": "markdown",
   "id": "031586e1",
   "metadata": {
    "ExecuteTime": {
     "end_time": "2021-07-02T14:45:44.207538Z",
     "start_time": "2021-07-02T14:45:44.187536Z"
    }
   },
   "source": [
    "**first, calculate the log(odds)**\n",
    "\n",
    "<img src=\"./ml_lý_thuyết/Screenshot 2021-07-02 214521.png\">"
   ]
  },
  {
   "cell_type": "markdown",
   "id": "9fcf1006",
   "metadata": {},
   "source": [
    "**Then calulate the prediction for the first tree**\n",
    "\n",
    " <img src=\"./ml_lý_thuyết/Screenshot 2021-07-02 214655.png\">"
   ]
  },
  {
   "cell_type": "markdown",
   "id": "f1fb458f",
   "metadata": {},
   "source": [
    "**Then repeat steps for the new tree**"
   ]
  },
  {
   "cell_type": "markdown",
   "id": "cb648554",
   "metadata": {},
   "source": [
    "**To predict for new data:**"
   ]
  },
  {
   "cell_type": "markdown",
   "id": "a07a6bcc",
   "metadata": {
    "ExecuteTime": {
     "end_time": "2021-07-02T14:50:28.698317Z",
     "start_time": "2021-07-02T14:50:28.679323Z"
    }
   },
   "source": [
    " <img src=\"./ml_lý_thuyết/Screenshot 2021-07-02 215015.png\">"
   ]
  },
  {
   "cell_type": "markdown",
   "id": "d11c88e8",
   "metadata": {},
   "source": [
    "# Pros and cons:\n",
    "\n",
    "**Results better than random forest, but it are prone to overfitting and take more time to train**\n",
    "\n",
    "**Gradient Boosted Methods generally have 3 parameters to train shrinkage parameter, depth of tree, number of trees. Now each of these parameters should be tuned to get a good fit. And you cannot just take maximum value of ntree in this case as GBM can overfit fit higher number of trees. But if you are able to use correct tuning parameters, they generally give somewhat better results than Random Forests**\n",
    "\n",
    "**So Gradient based methods generally giv better results but they are harder to fit than Random Forests.**"
   ]
  },
  {
   "cell_type": "code",
   "execution_count": null,
   "id": "33a16efa",
   "metadata": {},
   "outputs": [],
   "source": []
  }
 ],
 "metadata": {
  "kernelspec": {
   "display_name": "Pytorch (conda)",
   "language": "python",
   "name": "pytorch"
  },
  "language_info": {
   "codemirror_mode": {
    "name": "ipython",
    "version": 3
   },
   "file_extension": ".py",
   "mimetype": "text/x-python",
   "name": "python",
   "nbconvert_exporter": "python",
   "pygments_lexer": "ipython3",
   "version": "3.8.0"
  },
  "varInspector": {
   "cols": {
    "lenName": 16,
    "lenType": 16,
    "lenVar": 40
   },
   "kernels_config": {
    "python": {
     "delete_cmd_postfix": "",
     "delete_cmd_prefix": "del ",
     "library": "var_list.py",
     "varRefreshCmd": "print(var_dic_list())"
    },
    "r": {
     "delete_cmd_postfix": ") ",
     "delete_cmd_prefix": "rm(",
     "library": "var_list.r",
     "varRefreshCmd": "cat(var_dic_list()) "
    }
   },
   "types_to_exclude": [
    "module",
    "function",
    "builtin_function_or_method",
    "instance",
    "_Feature"
   ],
   "window_display": false
  }
 },
 "nbformat": 4,
 "nbformat_minor": 5
}
