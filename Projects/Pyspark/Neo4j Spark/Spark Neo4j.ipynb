{
 "cells": [
  {
   "cell_type": "markdown",
   "id": "a442ed1d",
   "metadata": {},
   "source": [
    "# Kết nối tới neo4j bằng pyspark"
   ]
  },
  {
   "cell_type": "markdown",
   "id": "4622a1b6",
   "metadata": {
    "ExecuteTime": {
     "end_time": "2021-08-30T06:44:21.982464Z",
     "start_time": "2021-08-30T06:44:21.976464Z"
    }
   },
   "source": [
    "## Ta sử dụng spark neo4j connector : [Link documentation](https://neo4j.com/developer/spark/overview/)\n"
   ]
  },
  {
   "cell_type": "markdown",
   "id": "edd197de",
   "metadata": {},
   "source": [
    "## Hướng dẫn cách cài đặt và sử dụng:\n",
    "### 1) Tải pyspark thông qua pip hoặc conda\n",
    "### 2) Cài đặt Apache Spark. \n",
    "### 3) Tải connector file (jar file)\n",
    "- Đối với spark 3+ thì ta tải file *neo4j-connector-apache-spark_2.12-4.0.1_for_spark_3.jar\"*\n",
    "\n",
    "<img src='./image/Screenshot 2021-08-30 135735.png'/>"
   ]
  },
  {
   "cell_type": "markdown",
   "id": "816a7d1a",
   "metadata": {},
   "source": [
    "### 4) configure spark để kết nối tới neo4j\n",
    "- Ở dòng code dưới, phần config(param1, param2) thì param1 = \"spark.jars\", còn param2 là đường dẫn tới file jar vừa tải"
   ]
  },
  {
   "cell_type": "code",
   "execution_count": 1,
   "id": "b6cca76f",
   "metadata": {
    "ExecuteTime": {
     "end_time": "2021-08-30T07:29:31.472300Z",
     "start_time": "2021-08-30T07:29:07.981573Z"
    }
   },
   "outputs": [],
   "source": [
    "from pyspark.sql import SparkSession\n",
    "\n",
    "spark = SparkSession.builder.config(\"spark.jars\", \"neo4j-connector-apache-spark_2.12-4.0.1_for_spark_3.jar\").getOrCreate()"
   ]
  },
  {
   "cell_type": "code",
   "execution_count": null,
   "id": "bdacdf64",
   "metadata": {},
   "outputs": [],
   "source": []
  },
  {
   "cell_type": "markdown",
   "id": "d53efb5a",
   "metadata": {},
   "source": [
    "\n",
    "\n",
    "## Connector Options & Configuration"
   ]
  },
  {
   "cell_type": "markdown",
   "id": "bdfe1229",
   "metadata": {},
   "source": [
    " *.option(\"url\", \"bolt://localhost:7687\")* **Kết nối tới neo4j database đang hoạt động** <br>\n",
    " \n",
    " *.option(\"authentication.type\", \"basic\")* **Sử dụng basic authentication với username hoặc password. Ngoài ra còn có 1**\n",
    " \n",
    " **số phương thực authenticate khác như Kerberos hay custom authentication** <br>\n",
    "  \n",
    " *.option(\"authentication.basic.username\", \"neo4j\")* **Nhập username của database** <br>\n",
    " \n",
    " *.option(\"authentication.basic.password\", \"123456\")\\* **Nhập password của database** <br>\n",
    " \n",
    "\n"
   ]
  },
  {
   "cell_type": "code",
   "execution_count": null,
   "id": "61101da9",
   "metadata": {},
   "outputs": [],
   "source": []
  },
  {
   "cell_type": "markdown",
   "id": "87a6f72c",
   "metadata": {
    "ExecuteTime": {
     "end_time": "2021-08-30T07:23:24.360324Z",
     "start_time": "2021-08-30T07:23:24.353355Z"
    }
   },
   "source": [
    "## Read from Neo4j\n",
    "- ### Dùng lệnh spark.read.format() để đọc dữ liệu từ neo4j\n",
    "- ### Ở ví dụ dưới là câu lệnh lấy nodes có labels là Person: <br>\n",
    " \n",
    "     - *option(\"labels\", \"Persion\")*: **Lấy những nodes có labels là Person**"
   ]
  },
  {
   "cell_type": "code",
   "execution_count": 9,
   "id": "20a8930b",
   "metadata": {
    "ExecuteTime": {
     "end_time": "2021-08-30T07:33:04.186981Z",
     "start_time": "2021-08-30T07:33:03.143539Z"
    },
    "scrolled": true
   },
   "outputs": [
    {
     "name": "stdout",
     "output_type": "stream",
     "text": [
      "+----+--------+--------------------+-------------+\n",
      "|<id>|<labels>|               title|imdb_title_id|\n",
      "+----+--------+--------------------+-------------+\n",
      "|   0|[Person]|Tarp musu, mergaiciu|    tt9591082|\n",
      "|   1|[Person]|           So Pretty|    tt9595506|\n",
      "|   2|[Person]|           Da ren wu|    tt9596638|\n",
      "|   3|[Person]|   Fei chi ren sheng|    tt9597190|\n",
      "|   4|[Person]|    Spasti Leningrad|    tt9598172|\n",
      "+----+--------+--------------------+-------------+\n",
      "\n"
     ]
    }
   ],
   "source": [
    "df = spark.read.format(\"org.neo4j.spark.DataSource\")\\\n",
    " .option(\"url\", \"bolt://localhost:7687\")\\\n",
    " .option(\"authentication.type\", \"basic\")\\\n",
    " .option(\"authentication.basic.username\", \"neo4j\")\\\n",
    " .option(\"authentication.basic.password\", \"123456\")\\\n",
    " .option(\"labels\", \"Person\")\\\n",
    " .load()\n",
    "df.limit(5).show()\n"
   ]
  },
  {
   "cell_type": "markdown",
   "id": "f9655d8b",
   "metadata": {},
   "source": [
    "### Ngoài ra, ta có thể sử dụng custom query để thực hiện truy vấn \n",
    "**Bằng cách dùng** *Option(\"query\", your_query)*\n",
    "<img src='./image/Screenshot 2021-08-30 143654.png'/>"
   ]
  },
  {
   "cell_type": "markdown",
   "id": "55c40935",
   "metadata": {},
   "source": [
    "## Để thuận tiện cho việc test, ta tạo 2 dataframe đơn giản"
   ]
  },
  {
   "cell_type": "code",
   "execution_count": 24,
   "id": "2607a929",
   "metadata": {
    "ExecuteTime": {
     "end_time": "2021-08-30T08:15:42.921670Z",
     "start_time": "2021-08-30T08:15:42.850703Z"
    }
   },
   "outputs": [],
   "source": [
    "df_P = spark.createDataFrame(\n",
    " [(1, \"John\", 2),(2, \"Tuan\", 1)],\n",
    " [\"actor_id\", \"name\", \"movie_id_acted\"]\n",
    ")\n",
    "\n",
    "df_M = spark.createDataFrame(\n",
    " [(1, \"Avatar\"),(2, \"Get out\")],\n",
    " [\"movie_id\", \"title\"]\n",
    ")\n"
   ]
  },
  {
   "cell_type": "markdown",
   "id": "ee22442d",
   "metadata": {},
   "source": [
    "## Fucntion check_valid_string() dùng để kiểm tra tính hợp lệ của 1 string. \n",
    "- Ví dụ như khi tạo 1 node ta phải đặt tên labels của node đấy. Nếu người dùng đặt tên labels không hợp lệ như cho giá trị là Null thì tất nhiên cypher query để khởi tạo node sẽ bị lỗi. Vậy nên ta cần phải có hàm kiểm tra đầu vào của các parameter\n",
    "- Nếu ta tạo web và để người dùng nhập input tại web, ta có thể kiểm soát input của người dùng. Tuy nhiên nếu người dùng sử dụng api để gọi hàm, thì ta không thể kiểm soát được là người dùng sẽ nhập gì. Vậy nên có 1 hàm validator để đảm bảo input được hợp lệ."
   ]
  },
  {
   "cell_type": "code",
   "execution_count": 13,
   "id": "f1600c9b",
   "metadata": {
    "ExecuteTime": {
     "end_time": "2021-08-30T07:59:47.758369Z",
     "start_time": "2021-08-30T07:59:47.739408Z"
    }
   },
   "outputs": [
    {
     "data": {
      "text/plain": [
       "(False, 'Your input is not string')"
      ]
     },
     "execution_count": 13,
     "metadata": {},
     "output_type": "execute_result"
    }
   ],
   "source": [
    "def check_valid_string(text):\n",
    "    if type(text) is str:\n",
    "        if len(text) > 0 :\n",
    "            return True, \"Success\"\n",
    "        return False, \"String should have its length > 0\"\n",
    "    return False, \"Your input is not string\"\n",
    "check_valid_string(34)"
   ]
  },
  {
   "cell_type": "markdown",
   "id": "f43f1f07",
   "metadata": {},
   "source": [
    "## Tạo query dưới sang string (Node create)\n",
    "- Ở đây em đặt tên properties của node là tên của cột trong dataframe cho thuận tiện "
   ]
  },
  {
   "cell_type": "code",
   "execution_count": 21,
   "id": "9aaa85f5",
   "metadata": {
    "ExecuteTime": {
     "end_time": "2021-08-30T08:02:13.041052Z",
     "start_time": "2021-08-30T08:02:13.019067Z"
    }
   },
   "outputs": [
    {
     "name": "stdout",
     "output_type": "stream",
     "text": [
      "Query đúng: Create (m:Person {actor_id:event.actor_id,name:event.name,movie_id_acted:event.movie_id_acted})\n",
      "Query sai 1: Label input: Your input is not string\n",
      "Query sai 2: Mode input: String should have its length > 0\n"
     ]
    }
   ],
   "source": [
    "# Ta có 3 parameter là df, label và mode\n",
    "# - df: là dataframe mà ta định import vào neo4j\n",
    "# - label: Tên label mà ta định tạo\n",
    "# - mode: CREATE hay MERGE\n",
    "\n",
    "def create_node_query(df, label, mode):\n",
    "    try:\n",
    "        # Check label input\n",
    "        check_str, res_message = check_valid_string(label)\n",
    "        if check_str == False:\n",
    "            raise Exception(\"Label input: \" + res_message)\n",
    "        \n",
    "        # Check mode input\n",
    "        check_str, res_message = check_valid_string(mode)\n",
    "        if check_str == False:\n",
    "            raise Exception(\"Mode input: \" + res_message)  \n",
    "            \n",
    "        columns = df.columns\n",
    "        query_arr = []\n",
    "        for col in columns:\n",
    "            query_arr.append(col + \":event.\"+col)\n",
    "\n",
    "        query = \",\".join(query_arr)\n",
    "        query = \"{\" + query + \"}\"\n",
    "        query = f'{mode} (m:{label} {query})'\n",
    "        return True, query\n",
    "    except Exception as e: \n",
    "        return False, str(e)\n",
    "\n",
    "check, query_true = create_node_query(df_P, \"Person\", \"Create\")\n",
    "print(f\"Query đúng: {query_true}\")\n",
    "\n",
    "check, query_false1 = create_node_query(df_P, None, \"Create\")\n",
    "print(f\"Query sai 1: {query_false1}\")\n",
    "\n",
    "check, query_false1 = create_node_query(df_P, \"Person\", \"\")\n",
    "print(f\"Query sai 2: {query_false1}\")"
   ]
  },
  {
   "cell_type": "markdown",
   "id": "01736672",
   "metadata": {},
   "source": [
    "**Nhìn ở dòng query được khởi tạo trên, ta thấy có: *\"actor_id: event.actor_id\"*, vậy event ở đây là gì**"
   ]
  },
  {
   "cell_type": "code",
   "execution_count": 26,
   "id": "9c628c03",
   "metadata": {
    "ExecuteTime": {
     "end_time": "2021-08-30T08:16:05.816939Z",
     "start_time": "2021-08-30T08:15:58.920956Z"
    },
    "scrolled": true
   },
   "outputs": [
    {
     "name": "stdout",
     "output_type": "stream",
     "text": [
      "+--------+----+--------------+\n",
      "|actor_id|name|movie_id_acted|\n",
      "+--------+----+--------------+\n",
      "|       1|John|             2|\n",
      "|       2|Tuan|             1|\n",
      "+--------+----+--------------+\n",
      "\n"
     ]
    }
   ],
   "source": [
    "df_P = spark.createDataFrame(\n",
    " [(1, \"John\", 2),(2, \"Tuan\", 1)],\n",
    " [\"actor_id\", \"name\", \"movie_id_acted\"]\n",
    ")\n",
    "df_P.show()"
   ]
  },
  {
   "cell_type": "markdown",
   "id": "16c6bf28",
   "metadata": {},
   "source": [
    "**Mỗi 1 dòng trong dataframe coi như là 1 thực thể, 1 node trong neo4j. Còn các columns trong dataframe là các property của thực thể đó. Khi thực hiện lệnh Write thì Connector sẽ đọc từng dòng trong dataframe và gán nó vào biến event. Như vậy** *event.actor_id\"* **tức là lấy giá trị của columns actor_id trong dataframe**\n",
    "\n",
    "<img src='./image/Screenshot 2021-08-30 152105.png'/>"
   ]
  },
  {
   "cell_type": "markdown",
   "id": "f985b38a",
   "metadata": {},
   "source": [
    "## Credential chứa username, password và url của database"
   ]
  },
  {
   "cell_type": "code",
   "execution_count": 29,
   "id": "d575cf2e",
   "metadata": {
    "ExecuteTime": {
     "end_time": "2021-08-30T08:26:57.979421Z",
     "start_time": "2021-08-30T08:26:57.970460Z"
    }
   },
   "outputs": [],
   "source": [
    "credential = {\n",
    "    \"url\" : \"bolt://localhost:7687\",\n",
    "    \"username\": \"neo4j\",\n",
    "    \"password\": \"123456\"\n",
    "}"
   ]
  },
  {
   "cell_type": "markdown",
   "id": "647bcf79",
   "metadata": {},
   "source": [
    "## Tạo node"
   ]
  },
  {
   "cell_type": "code",
   "execution_count": 51,
   "id": "ed1349a1",
   "metadata": {
    "ExecuteTime": {
     "end_time": "2021-08-30T08:54:01.423300Z",
     "start_time": "2021-08-30T08:53:46.189214Z"
    }
   },
   "outputs": [
    {
     "name": "stdout",
     "output_type": "stream",
     "text": [
      "Success\n",
      "Success\n",
      "Mode input: String should have its length > 0\n"
     ]
    }
   ],
   "source": [
    "def create_node(df, label, mode, credential):\n",
    "    try:\n",
    "        #get query\n",
    "        check_query, result = create_node_query(df, label, mode)\n",
    "        #if query is not valid, throw exception\n",
    "        if check_query == False:\n",
    "            raise Exception(result)\n",
    "            \n",
    "        df.write.format(\"org.neo4j.spark.DataSource\")\\\n",
    "         .option(\"url\", credential['url'])\\\n",
    "         .option(\"authentication.type\", \"basic\")\\\n",
    "         .option(\"authentication.basic.username\", credential['username'])\\\n",
    "         .option(\"authentication.basic.password\", credential['password'])\\\n",
    "         .option(\"query\", result)\\\n",
    "         .mode(\"Overwrite\")\\\n",
    "         .save()\n",
    "        print(\"Success\")\n",
    "    except Exception as e: \n",
    "        print(e)\n",
    "\n",
    "create_node(df_P, \"Person\", \"Merge\", credential) # Trường hợp thành công\n",
    "create_node(df_M, \"Movie\", \"Merge\", credential) # Trường hợp thành công\n",
    "create_node(df_P, \"Person\", \"\", credential) # Trường hợp lỗi"
   ]
  },
  {
   "cell_type": "markdown",
   "id": "6d4f7b1c",
   "metadata": {},
   "source": [
    "### Kết quả sau khi khởi tạo\n",
    "\n",
    "<img src='./image/Screenshot 2021-08-30 153145.png'/>"
   ]
  },
  {
   "cell_type": "markdown",
   "id": "0d326dc5",
   "metadata": {
    "ExecuteTime": {
     "end_time": "2021-08-30T08:35:03.887225Z",
     "start_time": "2021-08-30T08:35:03.878260Z"
    }
   },
   "source": [
    "## Tạo Relationship\n",
    "- Ví dụ ta cần tạo relationship giữa Person và Movie, thì ta cần 1 dataframe mới chứa 2 columns là 2 key để xác định Node được kết nối, và các columns còn lại là các properties của relationship đó."
   ]
  },
  {
   "cell_type": "code",
   "execution_count": 55,
   "id": "0f0980b2",
   "metadata": {
    "ExecuteTime": {
     "end_time": "2021-08-30T08:56:12.998441Z",
     "start_time": "2021-08-30T08:55:58.447488Z"
    }
   },
   "outputs": [
    {
     "name": "stdout",
     "output_type": "stream",
     "text": [
      "+--------+----+--------------+--------+-------+\n",
      "|actor_id|name|movie_id_acted|movie_id|  title|\n",
      "+--------+----+--------------+--------+-------+\n",
      "|       2|Tuan|             1|       1| Avatar|\n",
      "|       1|John|             2|       2|Get out|\n",
      "+--------+----+--------------+--------+-------+\n",
      "\n"
     ]
    }
   ],
   "source": [
    "join_df = df_P.join(df_M, df_P.movie_id_acted ==  df_M.movie_id,\"inner\")\n",
    "join_df.show()"
   ]
  },
  {
   "cell_type": "code",
   "execution_count": 45,
   "id": "e0f16f59",
   "metadata": {
    "ExecuteTime": {
     "end_time": "2021-08-30T08:50:43.148875Z",
     "start_time": "2021-08-30T08:50:43.127886Z"
    }
   },
   "outputs": [],
   "source": [
    "# Hàm tạo relationship cần các tham số\n",
    "# - label1: Label name của node 1\n",
    "# - label2: Label name của node 2\n",
    "# - key1: giá trị de xác định node 1\n",
    "# - key2: giá trị de xác định node 2\n",
    "# - rel_type: Tên của \n",
    "# - props_list: tên các columns dungf dđể làm properties của relationship\n",
    "# - mode: Create hay Merge\n",
    "\n",
    "#Ví dụ\n",
    "dict_var = {\n",
    "    \"label1\": \"Person\",\n",
    "    \"label2\": \"Movie\",\n",
    "    \"key1\": \"movie_id_acted\",\n",
    "    \"key2\": \"movie_id\",\n",
    "    \"rel_type\": \"ACT_IN\",\n",
    "    \"props_list\": [\"name\"],\n",
    "    \"mode\": \"Merge\",\n",
    "}\n",
    "\n",
    "false_dict1 = {\n",
    "    \"label1\": \"Person\",\n",
    "    \"label2\": \"Movie\",\n",
    "    \"key1\": \"movie_id_acted\",\n",
    "    \"key2\": \"movie_id\",\n",
    "    \"rel_type\": \"ACT_IN\",\n",
    "    \"props_list\": \"23\",\n",
    "    \"mode\": \"Merge\"\n",
    "}\n",
    "\n",
    "false_dict2 = {\n",
    "    \"label1\": \"Person\",\n",
    "    \"label2\": \"Movie\",\n",
    "    \"key1\": \"movie_id_acted\",\n",
    "    \"key2\": 23,\n",
    "    \"rel_type\": \"ACT_IN\",\n",
    "    \"props_list\": ['name'],\n",
    "    \"mode\": \"Merge\",\n",
    "}"
   ]
  },
  {
   "cell_type": "code",
   "execution_count": 52,
   "id": "b1502158",
   "metadata": {
    "ExecuteTime": {
     "end_time": "2021-08-30T08:55:24.155464Z",
     "start_time": "2021-08-30T08:55:24.120518Z"
    }
   },
   "outputs": [
    {
     "name": "stdout",
     "output_type": "stream",
     "text": [
      "Query dđúng: \n",
      "            MATCH\n",
      "              (a:Person),\n",
      "              (b:Movie)\n",
      "            WHERE a.movie_id_acted = event.movie_id_acted AND b.movie_id = event.movie_id\n",
      "            Merge (a)-[r:ACT_IN {name:event.name}]->(b)\n",
      "        \n",
      "Query sai 1: props_list is not a list\n",
      "Query sai 2: Error in key2: Your input is not string\n"
     ]
    }
   ],
   "source": [
    "def create_relationship_query(dict_var):\n",
    "    label1 = dict_var[\"label1\"]\n",
    "    label2 = dict_var[\"label2\"]\n",
    "    key1 = dict_var[\"key1\"]\n",
    "    key2 = dict_var[\"key2\"]\n",
    "    rel_type = dict_var[\"rel_type\"]\n",
    "    props_list = dict_var[\"props_list\"]\n",
    "    mode = dict_var[\"mode\"]\n",
    "    \n",
    "    try:\n",
    "        dict_check = {key: value for key, value in dict_var.items() if key != \"props_list\"}\n",
    "        for key, value in dict_check.items():\n",
    "            if value is None:\n",
    "                raise Exception(\"Error in \"+ key + \": Your input is Null\")\n",
    "            check_str, res_message = check_valid_string(value)\n",
    "            if check_str == False:\n",
    "                raise Exception(\"Error in \"+ key +\": \" + res_message)\n",
    "                \n",
    "        if isinstance(props_list, list) == False:\n",
    "            raise Exception(\"props_list is not a list\")\n",
    "            \n",
    "        if len(props_list) > 0:\n",
    "            prop_query_set = []\n",
    "            for prop in props_list:\n",
    "                prop_query_set.append(prop + \":event.\"+ prop)\n",
    "\n",
    "            props = \",\".join(prop_query_set)\n",
    "            props = \"{\" + props + \"}\"\n",
    "        else:\n",
    "            props = \"\"\n",
    "            \n",
    "        query = f\"\"\"\n",
    "            MATCH\n",
    "              (a:{label1}),\n",
    "              (b:{label2})\n",
    "            WHERE a.{key1} = event.{key1} AND b.{key2} = event.{key2}\n",
    "            {mode} (a)-[r:{rel_type} {props}]->(b)\n",
    "        \"\"\"\n",
    "        return True, query\n",
    "    \n",
    "    except Exception as e: \n",
    "        return False, str(e)\n",
    "    \n",
    "check_query, query = create_relationship_query(dict_var)\n",
    "print(f'Query dđúng: {query}')\n",
    "\n",
    "check_query, query = create_relationship_query(false_dict1)\n",
    "print(f'Query sai 1: {query}')\n",
    "\n",
    "check_query, query = create_relationship_query(false_dict2)\n",
    "print(f'Query sai 2: {query}')"
   ]
  },
  {
   "cell_type": "code",
   "execution_count": 56,
   "id": "b41680d6",
   "metadata": {
    "ExecuteTime": {
     "end_time": "2021-08-30T08:56:33.002893Z",
     "start_time": "2021-08-30T08:56:17.527759Z"
    },
    "scrolled": true
   },
   "outputs": [
    {
     "name": "stdout",
     "output_type": "stream",
     "text": [
      "Success\n"
     ]
    }
   ],
   "source": [
    "def create_relationship(df, dict_var, credential):\n",
    "    try:\n",
    "        check_query, result = create_relationship_query(dict_var)\n",
    "        if check_query == False:\n",
    "            raise Exception(result)\n",
    "            \n",
    "        df.write.format(\"org.neo4j.spark.DataSource\")\\\n",
    "         .option(\"url\", credential['url'])\\\n",
    "         .option(\"authentication.type\", \"basic\")\\\n",
    "         .option(\"authentication.basic.username\", credential['username'])\\\n",
    "         .option(\"authentication.basic.password\", credential['password'])\\\n",
    "         .option(\"query\", result)\\\n",
    "         .mode(\"Overwrite\")\\\n",
    "         .save()\n",
    "        print(\"Success\")\n",
    "    except Exception as e: \n",
    "        print(e)\n",
    "        \n",
    "create_relationship(join_df, dict_var, credential)"
   ]
  },
  {
   "cell_type": "markdown",
   "id": "f71e83b9",
   "metadata": {},
   "source": [
    "<img src='./image/Screenshot 2021-08-30 155714.png'/>"
   ]
  },
  {
   "cell_type": "code",
   "execution_count": null,
   "id": "3b6e8007",
   "metadata": {},
   "outputs": [],
   "source": []
  },
  {
   "cell_type": "markdown",
   "id": "71891179",
   "metadata": {},
   "source": [
    "## Bây h ta sẽ dùng 1 bộ dataset lớn hơn để thử tốc độ import\n",
    "- Sử dụng IMDb movies extensive dataset với hơn 81k movies và 175k+ cast members\n",
    "- Link tải dataset: [Link](https://www.kaggle.com/stefanoleone992/imdb-extensive-dataset)"
   ]
  },
  {
   "cell_type": "code",
   "execution_count": 58,
   "id": "50c4af7f",
   "metadata": {
    "ExecuteTime": {
     "end_time": "2021-08-30T09:02:50.503466Z",
     "start_time": "2021-08-30T09:02:49.951820Z"
    }
   },
   "outputs": [
    {
     "name": "stdout",
     "output_type": "stream",
     "text": [
      "(85855, 2)\n",
      "+-------------+--------------------+\n",
      "|imdb_title_id|               title|\n",
      "+-------------+--------------------+\n",
      "|    tt0000009|          Miss Jerry|\n",
      "|    tt0000574|The Story of the ...|\n",
      "|    tt0001892|      Den sorte drøm|\n",
      "|    tt0002101|           Cleopatra|\n",
      "|    tt0002130|           L'Inferno|\n",
      "|    tt0002199|From the Manger t...|\n",
      "|    tt0002423|      Madame DuBarry|\n",
      "|    tt0002445|          Quo Vadis?|\n",
      "|    tt0002452|Independenta Roma...|\n",
      "|    tt0002461|         Richard III|\n",
      "|    tt0002646|            Atlantis|\n",
      "|    tt0002844|Fantômas - À l'om...|\n",
      "|    tt0003014|Il calvario di un...|\n",
      "|    tt0003037|Juve contre Fantômas|\n",
      "|    tt0003102|Ma l'amor mio non...|\n",
      "|    tt0003131|Maudite soit la g...|\n",
      "|    tt0003165|     Le mort qui tue|\n",
      "|    tt0003167|      Amore di madre|\n",
      "|    tt0003419|Lo studente di Praga|\n",
      "|    tt0003471|    Traffic in Souls|\n",
      "+-------------+--------------------+\n",
      "only showing top 20 rows\n",
      "\n"
     ]
    }
   ],
   "source": [
    "df_movie = spark.read.csv(\"../../Datasets/IMDb movies.csv\", header=True)\n",
    "df_example = df_movie.select(df_movie.columns[:2])\n",
    "print((df_example.count(), len(df_example.columns)))\n",
    "df_example.show()"
   ]
  },
  {
   "cell_type": "code",
   "execution_count": 94,
   "id": "4dbac276",
   "metadata": {
    "ExecuteTime": {
     "end_time": "2021-08-30T05:35:30.652821Z",
     "start_time": "2021-08-30T05:32:11.756102Z"
    },
    "scrolled": true
   },
   "outputs": [
    {
     "name": "stdout",
     "output_type": "stream",
     "text": [
      "Success\n",
      "Time:  198.87998609999977\n"
     ]
    }
   ],
   "source": [
    "import timeit\n",
    "\n",
    "start = timeit.default_timer()\n",
    "\n",
    "create_node(df_example, \"Person\", \"Merge\", credential)\n",
    "\n",
    "stop = timeit.default_timer()\n",
    "\n",
    "print('Time: ', stop - start)  \n",
    "\n",
    "# create_node(df_M, \"Movie\", \"Merge\", credential)"
   ]
  },
  {
   "cell_type": "markdown",
   "id": "b2a5ab89",
   "metadata": {
    "ExecuteTime": {
     "end_time": "2021-08-30T05:31:23.299638Z",
     "start_time": "2021-08-30T05:31:23.123796Z"
    }
   },
   "source": [
    "## Ta thấy thời gian để import 85k row khoảng tầm 3 phút hơn"
   ]
  },
  {
   "cell_type": "code",
   "execution_count": null,
   "id": "acbdefb4",
   "metadata": {},
   "outputs": [],
   "source": []
  },
  {
   "cell_type": "markdown",
   "id": "0f1408fa",
   "metadata": {},
   "source": [
    "# Improving Performance:\n",
    "## 1) Tune your Batch Size:\n",
    "<img src='./image/Screenshot 2021-08-30 160531.png'/>\n",
    "\n",
    "## 2) Tune your Neo4j Memory Configuration\n",
    "<img src='./image/Screenshot 2021-08-30 160621.png'/>\n",
    "\n",
    "## 3) Have the Right Indexes\n",
    "<img src='./image/Screenshot 2021-08-30 160719.png'/>\n",
    "\n",
    "## 4) Tune Your Parallelism\n",
    "<img src='./image/Screenshot 2021-08-30 160849.png'/>\n",
    "<img src='./image/Screenshot 2021-08-30 160859.png'/>\n",
    "<br>\n",
    "\n",
    "## Link gốc: [Link](https://neo4j.com/developer/spark/architecture/)"
   ]
  },
  {
   "cell_type": "code",
   "execution_count": null,
   "id": "b692bbdf",
   "metadata": {},
   "outputs": [],
   "source": []
  }
 ],
 "metadata": {
  "kernelspec": {
   "display_name": "Pytorch (conda)",
   "language": "python",
   "name": "pytorch"
  },
  "language_info": {
   "codemirror_mode": {
    "name": "ipython",
    "version": 3
   },
   "file_extension": ".py",
   "mimetype": "text/x-python",
   "name": "python",
   "nbconvert_exporter": "python",
   "pygments_lexer": "ipython3",
   "version": "3.8.0"
  },
  "varInspector": {
   "cols": {
    "lenName": 16,
    "lenType": 16,
    "lenVar": 40
   },
   "kernels_config": {
    "python": {
     "delete_cmd_postfix": "",
     "delete_cmd_prefix": "del ",
     "library": "var_list.py",
     "varRefreshCmd": "print(var_dic_list())"
    },
    "r": {
     "delete_cmd_postfix": ") ",
     "delete_cmd_prefix": "rm(",
     "library": "var_list.r",
     "varRefreshCmd": "cat(var_dic_list()) "
    }
   },
   "types_to_exclude": [
    "module",
    "function",
    "builtin_function_or_method",
    "instance",
    "_Feature"
   ],
   "window_display": false
  }
 },
 "nbformat": 4,
 "nbformat_minor": 5
}
