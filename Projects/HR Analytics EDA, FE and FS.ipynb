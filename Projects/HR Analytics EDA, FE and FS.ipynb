{
 "cells": [
  {
   "cell_type": "code",
   "execution_count": 1,
   "id": "7755bfa1",
   "metadata": {
    "ExecuteTime": {
     "end_time": "2021-07-28T11:44:31.086575Z",
     "start_time": "2021-07-28T11:44:29.048519Z"
    }
   },
   "outputs": [],
   "source": [
    "import pandas as pd\n",
    "import seaborn as sns\n",
    "import numpy as np\n",
    "import matplotlib.pyplot as plt\n",
    "import re"
   ]
  },
  {
   "cell_type": "code",
   "execution_count": 2,
   "id": "6a2f5e51",
   "metadata": {
    "ExecuteTime": {
     "end_time": "2021-07-28T11:44:31.196519Z",
     "start_time": "2021-07-28T11:44:31.089573Z"
    },
    "scrolled": true
   },
   "outputs": [
    {
     "name": "stdout",
     "output_type": "stream",
     "text": [
      "(19158, 12)\n"
     ]
    },
    {
     "data": {
      "text/html": [
       "<div>\n",
       "<style scoped>\n",
       "    .dataframe tbody tr th:only-of-type {\n",
       "        vertical-align: middle;\n",
       "    }\n",
       "\n",
       "    .dataframe tbody tr th {\n",
       "        vertical-align: top;\n",
       "    }\n",
       "\n",
       "    .dataframe thead th {\n",
       "        text-align: right;\n",
       "    }\n",
       "</style>\n",
       "<table border=\"1\" class=\"dataframe\">\n",
       "  <thead>\n",
       "    <tr style=\"text-align: right;\">\n",
       "      <th></th>\n",
       "      <th>city</th>\n",
       "      <th>city_development_index</th>\n",
       "      <th>gender</th>\n",
       "      <th>relevent_experience</th>\n",
       "      <th>enrolled_university</th>\n",
       "      <th>education_level</th>\n",
       "      <th>major_discipline</th>\n",
       "      <th>experience</th>\n",
       "      <th>company_size</th>\n",
       "      <th>last_new_job</th>\n",
       "      <th>training_hours</th>\n",
       "      <th>target</th>\n",
       "    </tr>\n",
       "  </thead>\n",
       "  <tbody>\n",
       "    <tr>\n",
       "      <th>0</th>\n",
       "      <td>city_103</td>\n",
       "      <td>0.920</td>\n",
       "      <td>Male</td>\n",
       "      <td>Has relevent experience</td>\n",
       "      <td>no_enrollment</td>\n",
       "      <td>Graduate</td>\n",
       "      <td>STEM</td>\n",
       "      <td>&gt;20</td>\n",
       "      <td>NaN</td>\n",
       "      <td>1</td>\n",
       "      <td>36</td>\n",
       "      <td>1.0</td>\n",
       "    </tr>\n",
       "    <tr>\n",
       "      <th>1</th>\n",
       "      <td>city_40</td>\n",
       "      <td>0.776</td>\n",
       "      <td>Male</td>\n",
       "      <td>No relevent experience</td>\n",
       "      <td>no_enrollment</td>\n",
       "      <td>Graduate</td>\n",
       "      <td>STEM</td>\n",
       "      <td>15</td>\n",
       "      <td>50-99</td>\n",
       "      <td>&gt;4</td>\n",
       "      <td>47</td>\n",
       "      <td>0.0</td>\n",
       "    </tr>\n",
       "    <tr>\n",
       "      <th>2</th>\n",
       "      <td>city_21</td>\n",
       "      <td>0.624</td>\n",
       "      <td>NaN</td>\n",
       "      <td>No relevent experience</td>\n",
       "      <td>Full time course</td>\n",
       "      <td>Graduate</td>\n",
       "      <td>STEM</td>\n",
       "      <td>5</td>\n",
       "      <td>NaN</td>\n",
       "      <td>never</td>\n",
       "      <td>83</td>\n",
       "      <td>0.0</td>\n",
       "    </tr>\n",
       "    <tr>\n",
       "      <th>3</th>\n",
       "      <td>city_115</td>\n",
       "      <td>0.789</td>\n",
       "      <td>NaN</td>\n",
       "      <td>No relevent experience</td>\n",
       "      <td>NaN</td>\n",
       "      <td>Graduate</td>\n",
       "      <td>Business Degree</td>\n",
       "      <td>&lt;1</td>\n",
       "      <td>NaN</td>\n",
       "      <td>never</td>\n",
       "      <td>52</td>\n",
       "      <td>1.0</td>\n",
       "    </tr>\n",
       "    <tr>\n",
       "      <th>4</th>\n",
       "      <td>city_162</td>\n",
       "      <td>0.767</td>\n",
       "      <td>Male</td>\n",
       "      <td>Has relevent experience</td>\n",
       "      <td>no_enrollment</td>\n",
       "      <td>Masters</td>\n",
       "      <td>STEM</td>\n",
       "      <td>&gt;20</td>\n",
       "      <td>50-99</td>\n",
       "      <td>4</td>\n",
       "      <td>8</td>\n",
       "      <td>0.0</td>\n",
       "    </tr>\n",
       "  </tbody>\n",
       "</table>\n",
       "</div>"
      ],
      "text/plain": [
       "       city  city_development_index gender      relevent_experience  \\\n",
       "0  city_103                   0.920   Male  Has relevent experience   \n",
       "1   city_40                   0.776   Male   No relevent experience   \n",
       "2   city_21                   0.624    NaN   No relevent experience   \n",
       "3  city_115                   0.789    NaN   No relevent experience   \n",
       "4  city_162                   0.767   Male  Has relevent experience   \n",
       "\n",
       "  enrolled_university education_level major_discipline experience  \\\n",
       "0       no_enrollment        Graduate             STEM        >20   \n",
       "1       no_enrollment        Graduate             STEM         15   \n",
       "2    Full time course        Graduate             STEM          5   \n",
       "3                 NaN        Graduate  Business Degree         <1   \n",
       "4       no_enrollment         Masters             STEM        >20   \n",
       "\n",
       "  company_size last_new_job  training_hours  target  \n",
       "0          NaN            1              36     1.0  \n",
       "1        50-99           >4              47     0.0  \n",
       "2          NaN        never              83     0.0  \n",
       "3          NaN        never              52     1.0  \n",
       "4        50-99            4               8     0.0  "
      ]
     },
     "execution_count": 2,
     "metadata": {},
     "output_type": "execute_result"
    }
   ],
   "source": [
    "df = pd.read_csv(\"../Datasets/aug_train.csv\")\n",
    "df = df.drop(['enrollee_id'], axis=1)\n",
    "df = df.drop(['company_type'], axis=1)\n",
    "print(df.shape)\n",
    "df.head()"
   ]
  },
  {
   "cell_type": "markdown",
   "id": "1492eac3",
   "metadata": {},
   "source": [
    "## Context\n",
    "\n",
    "A company which is active in Big Data and Data Science wants to hire data scientists among people who successfully pass some courses which conduct by the company. Many people signup for their training. Company wants to know which of these candidates are really wants to work for the company after training or looking for a new employment because it helps to reduce the cost and time as well as the quality of training or planning the courses and categorization of candidates. Information related to demographics, education, experience are in hands from candidates signup and enrollment.\n",
    "\n",
    "This dataset designed to understand the factors that lead a person to leave current job for HR researches too. By model(s) that uses the current credentials,demographics,experience data you will predict the probability of a candidate to look for a new job or will work for the company, as well as interpreting affected factors on employee decision.\n",
    "\n",
    "The whole data divided to train and test . Target isn't included in test but the test target values data file is in hands for related tasks. A sample submission correspond to enrollee_id of test set provided too with columns : enrollee _id , target\n",
    "\n",
    "## Attribute Information\n",
    "\n",
    "enrollee_id : Unique ID for candidate\n",
    "\n",
    "city: City code\n",
    "\n",
    "city_ development _index : Developement index of the city (scaled)\n",
    "\n",
    "gender: Gender of candidate\n",
    "\n",
    "relevent_experience: Relevant experience of candidate\n",
    "\n",
    "enrolled_university: Type of University course enrolled if any\n",
    "\n",
    "education_level: Education level of candidate\n",
    "\n",
    "major_discipline :Education major discipline of candidate\n",
    "\n",
    "experience: Candidate total experience in years\n",
    "\n",
    "company_size: No of employees in current employer's company\n",
    "\n",
    "company_type : Type of current employer\n",
    "\n",
    "lastnewjob: Difference in years between previous job and current job\n",
    "\n",
    "training_hours: training hours completed\n",
    "\n",
    "**target: 0 – Not looking for job change, 1 – Looking for a job change**"
   ]
  },
  {
   "cell_type": "code",
   "execution_count": 3,
   "id": "b5e87693",
   "metadata": {
    "ExecuteTime": {
     "end_time": "2021-07-28T11:44:31.432552Z",
     "start_time": "2021-07-28T11:44:31.199562Z"
    }
   },
   "outputs": [
    {
     "data": {
      "text/plain": [
       "<AxesSubplot:xlabel='target', ylabel='count'>"
      ]
     },
     "execution_count": 3,
     "metadata": {},
     "output_type": "execute_result"
    },
    {
     "data": {
      "image/png": "[encoded data removed]",
      "text/plain": [
       "<Figure size 432x288 with 1 Axes>"
      ]
     },
     "metadata": {
      "needs_background": "light"
     },
     "output_type": "display_data"
    }
   ],
   "source": [
    "sns.countplot(x=df.target)"
   ]
  },
  {
   "cell_type": "code",
   "execution_count": 4,
   "id": "af737261",
   "metadata": {
    "ExecuteTime": {
     "end_time": "2021-07-28T11:44:31.464577Z",
     "start_time": "2021-07-28T11:44:31.435557Z"
    }
   },
   "outputs": [
    {
     "data": {
      "text/plain": [
       "city                         0\n",
       "city_development_index       0\n",
       "gender                    4508\n",
       "relevent_experience          0\n",
       "enrolled_university        386\n",
       "education_level            460\n",
       "major_discipline          2813\n",
       "experience                  65\n",
       "company_size              5938\n",
       "last_new_job               423\n",
       "training_hours               0\n",
       "target                       0\n",
       "dtype: int64"
      ]
     },
     "execution_count": 4,
     "metadata": {},
     "output_type": "execute_result"
    }
   ],
   "source": [
    "df.isnull().sum()"
   ]
  },
  {
   "cell_type": "code",
   "execution_count": 5,
   "id": "ec0b5ae0",
   "metadata": {
    "ExecuteTime": {
     "end_time": "2021-07-28T11:44:31.480519Z",
     "start_time": "2021-07-28T11:44:31.466518Z"
    }
   },
   "outputs": [
    {
     "data": {
      "text/plain": [
       "city                       object\n",
       "city_development_index    float64\n",
       "gender                     object\n",
       "relevent_experience        object\n",
       "enrolled_university        object\n",
       "education_level            object\n",
       "major_discipline           object\n",
       "experience                 object\n",
       "company_size               object\n",
       "last_new_job               object\n",
       "training_hours              int64\n",
       "target                      int32\n",
       "dtype: object"
      ]
     },
     "execution_count": 5,
     "metadata": {},
     "output_type": "execute_result"
    }
   ],
   "source": [
    "df.target = df.target.astype(int)\n",
    "df.dtypes"
   ]
  },
  {
   "cell_type": "code",
   "execution_count": 6,
   "id": "85468157",
   "metadata": {
    "ExecuteTime": {
     "end_time": "2021-07-28T11:44:31.527572Z",
     "start_time": "2021-07-28T11:44:31.483519Z"
    },
    "scrolled": true
   },
   "outputs": [
    {
     "data": {
      "text/html": [
       "<div>\n",
       "<style scoped>\n",
       "    .dataframe tbody tr th:only-of-type {\n",
       "        vertical-align: middle;\n",
       "    }\n",
       "\n",
       "    .dataframe tbody tr th {\n",
       "        vertical-align: top;\n",
       "    }\n",
       "\n",
       "    .dataframe thead th {\n",
       "        text-align: right;\n",
       "    }\n",
       "</style>\n",
       "<table border=\"1\" class=\"dataframe\">\n",
       "  <thead>\n",
       "    <tr style=\"text-align: right;\">\n",
       "      <th></th>\n",
       "      <th>city_development_index</th>\n",
       "      <th>training_hours</th>\n",
       "      <th>target</th>\n",
       "    </tr>\n",
       "  </thead>\n",
       "  <tbody>\n",
       "    <tr>\n",
       "      <th>count</th>\n",
       "      <td>19158.000000</td>\n",
       "      <td>19158.000000</td>\n",
       "      <td>19158.000000</td>\n",
       "    </tr>\n",
       "    <tr>\n",
       "      <th>mean</th>\n",
       "      <td>0.828848</td>\n",
       "      <td>65.366896</td>\n",
       "      <td>0.249348</td>\n",
       "    </tr>\n",
       "    <tr>\n",
       "      <th>std</th>\n",
       "      <td>0.123362</td>\n",
       "      <td>60.058462</td>\n",
       "      <td>0.432647</td>\n",
       "    </tr>\n",
       "    <tr>\n",
       "      <th>min</th>\n",
       "      <td>0.448000</td>\n",
       "      <td>1.000000</td>\n",
       "      <td>0.000000</td>\n",
       "    </tr>\n",
       "    <tr>\n",
       "      <th>25%</th>\n",
       "      <td>0.740000</td>\n",
       "      <td>23.000000</td>\n",
       "      <td>0.000000</td>\n",
       "    </tr>\n",
       "    <tr>\n",
       "      <th>50%</th>\n",
       "      <td>0.903000</td>\n",
       "      <td>47.000000</td>\n",
       "      <td>0.000000</td>\n",
       "    </tr>\n",
       "    <tr>\n",
       "      <th>75%</th>\n",
       "      <td>0.920000</td>\n",
       "      <td>88.000000</td>\n",
       "      <td>0.000000</td>\n",
       "    </tr>\n",
       "    <tr>\n",
       "      <th>max</th>\n",
       "      <td>0.949000</td>\n",
       "      <td>336.000000</td>\n",
       "      <td>1.000000</td>\n",
       "    </tr>\n",
       "  </tbody>\n",
       "</table>\n",
       "</div>"
      ],
      "text/plain": [
       "       city_development_index  training_hours        target\n",
       "count            19158.000000    19158.000000  19158.000000\n",
       "mean                 0.828848       65.366896      0.249348\n",
       "std                  0.123362       60.058462      0.432647\n",
       "min                  0.448000        1.000000      0.000000\n",
       "25%                  0.740000       23.000000      0.000000\n",
       "50%                  0.903000       47.000000      0.000000\n",
       "75%                  0.920000       88.000000      0.000000\n",
       "max                  0.949000      336.000000      1.000000"
      ]
     },
     "execution_count": 6,
     "metadata": {},
     "output_type": "execute_result"
    }
   ],
   "source": [
    "df.describe()"
   ]
  },
  {
   "cell_type": "code",
   "execution_count": null,
   "id": "818378cb",
   "metadata": {},
   "outputs": [],
   "source": []
  },
  {
   "cell_type": "markdown",
   "id": "01a8a07a",
   "metadata": {},
   "source": [
    "# Continuous variables"
   ]
  },
  {
   "cell_type": "code",
   "execution_count": 7,
   "id": "3ca05cf5",
   "metadata": {
    "ExecuteTime": {
     "end_time": "2021-07-28T11:44:31.542551Z",
     "start_time": "2021-07-28T11:44:31.530520Z"
    }
   },
   "outputs": [
    {
     "name": "stdout",
     "output_type": "stream",
     "text": [
      "city_development_index\n",
      "training_hours\n"
     ]
    }
   ],
   "source": [
    "continuous_feature = []\n",
    "for feature in df:\n",
    "    if df.dtypes[feature] != \"object\" and len(df[feature].unique()) >= 10 :\n",
    "        print(feature)\n",
    "        continuous_feature.append(feature)"
   ]
  },
  {
   "cell_type": "code",
   "execution_count": 8,
   "id": "848ecf22",
   "metadata": {
    "ExecuteTime": {
     "end_time": "2021-07-28T11:44:32.474556Z",
     "start_time": "2021-07-28T11:44:31.547520Z"
    }
   },
   "outputs": [
    {
     "data": {
      "text/plain": [
       "Text(0.5, 1.0, 'trainingHours_target')"
      ]
     },
     "execution_count": 8,
     "metadata": {},
     "output_type": "execute_result"
    },
    {
     "data": {
      "image/png": "[encoded data removed]",
      "text/plain": [
       "<Figure size 1440x576 with 2 Axes>"
      ]
     },
     "metadata": {
      "needs_background": "light"
     },
     "output_type": "display_data"
    }
   ],
   "source": [
    "fig, axes = plt.subplots(1, 2, figsize=(20,8))\n",
    "sns.histplot(ax=axes[0], x=df.city_development_index, hue=df.target, bins=20)\n",
    "axes[0].set_title(\"cityDevelop_target\")\n",
    "\n",
    "sns.histplot(ax=axes[1], x=df.training_hours, hue=df.target, bins=20)\n",
    "axes[1].set_title(\"trainingHours_target\")"
   ]
  },
  {
   "cell_type": "markdown",
   "id": "a7700f09",
   "metadata": {},
   "source": [
    "**We see that the smaller the city development index is, the bigger the proportion of people wanting to change their job has.**\n",
    "\n",
    "**The city development index has negative skewed distribution, while traning hours has the positive skewed distribution**"
   ]
  },
  {
   "cell_type": "code",
   "execution_count": 9,
   "id": "f10012e2",
   "metadata": {
    "ExecuteTime": {
     "end_time": "2021-07-28T11:44:32.490576Z",
     "start_time": "2021-07-28T11:44:32.477519Z"
    }
   },
   "outputs": [
    {
     "name": "stdout",
     "output_type": "stream",
     "text": [
      "The missing data in city_development_index: 0\n",
      "The missing data in training_hours: 0\n"
     ]
    }
   ],
   "source": [
    "for feature in continuous_feature:\n",
    "    print(f'The missing data in {feature}: {df[feature].isnull().sum()}')"
   ]
  },
  {
   "cell_type": "code",
   "execution_count": 10,
   "id": "01270adb",
   "metadata": {
    "ExecuteTime": {
     "end_time": "2021-07-28T11:44:32.834549Z",
     "start_time": "2021-07-28T11:44:32.493550Z"
    }
   },
   "outputs": [
    {
     "data": {
      "text/plain": [
       "<AxesSubplot:xlabel='training_hours'>"
      ]
     },
     "execution_count": 10,
     "metadata": {},
     "output_type": "execute_result"
    },
    {
     "data": {
      "image/png": "[encoded data removed]",
      "text/plain": [
       "<Figure size 1152x288 with 2 Axes>"
      ]
     },
     "metadata": {
      "needs_background": "light"
     },
     "output_type": "display_data"
    }
   ],
   "source": [
    "fig, axes = plt.subplots(1, 2, figsize=(16,4))\n",
    "sns.boxplot(ax=axes[0], x=df.city_development_index)\n",
    "sns.boxplot(ax=axes[1], x=df.training_hours)\n"
   ]
  },
  {
   "cell_type": "code",
   "execution_count": null,
   "id": "3d418af3",
   "metadata": {},
   "outputs": [],
   "source": []
  },
  {
   "cell_type": "markdown",
   "id": "1f253d2e",
   "metadata": {},
   "source": [
    "# Categorical variables"
   ]
  },
  {
   "cell_type": "code",
   "execution_count": 11,
   "id": "2b1eb4d6",
   "metadata": {
    "ExecuteTime": {
     "end_time": "2021-07-28T11:44:32.849553Z",
     "start_time": "2021-07-28T11:44:32.837550Z"
    }
   },
   "outputs": [
    {
     "name": "stdout",
     "output_type": "stream",
     "text": [
      "city\n",
      "gender\n",
      "relevent_experience\n",
      "enrolled_university\n",
      "education_level\n",
      "major_discipline\n",
      "experience\n",
      "company_size\n",
      "last_new_job\n",
      "target\n"
     ]
    }
   ],
   "source": [
    "categorical_feature = []\n",
    "for feature in df:\n",
    "    if feature not in continuous_feature:\n",
    "        print(feature)\n",
    "        categorical_feature.append(feature)"
   ]
  },
  {
   "cell_type": "markdown",
   "id": "c85a581a",
   "metadata": {},
   "source": [
    "## city"
   ]
  },
  {
   "cell_type": "code",
   "execution_count": 12,
   "id": "6832d6a0",
   "metadata": {
    "ExecuteTime": {
     "end_time": "2021-07-28T11:44:32.864521Z",
     "start_time": "2021-07-28T11:44:32.852520Z"
    },
    "scrolled": true
   },
   "outputs": [
    {
     "name": "stdout",
     "output_type": "stream",
     "text": [
      "123\n"
     ]
    },
    {
     "data": {
      "text/plain": [
       "array(['city_103', 'city_40', 'city_21', 'city_115', 'city_162',\n",
       "       'city_176', 'city_160', 'city_46', 'city_61', 'city_114',\n",
       "       'city_13', 'city_159', 'city_102', 'city_67', 'city_100',\n",
       "       'city_16', 'city_71', 'city_104', 'city_64', 'city_101', 'city_83',\n",
       "       'city_105', 'city_73', 'city_75', 'city_41', 'city_11', 'city_93',\n",
       "       'city_90', 'city_36', 'city_20', 'city_57', 'city_152', 'city_19',\n",
       "       'city_65', 'city_74', 'city_173', 'city_136', 'city_98', 'city_97',\n",
       "       'city_50', 'city_138', 'city_82', 'city_157', 'city_89',\n",
       "       'city_150', 'city_70', 'city_175', 'city_94', 'city_28', 'city_59',\n",
       "       'city_165', 'city_145', 'city_142', 'city_26', 'city_12',\n",
       "       'city_37', 'city_43', 'city_116', 'city_23', 'city_99', 'city_149',\n",
       "       'city_10', 'city_45', 'city_80', 'city_128', 'city_158',\n",
       "       'city_123', 'city_7', 'city_72', 'city_106', 'city_143', 'city_78',\n",
       "       'city_109', 'city_24', 'city_134', 'city_48', 'city_144',\n",
       "       'city_91', 'city_146', 'city_133', 'city_126', 'city_118',\n",
       "       'city_9', 'city_167', 'city_27', 'city_84', 'city_54', 'city_39',\n",
       "       'city_79', 'city_76', 'city_77', 'city_81', 'city_131', 'city_44',\n",
       "       'city_117', 'city_155', 'city_33', 'city_141', 'city_127',\n",
       "       'city_62', 'city_53', 'city_25', 'city_2', 'city_69', 'city_120',\n",
       "       'city_111', 'city_30', 'city_1', 'city_140', 'city_179', 'city_55',\n",
       "       'city_14', 'city_42', 'city_107', 'city_18', 'city_139',\n",
       "       'city_180', 'city_166', 'city_121', 'city_129', 'city_8',\n",
       "       'city_31', 'city_171'], dtype=object)"
      ]
     },
     "execution_count": 12,
     "metadata": {},
     "output_type": "execute_result"
    }
   ],
   "source": [
    "print(len(df.city.unique()))\n",
    "df.city.unique()"
   ]
  },
  {
   "cell_type": "code",
   "execution_count": 13,
   "id": "a619ed00",
   "metadata": {
    "ExecuteTime": {
     "end_time": "2021-07-28T11:44:32.880520Z",
     "start_time": "2021-07-28T11:44:32.866520Z"
    }
   },
   "outputs": [
    {
     "data": {
      "text/plain": [
       "0"
      ]
     },
     "execution_count": 13,
     "metadata": {},
     "output_type": "execute_result"
    }
   ],
   "source": [
    "df.city.isnull().sum()"
   ]
  },
  {
   "cell_type": "markdown",
   "id": "61942cda",
   "metadata": {},
   "source": [
    "**the city feature is mix-variable, we should extract city number id from it**"
   ]
  },
  {
   "cell_type": "code",
   "execution_count": 14,
   "id": "09465ef4",
   "metadata": {
    "ExecuteTime": {
     "end_time": "2021-07-28T11:44:32.960549Z",
     "start_time": "2021-07-28T11:44:32.882520Z"
    }
   },
   "outputs": [],
   "source": [
    "city_id = []\n",
    "for id in df.city.values:\n",
    "\n",
    "    extract = re.findall(r\"\\d+\", id)\n",
    "    city_id.append(int(extract[0]))"
   ]
  },
  {
   "cell_type": "code",
   "execution_count": 15,
   "id": "2a5e97ed",
   "metadata": {
    "ExecuteTime": {
     "end_time": "2021-07-28T11:44:33.007519Z",
     "start_time": "2021-07-28T11:44:32.962517Z"
    }
   },
   "outputs": [
    {
     "data": {
      "text/html": [
       "<div>\n",
       "<style scoped>\n",
       "    .dataframe tbody tr th:only-of-type {\n",
       "        vertical-align: middle;\n",
       "    }\n",
       "\n",
       "    .dataframe tbody tr th {\n",
       "        vertical-align: top;\n",
       "    }\n",
       "\n",
       "    .dataframe thead th {\n",
       "        text-align: right;\n",
       "    }\n",
       "</style>\n",
       "<table border=\"1\" class=\"dataframe\">\n",
       "  <thead>\n",
       "    <tr style=\"text-align: right;\">\n",
       "      <th></th>\n",
       "      <th>city</th>\n",
       "      <th>city_development_index</th>\n",
       "      <th>gender</th>\n",
       "      <th>relevent_experience</th>\n",
       "      <th>enrolled_university</th>\n",
       "      <th>education_level</th>\n",
       "      <th>major_discipline</th>\n",
       "      <th>experience</th>\n",
       "      <th>company_size</th>\n",
       "      <th>last_new_job</th>\n",
       "      <th>training_hours</th>\n",
       "      <th>target</th>\n",
       "    </tr>\n",
       "  </thead>\n",
       "  <tbody>\n",
       "    <tr>\n",
       "      <th>0</th>\n",
       "      <td>103</td>\n",
       "      <td>0.920</td>\n",
       "      <td>Male</td>\n",
       "      <td>Has relevent experience</td>\n",
       "      <td>no_enrollment</td>\n",
       "      <td>Graduate</td>\n",
       "      <td>STEM</td>\n",
       "      <td>&gt;20</td>\n",
       "      <td>NaN</td>\n",
       "      <td>1</td>\n",
       "      <td>36</td>\n",
       "      <td>1</td>\n",
       "    </tr>\n",
       "    <tr>\n",
       "      <th>1</th>\n",
       "      <td>40</td>\n",
       "      <td>0.776</td>\n",
       "      <td>Male</td>\n",
       "      <td>No relevent experience</td>\n",
       "      <td>no_enrollment</td>\n",
       "      <td>Graduate</td>\n",
       "      <td>STEM</td>\n",
       "      <td>15</td>\n",
       "      <td>50-99</td>\n",
       "      <td>&gt;4</td>\n",
       "      <td>47</td>\n",
       "      <td>0</td>\n",
       "    </tr>\n",
       "    <tr>\n",
       "      <th>2</th>\n",
       "      <td>21</td>\n",
       "      <td>0.624</td>\n",
       "      <td>NaN</td>\n",
       "      <td>No relevent experience</td>\n",
       "      <td>Full time course</td>\n",
       "      <td>Graduate</td>\n",
       "      <td>STEM</td>\n",
       "      <td>5</td>\n",
       "      <td>NaN</td>\n",
       "      <td>never</td>\n",
       "      <td>83</td>\n",
       "      <td>0</td>\n",
       "    </tr>\n",
       "    <tr>\n",
       "      <th>3</th>\n",
       "      <td>115</td>\n",
       "      <td>0.789</td>\n",
       "      <td>NaN</td>\n",
       "      <td>No relevent experience</td>\n",
       "      <td>NaN</td>\n",
       "      <td>Graduate</td>\n",
       "      <td>Business Degree</td>\n",
       "      <td>&lt;1</td>\n",
       "      <td>NaN</td>\n",
       "      <td>never</td>\n",
       "      <td>52</td>\n",
       "      <td>1</td>\n",
       "    </tr>\n",
       "    <tr>\n",
       "      <th>4</th>\n",
       "      <td>162</td>\n",
       "      <td>0.767</td>\n",
       "      <td>Male</td>\n",
       "      <td>Has relevent experience</td>\n",
       "      <td>no_enrollment</td>\n",
       "      <td>Masters</td>\n",
       "      <td>STEM</td>\n",
       "      <td>&gt;20</td>\n",
       "      <td>50-99</td>\n",
       "      <td>4</td>\n",
       "      <td>8</td>\n",
       "      <td>0</td>\n",
       "    </tr>\n",
       "  </tbody>\n",
       "</table>\n",
       "</div>"
      ],
      "text/plain": [
       "   city  city_development_index gender      relevent_experience  \\\n",
       "0   103                   0.920   Male  Has relevent experience   \n",
       "1    40                   0.776   Male   No relevent experience   \n",
       "2    21                   0.624    NaN   No relevent experience   \n",
       "3   115                   0.789    NaN   No relevent experience   \n",
       "4   162                   0.767   Male  Has relevent experience   \n",
       "\n",
       "  enrolled_university education_level major_discipline experience  \\\n",
       "0       no_enrollment        Graduate             STEM        >20   \n",
       "1       no_enrollment        Graduate             STEM         15   \n",
       "2    Full time course        Graduate             STEM          5   \n",
       "3                 NaN        Graduate  Business Degree         <1   \n",
       "4       no_enrollment         Masters             STEM        >20   \n",
       "\n",
       "  company_size last_new_job  training_hours  target  \n",
       "0          NaN            1              36       1  \n",
       "1        50-99           >4              47       0  \n",
       "2          NaN        never              83       0  \n",
       "3          NaN        never              52       1  \n",
       "4        50-99            4               8       0  "
      ]
     },
     "execution_count": 15,
     "metadata": {},
     "output_type": "execute_result"
    }
   ],
   "source": [
    "df.city = city_id\n",
    "del city_id\n",
    "df.head()"
   ]
  },
  {
   "cell_type": "code",
   "execution_count": 16,
   "id": "1d62feae",
   "metadata": {
    "ExecuteTime": {
     "end_time": "2021-07-28T11:44:33.023519Z",
     "start_time": "2021-07-28T11:44:33.010519Z"
    }
   },
   "outputs": [
    {
     "data": {
      "text/plain": [
       "(19158, 12)"
      ]
     },
     "execution_count": 16,
     "metadata": {},
     "output_type": "execute_result"
    }
   ],
   "source": [
    "df.shape"
   ]
  },
  {
   "cell_type": "code",
   "execution_count": null,
   "id": "eb444381",
   "metadata": {},
   "outputs": [],
   "source": []
  },
  {
   "cell_type": "markdown",
   "id": "eb700f91",
   "metadata": {
    "ExecuteTime": {
     "end_time": "2021-07-28T06:56:42.781699Z",
     "start_time": "2021-07-28T06:56:42.763749Z"
    }
   },
   "source": [
    "## gender"
   ]
  },
  {
   "cell_type": "code",
   "execution_count": 17,
   "id": "4a611739",
   "metadata": {
    "ExecuteTime": {
     "end_time": "2021-07-28T11:44:33.038517Z",
     "start_time": "2021-07-28T11:44:33.025519Z"
    }
   },
   "outputs": [
    {
     "data": {
      "text/plain": [
       "array(['Male', nan, 'Female', 'Other'], dtype=object)"
      ]
     },
     "execution_count": 17,
     "metadata": {},
     "output_type": "execute_result"
    }
   ],
   "source": [
    "df.gender.unique()"
   ]
  },
  {
   "cell_type": "code",
   "execution_count": 18,
   "id": "d5e29483",
   "metadata": {
    "ExecuteTime": {
     "end_time": "2021-07-28T11:44:33.054518Z",
     "start_time": "2021-07-28T11:44:33.040517Z"
    }
   },
   "outputs": [
    {
     "name": "stdout",
     "output_type": "stream",
     "text": [
      "4508\n",
      "0.23530639941538783\n"
     ]
    }
   ],
   "source": [
    "print(df.gender.isnull().sum())\n",
    "print(df.gender.isnull().sum()/df.shape[0])"
   ]
  },
  {
   "cell_type": "code",
   "execution_count": 19,
   "id": "efc53112",
   "metadata": {
    "ExecuteTime": {
     "end_time": "2021-07-28T11:44:33.479559Z",
     "start_time": "2021-07-28T11:44:33.056585Z"
    }
   },
   "outputs": [
    {
     "data": {
      "text/plain": [
       "<AxesSubplot:xlabel='gender', ylabel='count'>"
      ]
     },
     "execution_count": 19,
     "metadata": {},
     "output_type": "execute_result"
    },
    {
     "data": {
      "image/png": "[encoded data removed]",
      "text/plain": [
       "<Figure size 1152x288 with 2 Axes>"
      ]
     },
     "metadata": {
      "needs_background": "light"
     },
     "output_type": "display_data"
    }
   ],
   "source": [
    "fig, axes = plt.subplots(1, 2, figsize=(16,4))\n",
    "sns.countplot(x=df.gender, ax=axes[0])\n",
    "sns.countplot(x=df.gender, hue=df.target, ax=axes[1])"
   ]
  },
  {
   "cell_type": "markdown",
   "id": "931ed921",
   "metadata": {},
   "source": [
    "**The missing data in gender feature have 23.5% in total, so we will replace nan data by missing indicator, that means i will replace nandata by value \"Missing\"**"
   ]
  },
  {
   "cell_type": "code",
   "execution_count": 20,
   "id": "72b57dfb",
   "metadata": {
    "ExecuteTime": {
     "end_time": "2021-07-28T11:44:33.495565Z",
     "start_time": "2021-07-28T11:44:33.481583Z"
    }
   },
   "outputs": [],
   "source": [
    "df['gender'] = df['gender'].fillna(\"Missing\")"
   ]
  },
  {
   "cell_type": "code",
   "execution_count": 21,
   "id": "6dc1da30",
   "metadata": {
    "ExecuteTime": {
     "end_time": "2021-07-28T11:44:33.526540Z",
     "start_time": "2021-07-28T11:44:33.497525Z"
    }
   },
   "outputs": [
    {
     "data": {
      "text/plain": [
       "array(['Male', 'Missing', 'Female', 'Other'], dtype=object)"
      ]
     },
     "execution_count": 21,
     "metadata": {},
     "output_type": "execute_result"
    }
   ],
   "source": [
    "df.gender.unique()"
   ]
  },
  {
   "cell_type": "code",
   "execution_count": 22,
   "id": "77921fc3",
   "metadata": {
    "ExecuteTime": {
     "end_time": "2021-07-28T11:44:33.542517Z",
     "start_time": "2021-07-28T11:44:33.528559Z"
    }
   },
   "outputs": [],
   "source": [
    "onehot_gender = pd.get_dummies(df.gender.values)\n",
    "onehot_gender = onehot_gender.rename(columns={\"Female\": \"gender_female\", \"Male\": \"gender_male\", 'Missing':\"gender_missing\", \"Other\": \"gender_other\"})\n"
   ]
  },
  {
   "cell_type": "code",
   "execution_count": 23,
   "id": "da073229",
   "metadata": {
    "ExecuteTime": {
     "end_time": "2021-07-28T11:44:33.574555Z",
     "start_time": "2021-07-28T11:44:33.550548Z"
    }
   },
   "outputs": [],
   "source": [
    "df = pd.concat([df, onehot_gender], axis=1).drop(['gender'], axis=1)\n",
    "del onehot_gender"
   ]
  },
  {
   "cell_type": "code",
   "execution_count": 24,
   "id": "9675c169",
   "metadata": {
    "ExecuteTime": {
     "end_time": "2021-07-28T11:44:33.606519Z",
     "start_time": "2021-07-28T11:44:33.579518Z"
    }
   },
   "outputs": [
    {
     "data": {
      "text/html": [
       "<div>\n",
       "<style scoped>\n",
       "    .dataframe tbody tr th:only-of-type {\n",
       "        vertical-align: middle;\n",
       "    }\n",
       "\n",
       "    .dataframe tbody tr th {\n",
       "        vertical-align: top;\n",
       "    }\n",
       "\n",
       "    .dataframe thead th {\n",
       "        text-align: right;\n",
       "    }\n",
       "</style>\n",
       "<table border=\"1\" class=\"dataframe\">\n",
       "  <thead>\n",
       "    <tr style=\"text-align: right;\">\n",
       "      <th></th>\n",
       "      <th>city</th>\n",
       "      <th>city_development_index</th>\n",
       "      <th>relevent_experience</th>\n",
       "      <th>enrolled_university</th>\n",
       "      <th>education_level</th>\n",
       "      <th>major_discipline</th>\n",
       "      <th>experience</th>\n",
       "      <th>company_size</th>\n",
       "      <th>last_new_job</th>\n",
       "      <th>training_hours</th>\n",
       "      <th>target</th>\n",
       "      <th>gender_female</th>\n",
       "      <th>gender_male</th>\n",
       "      <th>gender_missing</th>\n",
       "      <th>gender_other</th>\n",
       "    </tr>\n",
       "  </thead>\n",
       "  <tbody>\n",
       "    <tr>\n",
       "      <th>0</th>\n",
       "      <td>103</td>\n",
       "      <td>0.920</td>\n",
       "      <td>Has relevent experience</td>\n",
       "      <td>no_enrollment</td>\n",
       "      <td>Graduate</td>\n",
       "      <td>STEM</td>\n",
       "      <td>&gt;20</td>\n",
       "      <td>NaN</td>\n",
       "      <td>1</td>\n",
       "      <td>36</td>\n",
       "      <td>1</td>\n",
       "      <td>0</td>\n",
       "      <td>1</td>\n",
       "      <td>0</td>\n",
       "      <td>0</td>\n",
       "    </tr>\n",
       "    <tr>\n",
       "      <th>1</th>\n",
       "      <td>40</td>\n",
       "      <td>0.776</td>\n",
       "      <td>No relevent experience</td>\n",
       "      <td>no_enrollment</td>\n",
       "      <td>Graduate</td>\n",
       "      <td>STEM</td>\n",
       "      <td>15</td>\n",
       "      <td>50-99</td>\n",
       "      <td>&gt;4</td>\n",
       "      <td>47</td>\n",
       "      <td>0</td>\n",
       "      <td>0</td>\n",
       "      <td>1</td>\n",
       "      <td>0</td>\n",
       "      <td>0</td>\n",
       "    </tr>\n",
       "    <tr>\n",
       "      <th>2</th>\n",
       "      <td>21</td>\n",
       "      <td>0.624</td>\n",
       "      <td>No relevent experience</td>\n",
       "      <td>Full time course</td>\n",
       "      <td>Graduate</td>\n",
       "      <td>STEM</td>\n",
       "      <td>5</td>\n",
       "      <td>NaN</td>\n",
       "      <td>never</td>\n",
       "      <td>83</td>\n",
       "      <td>0</td>\n",
       "      <td>0</td>\n",
       "      <td>0</td>\n",
       "      <td>1</td>\n",
       "      <td>0</td>\n",
       "    </tr>\n",
       "    <tr>\n",
       "      <th>3</th>\n",
       "      <td>115</td>\n",
       "      <td>0.789</td>\n",
       "      <td>No relevent experience</td>\n",
       "      <td>NaN</td>\n",
       "      <td>Graduate</td>\n",
       "      <td>Business Degree</td>\n",
       "      <td>&lt;1</td>\n",
       "      <td>NaN</td>\n",
       "      <td>never</td>\n",
       "      <td>52</td>\n",
       "      <td>1</td>\n",
       "      <td>0</td>\n",
       "      <td>0</td>\n",
       "      <td>1</td>\n",
       "      <td>0</td>\n",
       "    </tr>\n",
       "    <tr>\n",
       "      <th>4</th>\n",
       "      <td>162</td>\n",
       "      <td>0.767</td>\n",
       "      <td>Has relevent experience</td>\n",
       "      <td>no_enrollment</td>\n",
       "      <td>Masters</td>\n",
       "      <td>STEM</td>\n",
       "      <td>&gt;20</td>\n",
       "      <td>50-99</td>\n",
       "      <td>4</td>\n",
       "      <td>8</td>\n",
       "      <td>0</td>\n",
       "      <td>0</td>\n",
       "      <td>1</td>\n",
       "      <td>0</td>\n",
       "      <td>0</td>\n",
       "    </tr>\n",
       "  </tbody>\n",
       "</table>\n",
       "</div>"
      ],
      "text/plain": [
       "   city  city_development_index      relevent_experience enrolled_university  \\\n",
       "0   103                   0.920  Has relevent experience       no_enrollment   \n",
       "1    40                   0.776   No relevent experience       no_enrollment   \n",
       "2    21                   0.624   No relevent experience    Full time course   \n",
       "3   115                   0.789   No relevent experience                 NaN   \n",
       "4   162                   0.767  Has relevent experience       no_enrollment   \n",
       "\n",
       "  education_level major_discipline experience company_size last_new_job  \\\n",
       "0        Graduate             STEM        >20          NaN            1   \n",
       "1        Graduate             STEM         15        50-99           >4   \n",
       "2        Graduate             STEM          5          NaN        never   \n",
       "3        Graduate  Business Degree         <1          NaN        never   \n",
       "4         Masters             STEM        >20        50-99            4   \n",
       "\n",
       "   training_hours  target  gender_female  gender_male  gender_missing  \\\n",
       "0              36       1              0            1               0   \n",
       "1              47       0              0            1               0   \n",
       "2              83       0              0            0               1   \n",
       "3              52       1              0            0               1   \n",
       "4               8       0              0            1               0   \n",
       "\n",
       "   gender_other  \n",
       "0             0  \n",
       "1             0  \n",
       "2             0  \n",
       "3             0  \n",
       "4             0  "
      ]
     },
     "execution_count": 24,
     "metadata": {},
     "output_type": "execute_result"
    }
   ],
   "source": [
    "df.head()"
   ]
  },
  {
   "cell_type": "code",
   "execution_count": 25,
   "id": "89825a94",
   "metadata": {
    "ExecuteTime": {
     "end_time": "2021-07-28T11:44:33.622518Z",
     "start_time": "2021-07-28T11:44:33.608517Z"
    }
   },
   "outputs": [
    {
     "data": {
      "text/plain": [
       "(19158, 15)"
      ]
     },
     "execution_count": 25,
     "metadata": {},
     "output_type": "execute_result"
    }
   ],
   "source": [
    "df.shape"
   ]
  },
  {
   "cell_type": "markdown",
   "id": "a1a3a2af",
   "metadata": {},
   "source": [
    "# relevent_experience"
   ]
  },
  {
   "cell_type": "code",
   "execution_count": 26,
   "id": "a211f37e",
   "metadata": {
    "ExecuteTime": {
     "end_time": "2021-07-28T11:44:33.638517Z",
     "start_time": "2021-07-28T11:44:33.624519Z"
    }
   },
   "outputs": [
    {
     "data": {
      "text/plain": [
       "array(['Has relevent experience', 'No relevent experience'], dtype=object)"
      ]
     },
     "execution_count": 26,
     "metadata": {},
     "output_type": "execute_result"
    }
   ],
   "source": [
    "df.relevent_experience.unique()"
   ]
  },
  {
   "cell_type": "code",
   "execution_count": 27,
   "id": "832750ec",
   "metadata": {
    "ExecuteTime": {
     "end_time": "2021-07-28T11:44:33.654517Z",
     "start_time": "2021-07-28T11:44:33.640519Z"
    }
   },
   "outputs": [
    {
     "data": {
      "text/plain": [
       "0"
      ]
     },
     "execution_count": 27,
     "metadata": {},
     "output_type": "execute_result"
    }
   ],
   "source": [
    "df.relevent_experience.isnull().sum()"
   ]
  },
  {
   "cell_type": "code",
   "execution_count": 28,
   "id": "035281d7",
   "metadata": {
    "ExecuteTime": {
     "end_time": "2021-07-28T11:44:34.080518Z",
     "start_time": "2021-07-28T11:44:33.656519Z"
    }
   },
   "outputs": [
    {
     "data": {
      "text/plain": [
       "<AxesSubplot:xlabel='relevent_experience', ylabel='count'>"
      ]
     },
     "execution_count": 28,
     "metadata": {},
     "output_type": "execute_result"
    },
    {
     "data": {
      "image/png": "[encoded data removed]",
      "text/plain": [
       "<Figure size 1152x288 with 2 Axes>"
      ]
     },
     "metadata": {
      "needs_background": "light"
     },
     "output_type": "display_data"
    }
   ],
   "source": [
    "fig, axes = plt.subplots(1, 2, figsize=(16,4))\n",
    "sns.countplot(x=df.relevent_experience, ax=axes[0])\n",
    "sns.countplot(x=df.relevent_experience, hue=df.target, ax=axes[1])"
   ]
  },
  {
   "cell_type": "code",
   "execution_count": 29,
   "id": "34d852c7",
   "metadata": {
    "ExecuteTime": {
     "end_time": "2021-07-28T11:44:34.112520Z",
     "start_time": "2021-07-28T11:44:34.083548Z"
    }
   },
   "outputs": [
    {
     "data": {
      "text/html": [
       "<div>\n",
       "<style scoped>\n",
       "    .dataframe tbody tr th:only-of-type {\n",
       "        vertical-align: middle;\n",
       "    }\n",
       "\n",
       "    .dataframe tbody tr th {\n",
       "        vertical-align: top;\n",
       "    }\n",
       "\n",
       "    .dataframe thead th {\n",
       "        text-align: right;\n",
       "    }\n",
       "</style>\n",
       "<table border=\"1\" class=\"dataframe\">\n",
       "  <thead>\n",
       "    <tr style=\"text-align: right;\">\n",
       "      <th></th>\n",
       "      <th>city</th>\n",
       "      <th>city_development_index</th>\n",
       "      <th>relevent_experience</th>\n",
       "      <th>enrolled_university</th>\n",
       "      <th>education_level</th>\n",
       "      <th>major_discipline</th>\n",
       "      <th>experience</th>\n",
       "      <th>company_size</th>\n",
       "      <th>last_new_job</th>\n",
       "      <th>training_hours</th>\n",
       "      <th>target</th>\n",
       "      <th>gender_female</th>\n",
       "      <th>gender_male</th>\n",
       "      <th>gender_missing</th>\n",
       "      <th>gender_other</th>\n",
       "    </tr>\n",
       "  </thead>\n",
       "  <tbody>\n",
       "    <tr>\n",
       "      <th>0</th>\n",
       "      <td>103</td>\n",
       "      <td>0.920</td>\n",
       "      <td>1</td>\n",
       "      <td>no_enrollment</td>\n",
       "      <td>Graduate</td>\n",
       "      <td>STEM</td>\n",
       "      <td>&gt;20</td>\n",
       "      <td>NaN</td>\n",
       "      <td>1</td>\n",
       "      <td>36</td>\n",
       "      <td>1</td>\n",
       "      <td>0</td>\n",
       "      <td>1</td>\n",
       "      <td>0</td>\n",
       "      <td>0</td>\n",
       "    </tr>\n",
       "    <tr>\n",
       "      <th>1</th>\n",
       "      <td>40</td>\n",
       "      <td>0.776</td>\n",
       "      <td>0</td>\n",
       "      <td>no_enrollment</td>\n",
       "      <td>Graduate</td>\n",
       "      <td>STEM</td>\n",
       "      <td>15</td>\n",
       "      <td>50-99</td>\n",
       "      <td>&gt;4</td>\n",
       "      <td>47</td>\n",
       "      <td>0</td>\n",
       "      <td>0</td>\n",
       "      <td>1</td>\n",
       "      <td>0</td>\n",
       "      <td>0</td>\n",
       "    </tr>\n",
       "    <tr>\n",
       "      <th>2</th>\n",
       "      <td>21</td>\n",
       "      <td>0.624</td>\n",
       "      <td>0</td>\n",
       "      <td>Full time course</td>\n",
       "      <td>Graduate</td>\n",
       "      <td>STEM</td>\n",
       "      <td>5</td>\n",
       "      <td>NaN</td>\n",
       "      <td>never</td>\n",
       "      <td>83</td>\n",
       "      <td>0</td>\n",
       "      <td>0</td>\n",
       "      <td>0</td>\n",
       "      <td>1</td>\n",
       "      <td>0</td>\n",
       "    </tr>\n",
       "    <tr>\n",
       "      <th>3</th>\n",
       "      <td>115</td>\n",
       "      <td>0.789</td>\n",
       "      <td>0</td>\n",
       "      <td>NaN</td>\n",
       "      <td>Graduate</td>\n",
       "      <td>Business Degree</td>\n",
       "      <td>&lt;1</td>\n",
       "      <td>NaN</td>\n",
       "      <td>never</td>\n",
       "      <td>52</td>\n",
       "      <td>1</td>\n",
       "      <td>0</td>\n",
       "      <td>0</td>\n",
       "      <td>1</td>\n",
       "      <td>0</td>\n",
       "    </tr>\n",
       "    <tr>\n",
       "      <th>4</th>\n",
       "      <td>162</td>\n",
       "      <td>0.767</td>\n",
       "      <td>1</td>\n",
       "      <td>no_enrollment</td>\n",
       "      <td>Masters</td>\n",
       "      <td>STEM</td>\n",
       "      <td>&gt;20</td>\n",
       "      <td>50-99</td>\n",
       "      <td>4</td>\n",
       "      <td>8</td>\n",
       "      <td>0</td>\n",
       "      <td>0</td>\n",
       "      <td>1</td>\n",
       "      <td>0</td>\n",
       "      <td>0</td>\n",
       "    </tr>\n",
       "  </tbody>\n",
       "</table>\n",
       "</div>"
      ],
      "text/plain": [
       "   city  city_development_index  relevent_experience enrolled_university  \\\n",
       "0   103                   0.920                    1       no_enrollment   \n",
       "1    40                   0.776                    0       no_enrollment   \n",
       "2    21                   0.624                    0    Full time course   \n",
       "3   115                   0.789                    0                 NaN   \n",
       "4   162                   0.767                    1       no_enrollment   \n",
       "\n",
       "  education_level major_discipline experience company_size last_new_job  \\\n",
       "0        Graduate             STEM        >20          NaN            1   \n",
       "1        Graduate             STEM         15        50-99           >4   \n",
       "2        Graduate             STEM          5          NaN        never   \n",
       "3        Graduate  Business Degree         <1          NaN        never   \n",
       "4         Masters             STEM        >20        50-99            4   \n",
       "\n",
       "   training_hours  target  gender_female  gender_male  gender_missing  \\\n",
       "0              36       1              0            1               0   \n",
       "1              47       0              0            1               0   \n",
       "2              83       0              0            0               1   \n",
       "3              52       1              0            0               1   \n",
       "4               8       0              0            1               0   \n",
       "\n",
       "   gender_other  \n",
       "0             0  \n",
       "1             0  \n",
       "2             0  \n",
       "3             0  \n",
       "4             0  "
      ]
     },
     "execution_count": 29,
     "metadata": {},
     "output_type": "execute_result"
    }
   ],
   "source": [
    "df.relevent_experience = df.relevent_experience.map({'Has relevent experience': 1, 'No relevent experience': 0})\n",
    "df.head()"
   ]
  },
  {
   "cell_type": "code",
   "execution_count": null,
   "id": "018f97a9",
   "metadata": {},
   "outputs": [],
   "source": []
  },
  {
   "cell_type": "markdown",
   "id": "271e181e",
   "metadata": {},
   "source": [
    "# enrolled_university"
   ]
  },
  {
   "cell_type": "code",
   "execution_count": 30,
   "id": "379feefe",
   "metadata": {
    "ExecuteTime": {
     "end_time": "2021-07-28T11:44:34.144518Z",
     "start_time": "2021-07-28T11:44:34.114521Z"
    }
   },
   "outputs": [
    {
     "data": {
      "text/plain": [
       "array(['no_enrollment', 'Full time course', nan, 'Part time course'],\n",
       "      dtype=object)"
      ]
     },
     "execution_count": 30,
     "metadata": {},
     "output_type": "execute_result"
    }
   ],
   "source": [
    "df.enrolled_university.unique()"
   ]
  },
  {
   "cell_type": "code",
   "execution_count": 31,
   "id": "a3b755c6",
   "metadata": {
    "ExecuteTime": {
     "end_time": "2021-07-28T11:44:34.160549Z",
     "start_time": "2021-07-28T11:44:34.147535Z"
    },
    "scrolled": true
   },
   "outputs": [
    {
     "name": "stdout",
     "output_type": "stream",
     "text": [
      "386\n",
      "0.020148240943731077\n"
     ]
    }
   ],
   "source": [
    "print(df.enrolled_university.isnull().sum())\n",
    "print(df.enrolled_university.isnull().sum()/df.shape[0])"
   ]
  },
  {
   "cell_type": "code",
   "execution_count": 32,
   "id": "c8178174",
   "metadata": {
    "ExecuteTime": {
     "end_time": "2021-07-28T11:44:34.602523Z",
     "start_time": "2021-07-28T11:44:34.163524Z"
    },
    "scrolled": true
   },
   "outputs": [
    {
     "data": {
      "text/plain": [
       "<AxesSubplot:xlabel='enrolled_university', ylabel='count'>"
      ]
     },
     "execution_count": 32,
     "metadata": {},
     "output_type": "execute_result"
    },
    {
     "data": {
      "image/png": "[encoded data removed]",
      "text/plain": [
       "<Figure size 1152x288 with 2 Axes>"
      ]
     },
     "metadata": {
      "needs_background": "light"
     },
     "output_type": "display_data"
    }
   ],
   "source": [
    "fig, axes = plt.subplots(1, 2, figsize=(16,4))\n",
    "sns.countplot(x=df.enrolled_university, ax=axes[0])\n",
    "sns.countplot(x=df.enrolled_university, hue=df.target, ax=axes[1])"
   ]
  },
  {
   "cell_type": "markdown",
   "id": "8d74a4e0",
   "metadata": {},
   "source": [
    "**The missing data just occupies 2%, and value \"no_enrollment\" is dominent over all values, so we will use mode imputation for enrolled_university feature**"
   ]
  },
  {
   "cell_type": "code",
   "execution_count": 33,
   "id": "8ea416d0",
   "metadata": {
    "ExecuteTime": {
     "end_time": "2021-07-28T11:44:34.618554Z",
     "start_time": "2021-07-28T11:44:34.605550Z"
    }
   },
   "outputs": [
    {
     "data": {
      "text/plain": [
       "(19158, 15)"
      ]
     },
     "execution_count": 33,
     "metadata": {},
     "output_type": "execute_result"
    }
   ],
   "source": [
    "df.shape"
   ]
  },
  {
   "cell_type": "code",
   "execution_count": 34,
   "id": "c6d5c61e",
   "metadata": {
    "ExecuteTime": {
     "end_time": "2021-07-28T11:44:34.649558Z",
     "start_time": "2021-07-28T11:44:34.621519Z"
    }
   },
   "outputs": [
    {
     "data": {
      "text/plain": [
       "'no_enrollment'"
      ]
     },
     "execution_count": 34,
     "metadata": {},
     "output_type": "execute_result"
    }
   ],
   "source": [
    "df.enrolled_university.mode().iloc[0]"
   ]
  },
  {
   "cell_type": "code",
   "execution_count": 35,
   "id": "d39e3f46",
   "metadata": {
    "ExecuteTime": {
     "end_time": "2021-07-28T11:44:34.664519Z",
     "start_time": "2021-07-28T11:44:34.652554Z"
    }
   },
   "outputs": [
    {
     "data": {
      "text/plain": [
       "array(['no_enrollment', 'Full time course', 'Part time course'],\n",
       "      dtype=object)"
      ]
     },
     "execution_count": 35,
     "metadata": {},
     "output_type": "execute_result"
    }
   ],
   "source": [
    "df.enrolled_university = df.enrolled_university.fillna(df.enrolled_university.mode().iloc[0])\n",
    "df.enrolled_university.unique()"
   ]
  },
  {
   "cell_type": "markdown",
   "id": "f03ffa9d",
   "metadata": {
    "ExecuteTime": {
     "end_time": "2021-07-28T08:05:59.400351Z",
     "start_time": "2021-07-28T08:05:59.389377Z"
    }
   },
   "source": [
    "**I will use integers encoding for this feature, because this feature is ordered**"
   ]
  },
  {
   "cell_type": "code",
   "execution_count": 36,
   "id": "5bbb5ef3",
   "metadata": {
    "ExecuteTime": {
     "end_time": "2021-07-28T11:44:34.680519Z",
     "start_time": "2021-07-28T11:44:34.667517Z"
    }
   },
   "outputs": [],
   "source": [
    "temp = {'no_enrollment': 3, 'Part time course': 2, 'Full time course': 1}\n",
    "df.enrolled_university = df.enrolled_university.map(temp)\n",
    "del temp"
   ]
  },
  {
   "cell_type": "code",
   "execution_count": 37,
   "id": "2b74fab0",
   "metadata": {
    "ExecuteTime": {
     "end_time": "2021-07-28T11:44:34.725520Z",
     "start_time": "2021-07-28T11:44:34.683519Z"
    }
   },
   "outputs": [
    {
     "name": "stdout",
     "output_type": "stream",
     "text": [
      "(19158, 15)\n"
     ]
    },
    {
     "data": {
      "text/html": [
       "<div>\n",
       "<style scoped>\n",
       "    .dataframe tbody tr th:only-of-type {\n",
       "        vertical-align: middle;\n",
       "    }\n",
       "\n",
       "    .dataframe tbody tr th {\n",
       "        vertical-align: top;\n",
       "    }\n",
       "\n",
       "    .dataframe thead th {\n",
       "        text-align: right;\n",
       "    }\n",
       "</style>\n",
       "<table border=\"1\" class=\"dataframe\">\n",
       "  <thead>\n",
       "    <tr style=\"text-align: right;\">\n",
       "      <th></th>\n",
       "      <th>city</th>\n",
       "      <th>city_development_index</th>\n",
       "      <th>relevent_experience</th>\n",
       "      <th>enrolled_university</th>\n",
       "      <th>education_level</th>\n",
       "      <th>major_discipline</th>\n",
       "      <th>experience</th>\n",
       "      <th>company_size</th>\n",
       "      <th>last_new_job</th>\n",
       "      <th>training_hours</th>\n",
       "      <th>target</th>\n",
       "      <th>gender_female</th>\n",
       "      <th>gender_male</th>\n",
       "      <th>gender_missing</th>\n",
       "      <th>gender_other</th>\n",
       "    </tr>\n",
       "  </thead>\n",
       "  <tbody>\n",
       "    <tr>\n",
       "      <th>0</th>\n",
       "      <td>103</td>\n",
       "      <td>0.920</td>\n",
       "      <td>1</td>\n",
       "      <td>3</td>\n",
       "      <td>Graduate</td>\n",
       "      <td>STEM</td>\n",
       "      <td>&gt;20</td>\n",
       "      <td>NaN</td>\n",
       "      <td>1</td>\n",
       "      <td>36</td>\n",
       "      <td>1</td>\n",
       "      <td>0</td>\n",
       "      <td>1</td>\n",
       "      <td>0</td>\n",
       "      <td>0</td>\n",
       "    </tr>\n",
       "    <tr>\n",
       "      <th>1</th>\n",
       "      <td>40</td>\n",
       "      <td>0.776</td>\n",
       "      <td>0</td>\n",
       "      <td>3</td>\n",
       "      <td>Graduate</td>\n",
       "      <td>STEM</td>\n",
       "      <td>15</td>\n",
       "      <td>50-99</td>\n",
       "      <td>&gt;4</td>\n",
       "      <td>47</td>\n",
       "      <td>0</td>\n",
       "      <td>0</td>\n",
       "      <td>1</td>\n",
       "      <td>0</td>\n",
       "      <td>0</td>\n",
       "    </tr>\n",
       "    <tr>\n",
       "      <th>2</th>\n",
       "      <td>21</td>\n",
       "      <td>0.624</td>\n",
       "      <td>0</td>\n",
       "      <td>1</td>\n",
       "      <td>Graduate</td>\n",
       "      <td>STEM</td>\n",
       "      <td>5</td>\n",
       "      <td>NaN</td>\n",
       "      <td>never</td>\n",
       "      <td>83</td>\n",
       "      <td>0</td>\n",
       "      <td>0</td>\n",
       "      <td>0</td>\n",
       "      <td>1</td>\n",
       "      <td>0</td>\n",
       "    </tr>\n",
       "    <tr>\n",
       "      <th>3</th>\n",
       "      <td>115</td>\n",
       "      <td>0.789</td>\n",
       "      <td>0</td>\n",
       "      <td>3</td>\n",
       "      <td>Graduate</td>\n",
       "      <td>Business Degree</td>\n",
       "      <td>&lt;1</td>\n",
       "      <td>NaN</td>\n",
       "      <td>never</td>\n",
       "      <td>52</td>\n",
       "      <td>1</td>\n",
       "      <td>0</td>\n",
       "      <td>0</td>\n",
       "      <td>1</td>\n",
       "      <td>0</td>\n",
       "    </tr>\n",
       "    <tr>\n",
       "      <th>4</th>\n",
       "      <td>162</td>\n",
       "      <td>0.767</td>\n",
       "      <td>1</td>\n",
       "      <td>3</td>\n",
       "      <td>Masters</td>\n",
       "      <td>STEM</td>\n",
       "      <td>&gt;20</td>\n",
       "      <td>50-99</td>\n",
       "      <td>4</td>\n",
       "      <td>8</td>\n",
       "      <td>0</td>\n",
       "      <td>0</td>\n",
       "      <td>1</td>\n",
       "      <td>0</td>\n",
       "      <td>0</td>\n",
       "    </tr>\n",
       "  </tbody>\n",
       "</table>\n",
       "</div>"
      ],
      "text/plain": [
       "   city  city_development_index  relevent_experience  enrolled_university  \\\n",
       "0   103                   0.920                    1                    3   \n",
       "1    40                   0.776                    0                    3   \n",
       "2    21                   0.624                    0                    1   \n",
       "3   115                   0.789                    0                    3   \n",
       "4   162                   0.767                    1                    3   \n",
       "\n",
       "  education_level major_discipline experience company_size last_new_job  \\\n",
       "0        Graduate             STEM        >20          NaN            1   \n",
       "1        Graduate             STEM         15        50-99           >4   \n",
       "2        Graduate             STEM          5          NaN        never   \n",
       "3        Graduate  Business Degree         <1          NaN        never   \n",
       "4         Masters             STEM        >20        50-99            4   \n",
       "\n",
       "   training_hours  target  gender_female  gender_male  gender_missing  \\\n",
       "0              36       1              0            1               0   \n",
       "1              47       0              0            1               0   \n",
       "2              83       0              0            0               1   \n",
       "3              52       1              0            0               1   \n",
       "4               8       0              0            1               0   \n",
       "\n",
       "   gender_other  \n",
       "0             0  \n",
       "1             0  \n",
       "2             0  \n",
       "3             0  \n",
       "4             0  "
      ]
     },
     "execution_count": 37,
     "metadata": {},
     "output_type": "execute_result"
    }
   ],
   "source": [
    "print(df.shape)\n",
    "df.head()"
   ]
  },
  {
   "cell_type": "markdown",
   "id": "66408b0c",
   "metadata": {},
   "source": [
    "# education_level"
   ]
  },
  {
   "cell_type": "code",
   "execution_count": 38,
   "id": "6014dd27",
   "metadata": {
    "ExecuteTime": {
     "end_time": "2021-07-28T11:44:34.741523Z",
     "start_time": "2021-07-28T11:44:34.727525Z"
    }
   },
   "outputs": [
    {
     "data": {
      "text/plain": [
       "array(['Graduate', 'Masters', 'High School', nan, 'Phd', 'Primary School'],\n",
       "      dtype=object)"
      ]
     },
     "execution_count": 38,
     "metadata": {},
     "output_type": "execute_result"
    }
   ],
   "source": [
    "df.education_level.unique()"
   ]
  },
  {
   "cell_type": "code",
   "execution_count": 39,
   "id": "5b18a724",
   "metadata": {
    "ExecuteTime": {
     "end_time": "2021-07-28T11:44:34.756582Z",
     "start_time": "2021-07-28T11:44:34.744525Z"
    }
   },
   "outputs": [
    {
     "name": "stdout",
     "output_type": "stream",
     "text": [
      "460\n",
      "0.02401085708320284\n"
     ]
    }
   ],
   "source": [
    "print(df.education_level.isnull().sum())\n",
    "print(df.education_level.isnull().sum() / df.shape[0])"
   ]
  },
  {
   "cell_type": "code",
   "execution_count": 40,
   "id": "68df2d50",
   "metadata": {
    "ExecuteTime": {
     "end_time": "2021-07-28T11:44:35.263576Z",
     "start_time": "2021-07-28T11:44:34.758567Z"
    }
   },
   "outputs": [
    {
     "data": {
      "text/plain": [
       "<AxesSubplot:xlabel='education_level', ylabel='count'>"
      ]
     },
     "execution_count": 40,
     "metadata": {},
     "output_type": "execute_result"
    },
    {
     "data": {
      "image/png": "[encoded data removed]",
      "text/plain": [
       "<Figure size 1152x288 with 2 Axes>"
      ]
     },
     "metadata": {
      "needs_background": "light"
     },
     "output_type": "display_data"
    }
   ],
   "source": [
    "fig, axes = plt.subplots(1, 2, figsize=(16,4))\n",
    "sns.countplot(x=df.education_level, ax=axes[0])\n",
    "sns.countplot(x=df.education_level, hue=df.target, ax=axes[1])"
   ]
  },
  {
   "cell_type": "markdown",
   "id": "feb718d3",
   "metadata": {},
   "source": [
    "**The missing data just occupies 2%, and value \"graduate\" is dominent over all values, so we will use mode imputation for enrolled_university feature**"
   ]
  },
  {
   "cell_type": "code",
   "execution_count": 41,
   "id": "d2da903c",
   "metadata": {
    "ExecuteTime": {
     "end_time": "2021-07-28T11:44:35.293518Z",
     "start_time": "2021-07-28T11:44:35.266526Z"
    },
    "scrolled": true
   },
   "outputs": [
    {
     "data": {
      "text/plain": [
       "array(['Graduate', 'Masters', 'High School', 'Phd', 'Primary School'],\n",
       "      dtype=object)"
      ]
     },
     "execution_count": 41,
     "metadata": {},
     "output_type": "execute_result"
    }
   ],
   "source": [
    "df.education_level = df.education_level.fillna(df.education_level.mode().iloc[0])\n",
    "df.education_level.unique()"
   ]
  },
  {
   "cell_type": "markdown",
   "id": "17dd9e8a",
   "metadata": {},
   "source": [
    "**I will use integers encoding for this feature, because this feature is ordered**"
   ]
  },
  {
   "cell_type": "code",
   "execution_count": 42,
   "id": "abd71ad0",
   "metadata": {
    "ExecuteTime": {
     "end_time": "2021-07-28T11:44:35.309538Z",
     "start_time": "2021-07-28T11:44:35.295517Z"
    }
   },
   "outputs": [],
   "source": [
    "temp = {'Primary School': 5, 'High School': 4, 'Graduate': 3, 'Masters': 2, 'Phd':1}\n",
    "df.education_level = df.education_level.map(temp)\n",
    "del temp"
   ]
  },
  {
   "cell_type": "code",
   "execution_count": 43,
   "id": "2f052afd",
   "metadata": {
    "ExecuteTime": {
     "end_time": "2021-07-28T11:44:35.340517Z",
     "start_time": "2021-07-28T11:44:35.311581Z"
    }
   },
   "outputs": [
    {
     "name": "stdout",
     "output_type": "stream",
     "text": [
      "(19158, 15)\n"
     ]
    },
    {
     "data": {
      "text/html": [
       "<div>\n",
       "<style scoped>\n",
       "    .dataframe tbody tr th:only-of-type {\n",
       "        vertical-align: middle;\n",
       "    }\n",
       "\n",
       "    .dataframe tbody tr th {\n",
       "        vertical-align: top;\n",
       "    }\n",
       "\n",
       "    .dataframe thead th {\n",
       "        text-align: right;\n",
       "    }\n",
       "</style>\n",
       "<table border=\"1\" class=\"dataframe\">\n",
       "  <thead>\n",
       "    <tr style=\"text-align: right;\">\n",
       "      <th></th>\n",
       "      <th>city</th>\n",
       "      <th>city_development_index</th>\n",
       "      <th>relevent_experience</th>\n",
       "      <th>enrolled_university</th>\n",
       "      <th>education_level</th>\n",
       "      <th>major_discipline</th>\n",
       "      <th>experience</th>\n",
       "      <th>company_size</th>\n",
       "      <th>last_new_job</th>\n",
       "      <th>training_hours</th>\n",
       "      <th>target</th>\n",
       "      <th>gender_female</th>\n",
       "      <th>gender_male</th>\n",
       "      <th>gender_missing</th>\n",
       "      <th>gender_other</th>\n",
       "    </tr>\n",
       "  </thead>\n",
       "  <tbody>\n",
       "    <tr>\n",
       "      <th>0</th>\n",
       "      <td>103</td>\n",
       "      <td>0.920</td>\n",
       "      <td>1</td>\n",
       "      <td>3</td>\n",
       "      <td>3</td>\n",
       "      <td>STEM</td>\n",
       "      <td>&gt;20</td>\n",
       "      <td>NaN</td>\n",
       "      <td>1</td>\n",
       "      <td>36</td>\n",
       "      <td>1</td>\n",
       "      <td>0</td>\n",
       "      <td>1</td>\n",
       "      <td>0</td>\n",
       "      <td>0</td>\n",
       "    </tr>\n",
       "    <tr>\n",
       "      <th>1</th>\n",
       "      <td>40</td>\n",
       "      <td>0.776</td>\n",
       "      <td>0</td>\n",
       "      <td>3</td>\n",
       "      <td>3</td>\n",
       "      <td>STEM</td>\n",
       "      <td>15</td>\n",
       "      <td>50-99</td>\n",
       "      <td>&gt;4</td>\n",
       "      <td>47</td>\n",
       "      <td>0</td>\n",
       "      <td>0</td>\n",
       "      <td>1</td>\n",
       "      <td>0</td>\n",
       "      <td>0</td>\n",
       "    </tr>\n",
       "    <tr>\n",
       "      <th>2</th>\n",
       "      <td>21</td>\n",
       "      <td>0.624</td>\n",
       "      <td>0</td>\n",
       "      <td>1</td>\n",
       "      <td>3</td>\n",
       "      <td>STEM</td>\n",
       "      <td>5</td>\n",
       "      <td>NaN</td>\n",
       "      <td>never</td>\n",
       "      <td>83</td>\n",
       "      <td>0</td>\n",
       "      <td>0</td>\n",
       "      <td>0</td>\n",
       "      <td>1</td>\n",
       "      <td>0</td>\n",
       "    </tr>\n",
       "    <tr>\n",
       "      <th>3</th>\n",
       "      <td>115</td>\n",
       "      <td>0.789</td>\n",
       "      <td>0</td>\n",
       "      <td>3</td>\n",
       "      <td>3</td>\n",
       "      <td>Business Degree</td>\n",
       "      <td>&lt;1</td>\n",
       "      <td>NaN</td>\n",
       "      <td>never</td>\n",
       "      <td>52</td>\n",
       "      <td>1</td>\n",
       "      <td>0</td>\n",
       "      <td>0</td>\n",
       "      <td>1</td>\n",
       "      <td>0</td>\n",
       "    </tr>\n",
       "    <tr>\n",
       "      <th>4</th>\n",
       "      <td>162</td>\n",
       "      <td>0.767</td>\n",
       "      <td>1</td>\n",
       "      <td>3</td>\n",
       "      <td>2</td>\n",
       "      <td>STEM</td>\n",
       "      <td>&gt;20</td>\n",
       "      <td>50-99</td>\n",
       "      <td>4</td>\n",
       "      <td>8</td>\n",
       "      <td>0</td>\n",
       "      <td>0</td>\n",
       "      <td>1</td>\n",
       "      <td>0</td>\n",
       "      <td>0</td>\n",
       "    </tr>\n",
       "  </tbody>\n",
       "</table>\n",
       "</div>"
      ],
      "text/plain": [
       "   city  city_development_index  relevent_experience  enrolled_university  \\\n",
       "0   103                   0.920                    1                    3   \n",
       "1    40                   0.776                    0                    3   \n",
       "2    21                   0.624                    0                    1   \n",
       "3   115                   0.789                    0                    3   \n",
       "4   162                   0.767                    1                    3   \n",
       "\n",
       "   education_level major_discipline experience company_size last_new_job  \\\n",
       "0                3             STEM        >20          NaN            1   \n",
       "1                3             STEM         15        50-99           >4   \n",
       "2                3             STEM          5          NaN        never   \n",
       "3                3  Business Degree         <1          NaN        never   \n",
       "4                2             STEM        >20        50-99            4   \n",
       "\n",
       "   training_hours  target  gender_female  gender_male  gender_missing  \\\n",
       "0              36       1              0            1               0   \n",
       "1              47       0              0            1               0   \n",
       "2              83       0              0            0               1   \n",
       "3              52       1              0            0               1   \n",
       "4               8       0              0            1               0   \n",
       "\n",
       "   gender_other  \n",
       "0             0  \n",
       "1             0  \n",
       "2             0  \n",
       "3             0  \n",
       "4             0  "
      ]
     },
     "execution_count": 43,
     "metadata": {},
     "output_type": "execute_result"
    }
   ],
   "source": [
    "print(df.shape)\n",
    "df.head()"
   ]
  },
  {
   "cell_type": "code",
   "execution_count": null,
   "id": "246bc0f7",
   "metadata": {},
   "outputs": [],
   "source": []
  },
  {
   "cell_type": "markdown",
   "id": "48e0a8c3",
   "metadata": {},
   "source": [
    "# major_discipline"
   ]
  },
  {
   "cell_type": "code",
   "execution_count": 44,
   "id": "ff46ccf2",
   "metadata": {
    "ExecuteTime": {
     "end_time": "2021-07-28T11:44:35.356517Z",
     "start_time": "2021-07-28T11:44:35.342518Z"
    }
   },
   "outputs": [
    {
     "data": {
      "text/plain": [
       "array(['STEM', 'Business Degree', nan, 'Arts', 'Humanities', 'No Major',\n",
       "       'Other'], dtype=object)"
      ]
     },
     "execution_count": 44,
     "metadata": {},
     "output_type": "execute_result"
    }
   ],
   "source": [
    "df.major_discipline.unique()"
   ]
  },
  {
   "cell_type": "code",
   "execution_count": 45,
   "id": "836cc996",
   "metadata": {
    "ExecuteTime": {
     "end_time": "2021-07-28T11:44:35.371570Z",
     "start_time": "2021-07-28T11:44:35.358572Z"
    }
   },
   "outputs": [
    {
     "name": "stdout",
     "output_type": "stream",
     "text": [
      "2813\n",
      "0.1468316108153252\n"
     ]
    }
   ],
   "source": [
    "print(df.major_discipline.isnull().sum())\n",
    "print(df.major_discipline.isnull().sum() / df.shape[0])"
   ]
  },
  {
   "cell_type": "code",
   "execution_count": 46,
   "id": "3c63557c",
   "metadata": {
    "ExecuteTime": {
     "end_time": "2021-07-28T11:44:35.387522Z",
     "start_time": "2021-07-28T11:44:35.373532Z"
    }
   },
   "outputs": [
    {
     "data": {
      "text/plain": [
       "array(['STEM', 'Business Degree', 'Missing', 'Arts', 'Humanities',\n",
       "       'No Major', 'Other'], dtype=object)"
      ]
     },
     "execution_count": 46,
     "metadata": {},
     "output_type": "execute_result"
    }
   ],
   "source": [
    "df.major_discipline = df.major_discipline.fillna(\"Missing\")\n",
    "df.major_discipline.unique()"
   ]
  },
  {
   "cell_type": "code",
   "execution_count": 47,
   "id": "38d06739",
   "metadata": {
    "ExecuteTime": {
     "end_time": "2021-07-28T11:44:35.997554Z",
     "start_time": "2021-07-28T11:44:35.389520Z"
    }
   },
   "outputs": [
    {
     "data": {
      "text/plain": [
       "<AxesSubplot:xlabel='major_discipline', ylabel='count'>"
      ]
     },
     "execution_count": 47,
     "metadata": {},
     "output_type": "execute_result"
    },
    {
     "data": {
      "image/png": "[encoded data removed]",
      "text/plain": [
       "<Figure size 1152x288 with 2 Axes>"
      ]
     },
     "metadata": {
      "needs_background": "light"
     },
     "output_type": "display_data"
    }
   ],
   "source": [
    "fig, axes = plt.subplots(1, 2, figsize=(16,4))\n",
    "sns.countplot(x=df.major_discipline, ax=axes[0])\n",
    "sns.countplot(x=df.major_discipline, hue=df.target, ax=axes[1])"
   ]
  },
  {
   "cell_type": "code",
   "execution_count": 48,
   "id": "a2239ef2",
   "metadata": {
    "ExecuteTime": {
     "end_time": "2021-07-28T11:44:36.028520Z",
     "start_time": "2021-07-28T11:44:35.999553Z"
    }
   },
   "outputs": [
    {
     "data": {
      "text/html": [
       "<div>\n",
       "<style scoped>\n",
       "    .dataframe tbody tr th:only-of-type {\n",
       "        vertical-align: middle;\n",
       "    }\n",
       "\n",
       "    .dataframe tbody tr th {\n",
       "        vertical-align: top;\n",
       "    }\n",
       "\n",
       "    .dataframe thead th {\n",
       "        text-align: right;\n",
       "    }\n",
       "</style>\n",
       "<table border=\"1\" class=\"dataframe\">\n",
       "  <thead>\n",
       "    <tr style=\"text-align: right;\">\n",
       "      <th></th>\n",
       "      <th>major_arts</th>\n",
       "      <th>major_business</th>\n",
       "      <th>major_humanities</th>\n",
       "      <th>major_missing</th>\n",
       "      <th>major_noMajor</th>\n",
       "      <th>major_other</th>\n",
       "      <th>major_STEM</th>\n",
       "    </tr>\n",
       "  </thead>\n",
       "  <tbody>\n",
       "    <tr>\n",
       "      <th>0</th>\n",
       "      <td>0</td>\n",
       "      <td>0</td>\n",
       "      <td>0</td>\n",
       "      <td>0</td>\n",
       "      <td>0</td>\n",
       "      <td>0</td>\n",
       "      <td>1</td>\n",
       "    </tr>\n",
       "    <tr>\n",
       "      <th>1</th>\n",
       "      <td>0</td>\n",
       "      <td>0</td>\n",
       "      <td>0</td>\n",
       "      <td>0</td>\n",
       "      <td>0</td>\n",
       "      <td>0</td>\n",
       "      <td>1</td>\n",
       "    </tr>\n",
       "    <tr>\n",
       "      <th>2</th>\n",
       "      <td>0</td>\n",
       "      <td>0</td>\n",
       "      <td>0</td>\n",
       "      <td>0</td>\n",
       "      <td>0</td>\n",
       "      <td>0</td>\n",
       "      <td>1</td>\n",
       "    </tr>\n",
       "    <tr>\n",
       "      <th>3</th>\n",
       "      <td>0</td>\n",
       "      <td>1</td>\n",
       "      <td>0</td>\n",
       "      <td>0</td>\n",
       "      <td>0</td>\n",
       "      <td>0</td>\n",
       "      <td>0</td>\n",
       "    </tr>\n",
       "    <tr>\n",
       "      <th>4</th>\n",
       "      <td>0</td>\n",
       "      <td>0</td>\n",
       "      <td>0</td>\n",
       "      <td>0</td>\n",
       "      <td>0</td>\n",
       "      <td>0</td>\n",
       "      <td>1</td>\n",
       "    </tr>\n",
       "  </tbody>\n",
       "</table>\n",
       "</div>"
      ],
      "text/plain": [
       "   major_arts  major_business  major_humanities  major_missing  major_noMajor  \\\n",
       "0           0               0                 0              0              0   \n",
       "1           0               0                 0              0              0   \n",
       "2           0               0                 0              0              0   \n",
       "3           0               1                 0              0              0   \n",
       "4           0               0                 0              0              0   \n",
       "\n",
       "   major_other  major_STEM  \n",
       "0            0           1  \n",
       "1            0           1  \n",
       "2            0           1  \n",
       "3            0           0  \n",
       "4            0           1  "
      ]
     },
     "execution_count": 48,
     "metadata": {},
     "output_type": "execute_result"
    }
   ],
   "source": [
    "onehot_major = pd.get_dummies(df.major_discipline.values)\n",
    "column_name = {\"STEM\": \"major_STEM\", \"Business Degree\": \"major_business\", 'Missing':\"major_missing\", \"Arts\": \"major_arts\", \"Humanities\": \"major_humanities\", \"No Major\": \"major_noMajor\", \"Other\": \"major_other\"}\n",
    "onehot_major = onehot_major.rename(columns=column_name)\n",
    "onehot_major.head()"
   ]
  },
  {
   "cell_type": "code",
   "execution_count": 49,
   "id": "ae4d2432",
   "metadata": {
    "ExecuteTime": {
     "end_time": "2021-07-28T11:44:36.058551Z",
     "start_time": "2021-07-28T11:44:36.031554Z"
    }
   },
   "outputs": [],
   "source": [
    "df = pd.concat([df, onehot_major], axis=1).drop(['major_discipline'], axis=1)\n",
    "del onehot_major\n",
    "del column_name\n"
   ]
  },
  {
   "cell_type": "code",
   "execution_count": 50,
   "id": "6e25b653",
   "metadata": {
    "ExecuteTime": {
     "end_time": "2021-07-28T11:44:36.105569Z",
     "start_time": "2021-07-28T11:44:36.061574Z"
    }
   },
   "outputs": [
    {
     "name": "stdout",
     "output_type": "stream",
     "text": [
      "(19158, 21)\n"
     ]
    },
    {
     "data": {
      "text/html": [
       "<div>\n",
       "<style scoped>\n",
       "    .dataframe tbody tr th:only-of-type {\n",
       "        vertical-align: middle;\n",
       "    }\n",
       "\n",
       "    .dataframe tbody tr th {\n",
       "        vertical-align: top;\n",
       "    }\n",
       "\n",
       "    .dataframe thead th {\n",
       "        text-align: right;\n",
       "    }\n",
       "</style>\n",
       "<table border=\"1\" class=\"dataframe\">\n",
       "  <thead>\n",
       "    <tr style=\"text-align: right;\">\n",
       "      <th></th>\n",
       "      <th>city</th>\n",
       "      <th>city_development_index</th>\n",
       "      <th>relevent_experience</th>\n",
       "      <th>enrolled_university</th>\n",
       "      <th>education_level</th>\n",
       "      <th>experience</th>\n",
       "      <th>company_size</th>\n",
       "      <th>last_new_job</th>\n",
       "      <th>training_hours</th>\n",
       "      <th>target</th>\n",
       "      <th>...</th>\n",
       "      <th>gender_male</th>\n",
       "      <th>gender_missing</th>\n",
       "      <th>gender_other</th>\n",
       "      <th>major_arts</th>\n",
       "      <th>major_business</th>\n",
       "      <th>major_humanities</th>\n",
       "      <th>major_missing</th>\n",
       "      <th>major_noMajor</th>\n",
       "      <th>major_other</th>\n",
       "      <th>major_STEM</th>\n",
       "    </tr>\n",
       "  </thead>\n",
       "  <tbody>\n",
       "    <tr>\n",
       "      <th>0</th>\n",
       "      <td>103</td>\n",
       "      <td>0.920</td>\n",
       "      <td>1</td>\n",
       "      <td>3</td>\n",
       "      <td>3</td>\n",
       "      <td>&gt;20</td>\n",
       "      <td>NaN</td>\n",
       "      <td>1</td>\n",
       "      <td>36</td>\n",
       "      <td>1</td>\n",
       "      <td>...</td>\n",
       "      <td>1</td>\n",
       "      <td>0</td>\n",
       "      <td>0</td>\n",
       "      <td>0</td>\n",
       "      <td>0</td>\n",
       "      <td>0</td>\n",
       "      <td>0</td>\n",
       "      <td>0</td>\n",
       "      <td>0</td>\n",
       "      <td>1</td>\n",
       "    </tr>\n",
       "    <tr>\n",
       "      <th>1</th>\n",
       "      <td>40</td>\n",
       "      <td>0.776</td>\n",
       "      <td>0</td>\n",
       "      <td>3</td>\n",
       "      <td>3</td>\n",
       "      <td>15</td>\n",
       "      <td>50-99</td>\n",
       "      <td>&gt;4</td>\n",
       "      <td>47</td>\n",
       "      <td>0</td>\n",
       "      <td>...</td>\n",
       "      <td>1</td>\n",
       "      <td>0</td>\n",
       "      <td>0</td>\n",
       "      <td>0</td>\n",
       "      <td>0</td>\n",
       "      <td>0</td>\n",
       "      <td>0</td>\n",
       "      <td>0</td>\n",
       "      <td>0</td>\n",
       "      <td>1</td>\n",
       "    </tr>\n",
       "    <tr>\n",
       "      <th>2</th>\n",
       "      <td>21</td>\n",
       "      <td>0.624</td>\n",
       "      <td>0</td>\n",
       "      <td>1</td>\n",
       "      <td>3</td>\n",
       "      <td>5</td>\n",
       "      <td>NaN</td>\n",
       "      <td>never</td>\n",
       "      <td>83</td>\n",
       "      <td>0</td>\n",
       "      <td>...</td>\n",
       "      <td>0</td>\n",
       "      <td>1</td>\n",
       "      <td>0</td>\n",
       "      <td>0</td>\n",
       "      <td>0</td>\n",
       "      <td>0</td>\n",
       "      <td>0</td>\n",
       "      <td>0</td>\n",
       "      <td>0</td>\n",
       "      <td>1</td>\n",
       "    </tr>\n",
       "    <tr>\n",
       "      <th>3</th>\n",
       "      <td>115</td>\n",
       "      <td>0.789</td>\n",
       "      <td>0</td>\n",
       "      <td>3</td>\n",
       "      <td>3</td>\n",
       "      <td>&lt;1</td>\n",
       "      <td>NaN</td>\n",
       "      <td>never</td>\n",
       "      <td>52</td>\n",
       "      <td>1</td>\n",
       "      <td>...</td>\n",
       "      <td>0</td>\n",
       "      <td>1</td>\n",
       "      <td>0</td>\n",
       "      <td>0</td>\n",
       "      <td>1</td>\n",
       "      <td>0</td>\n",
       "      <td>0</td>\n",
       "      <td>0</td>\n",
       "      <td>0</td>\n",
       "      <td>0</td>\n",
       "    </tr>\n",
       "    <tr>\n",
       "      <th>4</th>\n",
       "      <td>162</td>\n",
       "      <td>0.767</td>\n",
       "      <td>1</td>\n",
       "      <td>3</td>\n",
       "      <td>2</td>\n",
       "      <td>&gt;20</td>\n",
       "      <td>50-99</td>\n",
       "      <td>4</td>\n",
       "      <td>8</td>\n",
       "      <td>0</td>\n",
       "      <td>...</td>\n",
       "      <td>1</td>\n",
       "      <td>0</td>\n",
       "      <td>0</td>\n",
       "      <td>0</td>\n",
       "      <td>0</td>\n",
       "      <td>0</td>\n",
       "      <td>0</td>\n",
       "      <td>0</td>\n",
       "      <td>0</td>\n",
       "      <td>1</td>\n",
       "    </tr>\n",
       "  </tbody>\n",
       "</table>\n",
       "<p>5 rows × 21 columns</p>\n",
       "</div>"
      ],
      "text/plain": [
       "   city  city_development_index  relevent_experience  enrolled_university  \\\n",
       "0   103                   0.920                    1                    3   \n",
       "1    40                   0.776                    0                    3   \n",
       "2    21                   0.624                    0                    1   \n",
       "3   115                   0.789                    0                    3   \n",
       "4   162                   0.767                    1                    3   \n",
       "\n",
       "   education_level experience company_size last_new_job  training_hours  \\\n",
       "0                3        >20          NaN            1              36   \n",
       "1                3         15        50-99           >4              47   \n",
       "2                3          5          NaN        never              83   \n",
       "3                3         <1          NaN        never              52   \n",
       "4                2        >20        50-99            4               8   \n",
       "\n",
       "   target  ...  gender_male  gender_missing  gender_other  major_arts  \\\n",
       "0       1  ...            1               0             0           0   \n",
       "1       0  ...            1               0             0           0   \n",
       "2       0  ...            0               1             0           0   \n",
       "3       1  ...            0               1             0           0   \n",
       "4       0  ...            1               0             0           0   \n",
       "\n",
       "   major_business  major_humanities  major_missing  major_noMajor  \\\n",
       "0               0                 0              0              0   \n",
       "1               0                 0              0              0   \n",
       "2               0                 0              0              0   \n",
       "3               1                 0              0              0   \n",
       "4               0                 0              0              0   \n",
       "\n",
       "   major_other  major_STEM  \n",
       "0            0           1  \n",
       "1            0           1  \n",
       "2            0           1  \n",
       "3            0           0  \n",
       "4            0           1  \n",
       "\n",
       "[5 rows x 21 columns]"
      ]
     },
     "execution_count": 50,
     "metadata": {},
     "output_type": "execute_result"
    }
   ],
   "source": [
    "print(df.shape)\n",
    "df.head()"
   ]
  },
  {
   "cell_type": "code",
   "execution_count": null,
   "id": "828d2fd1",
   "metadata": {
    "ExecuteTime": {
     "end_time": "2021-07-28T08:25:23.282335Z",
     "start_time": "2021-07-28T08:25:23.271340Z"
    }
   },
   "outputs": [],
   "source": []
  },
  {
   "cell_type": "markdown",
   "id": "b65c2970",
   "metadata": {},
   "source": [
    "# experience"
   ]
  },
  {
   "cell_type": "code",
   "execution_count": 51,
   "id": "2ec69e70",
   "metadata": {
    "ExecuteTime": {
     "end_time": "2021-07-28T11:44:36.121517Z",
     "start_time": "2021-07-28T11:44:36.108555Z"
    }
   },
   "outputs": [
    {
     "data": {
      "text/plain": [
       "array(['>20', '15', '5', '<1', '11', '13', '7', '17', '2', '16', '1', '4',\n",
       "       '10', '14', '18', '19', '12', '3', '6', '9', '8', '20', nan],\n",
       "      dtype=object)"
      ]
     },
     "execution_count": 51,
     "metadata": {},
     "output_type": "execute_result"
    }
   ],
   "source": [
    "df.experience.unique()"
   ]
  },
  {
   "cell_type": "code",
   "execution_count": 52,
   "id": "ee0c3ec0",
   "metadata": {
    "ExecuteTime": {
     "end_time": "2021-07-28T11:44:36.137519Z",
     "start_time": "2021-07-28T11:44:36.123517Z"
    }
   },
   "outputs": [
    {
     "data": {
      "text/plain": [
       "65"
      ]
     },
     "execution_count": 52,
     "metadata": {},
     "output_type": "execute_result"
    }
   ],
   "source": [
    "df.experience.isnull().sum()"
   ]
  },
  {
   "cell_type": "code",
   "execution_count": 53,
   "id": "fd00a23d",
   "metadata": {
    "ExecuteTime": {
     "end_time": "2021-07-28T11:44:37.065519Z",
     "start_time": "2021-07-28T11:44:36.140520Z"
    }
   },
   "outputs": [
    {
     "data": {
      "text/plain": [
       "<AxesSubplot:xlabel='experience', ylabel='count'>"
      ]
     },
     "execution_count": 53,
     "metadata": {},
     "output_type": "execute_result"
    },
    {
     "data": {
      "image/png": "[encoded data removed]",
      "text/plain": [
       "<Figure size 1152x288 with 2 Axes>"
      ]
     },
     "metadata": {
      "needs_background": "light"
     },
     "output_type": "display_data"
    }
   ],
   "source": [
    "fig, axes = plt.subplots(1, 2, figsize=(16,4))\n",
    "sns.countplot(x=df.experience, ax=axes[0])\n",
    "sns.countplot(x=df.experience, hue=df.target, ax=axes[1])"
   ]
  },
  {
   "cell_type": "markdown",
   "id": "fc050040",
   "metadata": {},
   "source": [
    "**When experince larger than 20, we label it to 21, and if smaller than 1, we label it to 0**"
   ]
  },
  {
   "cell_type": "code",
   "execution_count": 54,
   "id": "b1d065af",
   "metadata": {
    "ExecuteTime": {
     "end_time": "2021-07-28T11:44:37.097554Z",
     "start_time": "2021-07-28T11:44:37.067556Z"
    }
   },
   "outputs": [
    {
     "data": {
      "text/plain": [
       "array(['21', '15', '5', '0', '11', '13', '7', '17', '2', '16', '1', '4',\n",
       "       '10', '14', '18', '19', '12', '3', '6', '9', '8', '20', nan],\n",
       "      dtype=object)"
      ]
     },
     "execution_count": 54,
     "metadata": {},
     "output_type": "execute_result"
    }
   ],
   "source": [
    "df.loc[df.experience == '>20', \"experience\"] = \"21\"\n",
    "df.loc[df.experience == '<1', \"experience\"] = \"0\"\n",
    "df.experience.unique()"
   ]
  },
  {
   "cell_type": "markdown",
   "id": "f8dd5317",
   "metadata": {},
   "source": [
    "**NaN value will be replace by -1**"
   ]
  },
  {
   "cell_type": "code",
   "execution_count": 55,
   "id": "848cc5af",
   "metadata": {
    "ExecuteTime": {
     "end_time": "2021-07-28T11:44:37.113521Z",
     "start_time": "2021-07-28T11:44:37.100552Z"
    }
   },
   "outputs": [],
   "source": [
    "df.loc[df.experience.isnull(), \"experience\"] = -1"
   ]
  },
  {
   "cell_type": "code",
   "execution_count": 56,
   "id": "b6e68ef1",
   "metadata": {
    "ExecuteTime": {
     "end_time": "2021-07-28T11:44:37.128519Z",
     "start_time": "2021-07-28T11:44:37.116521Z"
    }
   },
   "outputs": [
    {
     "data": {
      "text/plain": [
       "array([21, 15,  5,  0, 11, 13,  7, 17,  2, 16,  1,  4, 10, 14, 18, 19, 12,\n",
       "        3,  6,  9,  8, 20, -1])"
      ]
     },
     "execution_count": 56,
     "metadata": {},
     "output_type": "execute_result"
    }
   ],
   "source": [
    "df.experience = df.experience.astype(int)\n",
    "df.experience.unique()"
   ]
  },
  {
   "cell_type": "markdown",
   "id": "40847508",
   "metadata": {},
   "source": [
    "**We will replace NaN value by the median**"
   ]
  },
  {
   "cell_type": "code",
   "execution_count": 57,
   "id": "c5f90a3f",
   "metadata": {
    "ExecuteTime": {
     "end_time": "2021-07-28T11:44:37.144519Z",
     "start_time": "2021-07-28T11:44:37.131519Z"
    }
   },
   "outputs": [
    {
     "data": {
      "text/plain": [
       "array([21, 15,  5,  0, 11, 13,  7, 17,  2, 16,  1,  4, 10, 14, 18, 19, 12,\n",
       "        3,  6,  9,  8, 20])"
      ]
     },
     "execution_count": 57,
     "metadata": {},
     "output_type": "execute_result"
    }
   ],
   "source": [
    "df.loc[df.experience == -1, \"experience\"] = df.experience.median()\n",
    "df.experience.unique()"
   ]
  },
  {
   "cell_type": "code",
   "execution_count": 58,
   "id": "422b88c6",
   "metadata": {
    "ExecuteTime": {
     "end_time": "2021-07-28T11:44:37.551540Z",
     "start_time": "2021-07-28T11:44:37.147519Z"
    }
   },
   "outputs": [
    {
     "data": {
      "text/plain": [
       "<AxesSubplot:xlabel='experience', ylabel='count'>"
      ]
     },
     "execution_count": 58,
     "metadata": {},
     "output_type": "execute_result"
    },
    {
     "data": {
      "image/png": "[encoded data removed]",
      "text/plain": [
       "<Figure size 432x288 with 1 Axes>"
      ]
     },
     "metadata": {
      "needs_background": "light"
     },
     "output_type": "display_data"
    }
   ],
   "source": [
    "sns.countplot(x=df.experience)"
   ]
  },
  {
   "cell_type": "markdown",
   "id": "bbef2868",
   "metadata": {},
   "source": [
    "**(We discretise experience into bins and store type into experience type feature)**"
   ]
  },
  {
   "cell_type": "code",
   "execution_count": 59,
   "id": "142d64cd",
   "metadata": {
    "ExecuteTime": {
     "end_time": "2021-07-28T11:44:37.583557Z",
     "start_time": "2021-07-28T11:44:37.553553Z"
    }
   },
   "outputs": [],
   "source": [
    "df.loc[df.experience < 1, \"experience_type\"] = 7\n",
    "df.loc[(df.experience >=1) & (df.experience <= 3), \"experience_type\"] = 6\n",
    "df.loc[(df.experience >3) & (df.experience <= 6), \"experience_type\"] = 5\n",
    "df.loc[(df.experience >6) & (df.experience <= 10), \"experience_type\"] = 4\n",
    "df.loc[(df.experience >10) & (df.experience <= 15), \"experience_type\"] = 3\n",
    "df.loc[(df.experience >15) & (df.experience <= 20), \"experience_type\"] = 2\n",
    "df.loc[df.experience > 20, \"experience_type\"] = 1\n",
    "# df.loc[df.experience == \"21\"] = 21\n",
    "# df.experience.unique()"
   ]
  },
  {
   "cell_type": "code",
   "execution_count": 60,
   "id": "97ce7482",
   "metadata": {
    "ExecuteTime": {
     "end_time": "2021-07-28T11:44:37.631560Z",
     "start_time": "2021-07-28T11:44:37.586552Z"
    }
   },
   "outputs": [
    {
     "data": {
      "text/html": [
       "<div>\n",
       "<style scoped>\n",
       "    .dataframe tbody tr th:only-of-type {\n",
       "        vertical-align: middle;\n",
       "    }\n",
       "\n",
       "    .dataframe tbody tr th {\n",
       "        vertical-align: top;\n",
       "    }\n",
       "\n",
       "    .dataframe thead th {\n",
       "        text-align: right;\n",
       "    }\n",
       "</style>\n",
       "<table border=\"1\" class=\"dataframe\">\n",
       "  <thead>\n",
       "    <tr style=\"text-align: right;\">\n",
       "      <th></th>\n",
       "      <th>city</th>\n",
       "      <th>city_development_index</th>\n",
       "      <th>relevent_experience</th>\n",
       "      <th>enrolled_university</th>\n",
       "      <th>education_level</th>\n",
       "      <th>experience</th>\n",
       "      <th>company_size</th>\n",
       "      <th>last_new_job</th>\n",
       "      <th>training_hours</th>\n",
       "      <th>target</th>\n",
       "      <th>...</th>\n",
       "      <th>gender_missing</th>\n",
       "      <th>gender_other</th>\n",
       "      <th>major_arts</th>\n",
       "      <th>major_business</th>\n",
       "      <th>major_humanities</th>\n",
       "      <th>major_missing</th>\n",
       "      <th>major_noMajor</th>\n",
       "      <th>major_other</th>\n",
       "      <th>major_STEM</th>\n",
       "      <th>experience_type</th>\n",
       "    </tr>\n",
       "  </thead>\n",
       "  <tbody>\n",
       "    <tr>\n",
       "      <th>0</th>\n",
       "      <td>103</td>\n",
       "      <td>0.920</td>\n",
       "      <td>1</td>\n",
       "      <td>3</td>\n",
       "      <td>3</td>\n",
       "      <td>21</td>\n",
       "      <td>NaN</td>\n",
       "      <td>1</td>\n",
       "      <td>36</td>\n",
       "      <td>1</td>\n",
       "      <td>...</td>\n",
       "      <td>0</td>\n",
       "      <td>0</td>\n",
       "      <td>0</td>\n",
       "      <td>0</td>\n",
       "      <td>0</td>\n",
       "      <td>0</td>\n",
       "      <td>0</td>\n",
       "      <td>0</td>\n",
       "      <td>1</td>\n",
       "      <td>1.0</td>\n",
       "    </tr>\n",
       "    <tr>\n",
       "      <th>1</th>\n",
       "      <td>40</td>\n",
       "      <td>0.776</td>\n",
       "      <td>0</td>\n",
       "      <td>3</td>\n",
       "      <td>3</td>\n",
       "      <td>15</td>\n",
       "      <td>50-99</td>\n",
       "      <td>&gt;4</td>\n",
       "      <td>47</td>\n",
       "      <td>0</td>\n",
       "      <td>...</td>\n",
       "      <td>0</td>\n",
       "      <td>0</td>\n",
       "      <td>0</td>\n",
       "      <td>0</td>\n",
       "      <td>0</td>\n",
       "      <td>0</td>\n",
       "      <td>0</td>\n",
       "      <td>0</td>\n",
       "      <td>1</td>\n",
       "      <td>3.0</td>\n",
       "    </tr>\n",
       "    <tr>\n",
       "      <th>2</th>\n",
       "      <td>21</td>\n",
       "      <td>0.624</td>\n",
       "      <td>0</td>\n",
       "      <td>1</td>\n",
       "      <td>3</td>\n",
       "      <td>5</td>\n",
       "      <td>NaN</td>\n",
       "      <td>never</td>\n",
       "      <td>83</td>\n",
       "      <td>0</td>\n",
       "      <td>...</td>\n",
       "      <td>1</td>\n",
       "      <td>0</td>\n",
       "      <td>0</td>\n",
       "      <td>0</td>\n",
       "      <td>0</td>\n",
       "      <td>0</td>\n",
       "      <td>0</td>\n",
       "      <td>0</td>\n",
       "      <td>1</td>\n",
       "      <td>5.0</td>\n",
       "    </tr>\n",
       "    <tr>\n",
       "      <th>3</th>\n",
       "      <td>115</td>\n",
       "      <td>0.789</td>\n",
       "      <td>0</td>\n",
       "      <td>3</td>\n",
       "      <td>3</td>\n",
       "      <td>0</td>\n",
       "      <td>NaN</td>\n",
       "      <td>never</td>\n",
       "      <td>52</td>\n",
       "      <td>1</td>\n",
       "      <td>...</td>\n",
       "      <td>1</td>\n",
       "      <td>0</td>\n",
       "      <td>0</td>\n",
       "      <td>1</td>\n",
       "      <td>0</td>\n",
       "      <td>0</td>\n",
       "      <td>0</td>\n",
       "      <td>0</td>\n",
       "      <td>0</td>\n",
       "      <td>7.0</td>\n",
       "    </tr>\n",
       "    <tr>\n",
       "      <th>4</th>\n",
       "      <td>162</td>\n",
       "      <td>0.767</td>\n",
       "      <td>1</td>\n",
       "      <td>3</td>\n",
       "      <td>2</td>\n",
       "      <td>21</td>\n",
       "      <td>50-99</td>\n",
       "      <td>4</td>\n",
       "      <td>8</td>\n",
       "      <td>0</td>\n",
       "      <td>...</td>\n",
       "      <td>0</td>\n",
       "      <td>0</td>\n",
       "      <td>0</td>\n",
       "      <td>0</td>\n",
       "      <td>0</td>\n",
       "      <td>0</td>\n",
       "      <td>0</td>\n",
       "      <td>0</td>\n",
       "      <td>1</td>\n",
       "      <td>1.0</td>\n",
       "    </tr>\n",
       "  </tbody>\n",
       "</table>\n",
       "<p>5 rows × 22 columns</p>\n",
       "</div>"
      ],
      "text/plain": [
       "   city  city_development_index  relevent_experience  enrolled_university  \\\n",
       "0   103                   0.920                    1                    3   \n",
       "1    40                   0.776                    0                    3   \n",
       "2    21                   0.624                    0                    1   \n",
       "3   115                   0.789                    0                    3   \n",
       "4   162                   0.767                    1                    3   \n",
       "\n",
       "   education_level  experience company_size last_new_job  training_hours  \\\n",
       "0                3          21          NaN            1              36   \n",
       "1                3          15        50-99           >4              47   \n",
       "2                3           5          NaN        never              83   \n",
       "3                3           0          NaN        never              52   \n",
       "4                2          21        50-99            4               8   \n",
       "\n",
       "   target  ...  gender_missing  gender_other  major_arts  major_business  \\\n",
       "0       1  ...               0             0           0               0   \n",
       "1       0  ...               0             0           0               0   \n",
       "2       0  ...               1             0           0               0   \n",
       "3       1  ...               1             0           0               1   \n",
       "4       0  ...               0             0           0               0   \n",
       "\n",
       "   major_humanities  major_missing  major_noMajor  major_other  major_STEM  \\\n",
       "0                 0              0              0            0           1   \n",
       "1                 0              0              0            0           1   \n",
       "2                 0              0              0            0           1   \n",
       "3                 0              0              0            0           0   \n",
       "4                 0              0              0            0           1   \n",
       "\n",
       "   experience_type  \n",
       "0              1.0  \n",
       "1              3.0  \n",
       "2              5.0  \n",
       "3              7.0  \n",
       "4              1.0  \n",
       "\n",
       "[5 rows x 22 columns]"
      ]
     },
     "execution_count": 60,
     "metadata": {},
     "output_type": "execute_result"
    }
   ],
   "source": [
    "df.head()"
   ]
  },
  {
   "cell_type": "code",
   "execution_count": 61,
   "id": "5034a67e",
   "metadata": {
    "ExecuteTime": {
     "end_time": "2021-07-28T11:44:37.886549Z",
     "start_time": "2021-07-28T11:44:37.633591Z"
    }
   },
   "outputs": [
    {
     "data": {
      "text/plain": [
       "<AxesSubplot:xlabel='experience_type', ylabel='count'>"
      ]
     },
     "execution_count": 61,
     "metadata": {},
     "output_type": "execute_result"
    },
    {
     "data": {
      "image/png": "[encoded data removed]",
      "text/plain": [
       "<Figure size 432x288 with 1 Axes>"
      ]
     },
     "metadata": {
      "needs_background": "light"
     },
     "output_type": "display_data"
    }
   ],
   "source": [
    "sns.countplot(x=df.experience_type)"
   ]
  },
  {
   "cell_type": "code",
   "execution_count": null,
   "id": "79a76ae7",
   "metadata": {},
   "outputs": [],
   "source": []
  },
  {
   "cell_type": "markdown",
   "id": "28a579f5",
   "metadata": {},
   "source": [
    "# company_size"
   ]
  },
  {
   "cell_type": "code",
   "execution_count": 62,
   "id": "12b39a2a",
   "metadata": {
    "ExecuteTime": {
     "end_time": "2021-07-28T11:44:37.901519Z",
     "start_time": "2021-07-28T11:44:37.889554Z"
    }
   },
   "outputs": [
    {
     "data": {
      "text/plain": [
       "array([nan, '50-99', '<10', '10000+', '5000-9999', '1000-4999', '10/49',\n",
       "       '100-500', '500-999'], dtype=object)"
      ]
     },
     "execution_count": 62,
     "metadata": {},
     "output_type": "execute_result"
    }
   ],
   "source": [
    "df.company_size.unique()"
   ]
  },
  {
   "cell_type": "code",
   "execution_count": 63,
   "id": "f06e5b1f",
   "metadata": {
    "ExecuteTime": {
     "end_time": "2021-07-28T11:44:37.981517Z",
     "start_time": "2021-07-28T11:44:37.903518Z"
    }
   },
   "outputs": [
    {
     "name": "stdout",
     "output_type": "stream",
     "text": [
      "5938\n",
      "0.3099488464349097\n"
     ]
    }
   ],
   "source": [
    "print(df.company_size.isnull().sum())\n",
    "print(df.company_size.isnull().sum() / df.shape[0])"
   ]
  },
  {
   "cell_type": "code",
   "execution_count": 64,
   "id": "5f9173ec",
   "metadata": {
    "ExecuteTime": {
     "end_time": "2021-07-28T11:44:38.540550Z",
     "start_time": "2021-07-28T11:44:37.983519Z"
    }
   },
   "outputs": [
    {
     "data": {
      "text/plain": [
       "<AxesSubplot:xlabel='company_size', ylabel='count'>"
      ]
     },
     "execution_count": 64,
     "metadata": {},
     "output_type": "execute_result"
    },
    {
     "data": {
      "image/png": "[encoded data removed]",
      "text/plain": [
       "<Figure size 1152x288 with 2 Axes>"
      ]
     },
     "metadata": {
      "needs_background": "light"
     },
     "output_type": "display_data"
    }
   ],
   "source": [
    "fig, axes = plt.subplots(1, 2, figsize=(16,4))\n",
    "sns.countplot(x=df.company_size, ax=axes[0])\n",
    "sns.countplot(x=df.company_size, hue=df.target, ax=axes[1])"
   ]
  },
  {
   "cell_type": "code",
   "execution_count": 65,
   "id": "df31b077",
   "metadata": {
    "ExecuteTime": {
     "end_time": "2021-07-28T11:44:38.555549Z",
     "start_time": "2021-07-28T11:44:38.542527Z"
    }
   },
   "outputs": [
    {
     "data": {
      "text/plain": [
       "array([-1, '50-99', '<10', '10000+', '5000-9999', '1000-4999', '10/49',\n",
       "       '100-500', '500-999'], dtype=object)"
      ]
     },
     "execution_count": 65,
     "metadata": {},
     "output_type": "execute_result"
    }
   ],
   "source": [
    "df.loc[df.company_size.isnull(), \"company_size\"] = -1\n",
    "df.company_size.unique()"
   ]
  },
  {
   "cell_type": "code",
   "execution_count": 66,
   "id": "50080b18",
   "metadata": {
    "ExecuteTime": {
     "end_time": "2021-07-28T11:44:38.635539Z",
     "start_time": "2021-07-28T11:44:38.557552Z"
    }
   },
   "outputs": [
    {
     "data": {
      "text/html": [
       "<div>\n",
       "<style scoped>\n",
       "    .dataframe tbody tr th:only-of-type {\n",
       "        vertical-align: middle;\n",
       "    }\n",
       "\n",
       "    .dataframe tbody tr th {\n",
       "        vertical-align: top;\n",
       "    }\n",
       "\n",
       "    .dataframe thead th {\n",
       "        text-align: right;\n",
       "    }\n",
       "</style>\n",
       "<table border=\"1\" class=\"dataframe\">\n",
       "  <thead>\n",
       "    <tr style=\"text-align: right;\">\n",
       "      <th></th>\n",
       "      <th>city</th>\n",
       "      <th>city_development_index</th>\n",
       "      <th>relevent_experience</th>\n",
       "      <th>enrolled_university</th>\n",
       "      <th>education_level</th>\n",
       "      <th>experience</th>\n",
       "      <th>company_size</th>\n",
       "      <th>last_new_job</th>\n",
       "      <th>training_hours</th>\n",
       "      <th>target</th>\n",
       "      <th>...</th>\n",
       "      <th>gender_missing</th>\n",
       "      <th>gender_other</th>\n",
       "      <th>major_arts</th>\n",
       "      <th>major_business</th>\n",
       "      <th>major_humanities</th>\n",
       "      <th>major_missing</th>\n",
       "      <th>major_noMajor</th>\n",
       "      <th>major_other</th>\n",
       "      <th>major_STEM</th>\n",
       "      <th>experience_type</th>\n",
       "    </tr>\n",
       "  </thead>\n",
       "  <tbody>\n",
       "    <tr>\n",
       "      <th>0</th>\n",
       "      <td>103</td>\n",
       "      <td>0.920</td>\n",
       "      <td>1</td>\n",
       "      <td>3</td>\n",
       "      <td>3</td>\n",
       "      <td>21</td>\n",
       "      <td>9</td>\n",
       "      <td>1</td>\n",
       "      <td>36</td>\n",
       "      <td>1</td>\n",
       "      <td>...</td>\n",
       "      <td>0</td>\n",
       "      <td>0</td>\n",
       "      <td>0</td>\n",
       "      <td>0</td>\n",
       "      <td>0</td>\n",
       "      <td>0</td>\n",
       "      <td>0</td>\n",
       "      <td>0</td>\n",
       "      <td>1</td>\n",
       "      <td>1.0</td>\n",
       "    </tr>\n",
       "    <tr>\n",
       "      <th>1</th>\n",
       "      <td>40</td>\n",
       "      <td>0.776</td>\n",
       "      <td>0</td>\n",
       "      <td>3</td>\n",
       "      <td>3</td>\n",
       "      <td>15</td>\n",
       "      <td>6</td>\n",
       "      <td>&gt;4</td>\n",
       "      <td>47</td>\n",
       "      <td>0</td>\n",
       "      <td>...</td>\n",
       "      <td>0</td>\n",
       "      <td>0</td>\n",
       "      <td>0</td>\n",
       "      <td>0</td>\n",
       "      <td>0</td>\n",
       "      <td>0</td>\n",
       "      <td>0</td>\n",
       "      <td>0</td>\n",
       "      <td>1</td>\n",
       "      <td>3.0</td>\n",
       "    </tr>\n",
       "    <tr>\n",
       "      <th>2</th>\n",
       "      <td>21</td>\n",
       "      <td>0.624</td>\n",
       "      <td>0</td>\n",
       "      <td>1</td>\n",
       "      <td>3</td>\n",
       "      <td>5</td>\n",
       "      <td>9</td>\n",
       "      <td>never</td>\n",
       "      <td>83</td>\n",
       "      <td>0</td>\n",
       "      <td>...</td>\n",
       "      <td>1</td>\n",
       "      <td>0</td>\n",
       "      <td>0</td>\n",
       "      <td>0</td>\n",
       "      <td>0</td>\n",
       "      <td>0</td>\n",
       "      <td>0</td>\n",
       "      <td>0</td>\n",
       "      <td>1</td>\n",
       "      <td>5.0</td>\n",
       "    </tr>\n",
       "    <tr>\n",
       "      <th>3</th>\n",
       "      <td>115</td>\n",
       "      <td>0.789</td>\n",
       "      <td>0</td>\n",
       "      <td>3</td>\n",
       "      <td>3</td>\n",
       "      <td>0</td>\n",
       "      <td>9</td>\n",
       "      <td>never</td>\n",
       "      <td>52</td>\n",
       "      <td>1</td>\n",
       "      <td>...</td>\n",
       "      <td>1</td>\n",
       "      <td>0</td>\n",
       "      <td>0</td>\n",
       "      <td>1</td>\n",
       "      <td>0</td>\n",
       "      <td>0</td>\n",
       "      <td>0</td>\n",
       "      <td>0</td>\n",
       "      <td>0</td>\n",
       "      <td>7.0</td>\n",
       "    </tr>\n",
       "    <tr>\n",
       "      <th>4</th>\n",
       "      <td>162</td>\n",
       "      <td>0.767</td>\n",
       "      <td>1</td>\n",
       "      <td>3</td>\n",
       "      <td>2</td>\n",
       "      <td>21</td>\n",
       "      <td>6</td>\n",
       "      <td>4</td>\n",
       "      <td>8</td>\n",
       "      <td>0</td>\n",
       "      <td>...</td>\n",
       "      <td>0</td>\n",
       "      <td>0</td>\n",
       "      <td>0</td>\n",
       "      <td>0</td>\n",
       "      <td>0</td>\n",
       "      <td>0</td>\n",
       "      <td>0</td>\n",
       "      <td>0</td>\n",
       "      <td>1</td>\n",
       "      <td>1.0</td>\n",
       "    </tr>\n",
       "  </tbody>\n",
       "</table>\n",
       "<p>5 rows × 22 columns</p>\n",
       "</div>"
      ],
      "text/plain": [
       "   city  city_development_index  relevent_experience  enrolled_university  \\\n",
       "0   103                   0.920                    1                    3   \n",
       "1    40                   0.776                    0                    3   \n",
       "2    21                   0.624                    0                    1   \n",
       "3   115                   0.789                    0                    3   \n",
       "4   162                   0.767                    1                    3   \n",
       "\n",
       "   education_level  experience company_size last_new_job  training_hours  \\\n",
       "0                3          21            9            1              36   \n",
       "1                3          15            6           >4              47   \n",
       "2                3           5            9        never              83   \n",
       "3                3           0            9        never              52   \n",
       "4                2          21            6            4               8   \n",
       "\n",
       "   target  ...  gender_missing  gender_other  major_arts  major_business  \\\n",
       "0       1  ...               0             0           0               0   \n",
       "1       0  ...               0             0           0               0   \n",
       "2       0  ...               1             0           0               0   \n",
       "3       1  ...               1             0           0               1   \n",
       "4       0  ...               0             0           0               0   \n",
       "\n",
       "   major_humanities  major_missing  major_noMajor  major_other  major_STEM  \\\n",
       "0                 0              0              0            0           1   \n",
       "1                 0              0              0            0           1   \n",
       "2                 0              0              0            0           1   \n",
       "3                 0              0              0            0           0   \n",
       "4                 0              0              0            0           1   \n",
       "\n",
       "   experience_type  \n",
       "0              1.0  \n",
       "1              3.0  \n",
       "2              5.0  \n",
       "3              7.0  \n",
       "4              1.0  \n",
       "\n",
       "[5 rows x 22 columns]"
      ]
     },
     "execution_count": 66,
     "metadata": {},
     "output_type": "execute_result"
    }
   ],
   "source": [
    "df.loc[df.company_size == \"10000+\", \"company_size\"] = 1\n",
    "df.loc[df.company_size == \"5000-9999\", \"company_size\"] = 2\n",
    "df.loc[df.company_size == \"1000-4999\", \"company_size\"] = 3\n",
    "df.loc[df.company_size == \"500-999\", \"company_size\"] = 4\n",
    "df.loc[df.company_size == \"100-500\", \"company_size\"] = 5\n",
    "df.loc[df.company_size == \"50-99\", \"company_size\"] = 6\n",
    "df.loc[df.company_size == \"10/49\", \"company_size\"] = 7\n",
    "df.loc[df.company_size == \"<10\", \"company_size\"] = 8\n",
    "df.loc[df.company_size == -1, \"company_size\"] = 9\n",
    "\n",
    "df.head()"
   ]
  },
  {
   "cell_type": "code",
   "execution_count": 67,
   "id": "2983d8bb",
   "metadata": {
    "ExecuteTime": {
     "end_time": "2021-07-28T11:44:38.651572Z",
     "start_time": "2021-07-28T11:44:38.638520Z"
    }
   },
   "outputs": [],
   "source": [
    "df.company_size = df.company_size.astype(int)"
   ]
  },
  {
   "cell_type": "markdown",
   "id": "130dc2d4",
   "metadata": {},
   "source": [
    "# last_new_job"
   ]
  },
  {
   "cell_type": "code",
   "execution_count": 68,
   "id": "c3ed6190",
   "metadata": {
    "ExecuteTime": {
     "end_time": "2021-07-28T11:44:38.683561Z",
     "start_time": "2021-07-28T11:44:38.672560Z"
    }
   },
   "outputs": [
    {
     "data": {
      "text/plain": [
       "array(['1', '>4', 'never', '4', '3', '2', nan], dtype=object)"
      ]
     },
     "execution_count": 68,
     "metadata": {},
     "output_type": "execute_result"
    }
   ],
   "source": [
    "df.last_new_job.unique()"
   ]
  },
  {
   "cell_type": "code",
   "execution_count": 69,
   "id": "9675376b",
   "metadata": {
    "ExecuteTime": {
     "end_time": "2021-07-28T11:44:38.715576Z",
     "start_time": "2021-07-28T11:44:38.693556Z"
    }
   },
   "outputs": [
    {
     "name": "stdout",
     "output_type": "stream",
     "text": [
      "423\n",
      "0.02207954901346696\n"
     ]
    }
   ],
   "source": [
    "print(df.last_new_job.isnull().sum())\n",
    "print(df.last_new_job.isnull().sum() / df.shape[0])"
   ]
  },
  {
   "cell_type": "code",
   "execution_count": 70,
   "id": "b46d15df",
   "metadata": {
    "ExecuteTime": {
     "end_time": "2021-07-28T11:44:39.233543Z",
     "start_time": "2021-07-28T11:44:38.717522Z"
    }
   },
   "outputs": [
    {
     "data": {
      "text/plain": [
       "<AxesSubplot:xlabel='last_new_job', ylabel='count'>"
      ]
     },
     "execution_count": 70,
     "metadata": {},
     "output_type": "execute_result"
    },
    {
     "data": {
      "image/png": "[encoded data removed]",
      "text/plain": [
       "<Figure size 1152x288 with 2 Axes>"
      ]
     },
     "metadata": {
      "needs_background": "light"
     },
     "output_type": "display_data"
    }
   ],
   "source": [
    "fig, axes = plt.subplots(1, 2, figsize=(16,4))\n",
    "sns.countplot(x=df.last_new_job, ax=axes[0])\n",
    "sns.countplot(x=df.last_new_job, hue=df.target, ax=axes[1])"
   ]
  },
  {
   "cell_type": "code",
   "execution_count": 71,
   "id": "7fcd75b3",
   "metadata": {
    "ExecuteTime": {
     "end_time": "2021-07-28T11:44:39.264590Z",
     "start_time": "2021-07-28T11:44:39.236540Z"
    }
   },
   "outputs": [
    {
     "data": {
      "text/plain": [
       "array(['1', '5', '0', '4', '3', '2'], dtype=object)"
      ]
     },
     "execution_count": 71,
     "metadata": {},
     "output_type": "execute_result"
    }
   ],
   "source": [
    "df.loc[df.last_new_job == \">4\", \"last_new_job\"] = \"5\"\n",
    "df.loc[df.last_new_job == \"never\", \"last_new_job\"] = \"0\"\n",
    "df.loc[df.last_new_job.isnull(), \"last_new_job\"] = df.last_new_job.mode()[0]\n",
    "df.last_new_job.unique()"
   ]
  },
  {
   "cell_type": "code",
   "execution_count": 72,
   "id": "d16aa385",
   "metadata": {
    "ExecuteTime": {
     "end_time": "2021-07-28T11:44:39.783537Z",
     "start_time": "2021-07-28T11:44:39.267525Z"
    }
   },
   "outputs": [
    {
     "data": {
      "text/plain": [
       "<AxesSubplot:xlabel='last_new_job', ylabel='count'>"
      ]
     },
     "execution_count": 72,
     "metadata": {},
     "output_type": "execute_result"
    },
    {
     "data": {
      "image/png": "[encoded data removed]",
      "text/plain": [
       "<Figure size 1152x288 with 2 Axes>"
      ]
     },
     "metadata": {
      "needs_background": "light"
     },
     "output_type": "display_data"
    }
   ],
   "source": [
    "fig, axes = plt.subplots(1, 2, figsize=(16,4))\n",
    "sns.countplot(x=df.last_new_job, ax=axes[0])\n",
    "sns.countplot(x=df.last_new_job, hue=df.target, ax=axes[1])"
   ]
  },
  {
   "cell_type": "code",
   "execution_count": 73,
   "id": "53b95896",
   "metadata": {
    "ExecuteTime": {
     "end_time": "2021-07-28T11:44:39.798519Z",
     "start_time": "2021-07-28T11:44:39.785554Z"
    }
   },
   "outputs": [],
   "source": [
    "df.last_new_job = df.last_new_job.astype(int)"
   ]
  },
  {
   "cell_type": "code",
   "execution_count": 74,
   "id": "af53ed28",
   "metadata": {
    "ExecuteTime": {
     "end_time": "2021-07-28T11:44:39.829536Z",
     "start_time": "2021-07-28T11:44:39.800518Z"
    },
    "scrolled": true
   },
   "outputs": [
    {
     "data": {
      "text/plain": [
       "city                        int64\n",
       "city_development_index    float64\n",
       "relevent_experience         int64\n",
       "enrolled_university         int64\n",
       "education_level             int64\n",
       "experience                  int32\n",
       "company_size                int32\n",
       "last_new_job                int32\n",
       "training_hours              int64\n",
       "target                      int32\n",
       "gender_female               uint8\n",
       "gender_male                 uint8\n",
       "gender_missing              uint8\n",
       "gender_other                uint8\n",
       "major_arts                  uint8\n",
       "major_business              uint8\n",
       "major_humanities            uint8\n",
       "major_missing               uint8\n",
       "major_noMajor               uint8\n",
       "major_other                 uint8\n",
       "major_STEM                  uint8\n",
       "experience_type           float64\n",
       "dtype: object"
      ]
     },
     "execution_count": 74,
     "metadata": {},
     "output_type": "execute_result"
    }
   ],
   "source": [
    "df.dtypes"
   ]
  },
  {
   "cell_type": "code",
   "execution_count": 75,
   "id": "e6f26e36",
   "metadata": {
    "ExecuteTime": {
     "end_time": "2021-07-28T11:44:39.876524Z",
     "start_time": "2021-07-28T11:44:39.831519Z"
    }
   },
   "outputs": [
    {
     "data": {
      "text/html": [
       "<div>\n",
       "<style scoped>\n",
       "    .dataframe tbody tr th:only-of-type {\n",
       "        vertical-align: middle;\n",
       "    }\n",
       "\n",
       "    .dataframe tbody tr th {\n",
       "        vertical-align: top;\n",
       "    }\n",
       "\n",
       "    .dataframe thead th {\n",
       "        text-align: right;\n",
       "    }\n",
       "</style>\n",
       "<table border=\"1\" class=\"dataframe\">\n",
       "  <thead>\n",
       "    <tr style=\"text-align: right;\">\n",
       "      <th></th>\n",
       "      <th>city</th>\n",
       "      <th>city_development_index</th>\n",
       "      <th>relevent_experience</th>\n",
       "      <th>enrolled_university</th>\n",
       "      <th>education_level</th>\n",
       "      <th>experience</th>\n",
       "      <th>company_size</th>\n",
       "      <th>last_new_job</th>\n",
       "      <th>training_hours</th>\n",
       "      <th>target</th>\n",
       "      <th>...</th>\n",
       "      <th>gender_missing</th>\n",
       "      <th>gender_other</th>\n",
       "      <th>major_arts</th>\n",
       "      <th>major_business</th>\n",
       "      <th>major_humanities</th>\n",
       "      <th>major_missing</th>\n",
       "      <th>major_noMajor</th>\n",
       "      <th>major_other</th>\n",
       "      <th>major_STEM</th>\n",
       "      <th>experience_type</th>\n",
       "    </tr>\n",
       "  </thead>\n",
       "  <tbody>\n",
       "    <tr>\n",
       "      <th>0</th>\n",
       "      <td>103</td>\n",
       "      <td>0.920</td>\n",
       "      <td>1</td>\n",
       "      <td>3</td>\n",
       "      <td>3</td>\n",
       "      <td>21</td>\n",
       "      <td>9</td>\n",
       "      <td>1</td>\n",
       "      <td>36</td>\n",
       "      <td>1</td>\n",
       "      <td>...</td>\n",
       "      <td>0</td>\n",
       "      <td>0</td>\n",
       "      <td>0</td>\n",
       "      <td>0</td>\n",
       "      <td>0</td>\n",
       "      <td>0</td>\n",
       "      <td>0</td>\n",
       "      <td>0</td>\n",
       "      <td>1</td>\n",
       "      <td>1.0</td>\n",
       "    </tr>\n",
       "    <tr>\n",
       "      <th>1</th>\n",
       "      <td>40</td>\n",
       "      <td>0.776</td>\n",
       "      <td>0</td>\n",
       "      <td>3</td>\n",
       "      <td>3</td>\n",
       "      <td>15</td>\n",
       "      <td>6</td>\n",
       "      <td>5</td>\n",
       "      <td>47</td>\n",
       "      <td>0</td>\n",
       "      <td>...</td>\n",
       "      <td>0</td>\n",
       "      <td>0</td>\n",
       "      <td>0</td>\n",
       "      <td>0</td>\n",
       "      <td>0</td>\n",
       "      <td>0</td>\n",
       "      <td>0</td>\n",
       "      <td>0</td>\n",
       "      <td>1</td>\n",
       "      <td>3.0</td>\n",
       "    </tr>\n",
       "    <tr>\n",
       "      <th>2</th>\n",
       "      <td>21</td>\n",
       "      <td>0.624</td>\n",
       "      <td>0</td>\n",
       "      <td>1</td>\n",
       "      <td>3</td>\n",
       "      <td>5</td>\n",
       "      <td>9</td>\n",
       "      <td>0</td>\n",
       "      <td>83</td>\n",
       "      <td>0</td>\n",
       "      <td>...</td>\n",
       "      <td>1</td>\n",
       "      <td>0</td>\n",
       "      <td>0</td>\n",
       "      <td>0</td>\n",
       "      <td>0</td>\n",
       "      <td>0</td>\n",
       "      <td>0</td>\n",
       "      <td>0</td>\n",
       "      <td>1</td>\n",
       "      <td>5.0</td>\n",
       "    </tr>\n",
       "    <tr>\n",
       "      <th>3</th>\n",
       "      <td>115</td>\n",
       "      <td>0.789</td>\n",
       "      <td>0</td>\n",
       "      <td>3</td>\n",
       "      <td>3</td>\n",
       "      <td>0</td>\n",
       "      <td>9</td>\n",
       "      <td>0</td>\n",
       "      <td>52</td>\n",
       "      <td>1</td>\n",
       "      <td>...</td>\n",
       "      <td>1</td>\n",
       "      <td>0</td>\n",
       "      <td>0</td>\n",
       "      <td>1</td>\n",
       "      <td>0</td>\n",
       "      <td>0</td>\n",
       "      <td>0</td>\n",
       "      <td>0</td>\n",
       "      <td>0</td>\n",
       "      <td>7.0</td>\n",
       "    </tr>\n",
       "    <tr>\n",
       "      <th>4</th>\n",
       "      <td>162</td>\n",
       "      <td>0.767</td>\n",
       "      <td>1</td>\n",
       "      <td>3</td>\n",
       "      <td>2</td>\n",
       "      <td>21</td>\n",
       "      <td>6</td>\n",
       "      <td>4</td>\n",
       "      <td>8</td>\n",
       "      <td>0</td>\n",
       "      <td>...</td>\n",
       "      <td>0</td>\n",
       "      <td>0</td>\n",
       "      <td>0</td>\n",
       "      <td>0</td>\n",
       "      <td>0</td>\n",
       "      <td>0</td>\n",
       "      <td>0</td>\n",
       "      <td>0</td>\n",
       "      <td>1</td>\n",
       "      <td>1.0</td>\n",
       "    </tr>\n",
       "  </tbody>\n",
       "</table>\n",
       "<p>5 rows × 22 columns</p>\n",
       "</div>"
      ],
      "text/plain": [
       "   city  city_development_index  relevent_experience  enrolled_university  \\\n",
       "0   103                   0.920                    1                    3   \n",
       "1    40                   0.776                    0                    3   \n",
       "2    21                   0.624                    0                    1   \n",
       "3   115                   0.789                    0                    3   \n",
       "4   162                   0.767                    1                    3   \n",
       "\n",
       "   education_level  experience  company_size  last_new_job  training_hours  \\\n",
       "0                3          21             9             1              36   \n",
       "1                3          15             6             5              47   \n",
       "2                3           5             9             0              83   \n",
       "3                3           0             9             0              52   \n",
       "4                2          21             6             4               8   \n",
       "\n",
       "   target  ...  gender_missing  gender_other  major_arts  major_business  \\\n",
       "0       1  ...               0             0           0               0   \n",
       "1       0  ...               0             0           0               0   \n",
       "2       0  ...               1             0           0               0   \n",
       "3       1  ...               1             0           0               1   \n",
       "4       0  ...               0             0           0               0   \n",
       "\n",
       "   major_humanities  major_missing  major_noMajor  major_other  major_STEM  \\\n",
       "0                 0              0              0            0           1   \n",
       "1                 0              0              0            0           1   \n",
       "2                 0              0              0            0           1   \n",
       "3                 0              0              0            0           0   \n",
       "4                 0              0              0            0           1   \n",
       "\n",
       "   experience_type  \n",
       "0              1.0  \n",
       "1              3.0  \n",
       "2              5.0  \n",
       "3              7.0  \n",
       "4              1.0  \n",
       "\n",
       "[5 rows x 22 columns]"
      ]
     },
     "execution_count": 75,
     "metadata": {},
     "output_type": "execute_result"
    }
   ],
   "source": [
    "df.head()"
   ]
  },
  {
   "cell_type": "markdown",
   "id": "516ff82f",
   "metadata": {},
   "source": [
    "# Varible Transformation"
   ]
  },
  {
   "cell_type": "code",
   "execution_count": 76,
   "id": "aa3ff310",
   "metadata": {
    "ExecuteTime": {
     "end_time": "2021-07-28T11:44:39.891556Z",
     "start_time": "2021-07-28T11:44:39.878525Z"
    }
   },
   "outputs": [],
   "source": [
    "df.training_hours = np.log(df.training_hours)"
   ]
  },
  {
   "cell_type": "code",
   "execution_count": 79,
   "id": "15c1ce5d",
   "metadata": {
    "ExecuteTime": {
     "end_time": "2021-07-28T11:45:25.343552Z",
     "start_time": "2021-07-28T11:45:24.828550Z"
    },
    "scrolled": true
   },
   "outputs": [
    {
     "data": {
      "text/plain": [
       "<seaborn.axisgrid.FacetGrid at 0x1dc598d14c0>"
      ]
     },
     "execution_count": 79,
     "metadata": {},
     "output_type": "execute_result"
    },
    {
     "data": {
      "image/png": "[encoded data removed]",
      "text/plain": [
       "<Figure size 360x360 with 1 Axes>"
      ]
     },
     "metadata": {
      "needs_background": "light"
     },
     "output_type": "display_data"
    }
   ],
   "source": [
    "sns.displot(x=df.training_hours)"
   ]
  },
  {
   "cell_type": "code",
   "execution_count": 78,
   "id": "fc085c68",
   "metadata": {
    "ExecuteTime": {
     "end_time": "2021-07-28T11:44:57.393554Z",
     "start_time": "2021-07-28T11:44:57.347537Z"
    }
   },
   "outputs": [
    {
     "data": {
      "text/html": [
       "<div>\n",
       "<style scoped>\n",
       "    .dataframe tbody tr th:only-of-type {\n",
       "        vertical-align: middle;\n",
       "    }\n",
       "\n",
       "    .dataframe tbody tr th {\n",
       "        vertical-align: top;\n",
       "    }\n",
       "\n",
       "    .dataframe thead th {\n",
       "        text-align: right;\n",
       "    }\n",
       "</style>\n",
       "<table border=\"1\" class=\"dataframe\">\n",
       "  <thead>\n",
       "    <tr style=\"text-align: right;\">\n",
       "      <th></th>\n",
       "      <th>city</th>\n",
       "      <th>city_development_index</th>\n",
       "      <th>relevent_experience</th>\n",
       "      <th>enrolled_university</th>\n",
       "      <th>education_level</th>\n",
       "      <th>experience</th>\n",
       "      <th>company_size</th>\n",
       "      <th>last_new_job</th>\n",
       "      <th>training_hours</th>\n",
       "      <th>target</th>\n",
       "      <th>...</th>\n",
       "      <th>gender_missing</th>\n",
       "      <th>gender_other</th>\n",
       "      <th>major_arts</th>\n",
       "      <th>major_business</th>\n",
       "      <th>major_humanities</th>\n",
       "      <th>major_missing</th>\n",
       "      <th>major_noMajor</th>\n",
       "      <th>major_other</th>\n",
       "      <th>major_STEM</th>\n",
       "      <th>experience_type</th>\n",
       "    </tr>\n",
       "  </thead>\n",
       "  <tbody>\n",
       "    <tr>\n",
       "      <th>0</th>\n",
       "      <td>103</td>\n",
       "      <td>0.920</td>\n",
       "      <td>1</td>\n",
       "      <td>3</td>\n",
       "      <td>3</td>\n",
       "      <td>21</td>\n",
       "      <td>9</td>\n",
       "      <td>1</td>\n",
       "      <td>3.583519</td>\n",
       "      <td>1</td>\n",
       "      <td>...</td>\n",
       "      <td>0</td>\n",
       "      <td>0</td>\n",
       "      <td>0</td>\n",
       "      <td>0</td>\n",
       "      <td>0</td>\n",
       "      <td>0</td>\n",
       "      <td>0</td>\n",
       "      <td>0</td>\n",
       "      <td>1</td>\n",
       "      <td>1.0</td>\n",
       "    </tr>\n",
       "    <tr>\n",
       "      <th>1</th>\n",
       "      <td>40</td>\n",
       "      <td>0.776</td>\n",
       "      <td>0</td>\n",
       "      <td>3</td>\n",
       "      <td>3</td>\n",
       "      <td>15</td>\n",
       "      <td>6</td>\n",
       "      <td>5</td>\n",
       "      <td>3.850148</td>\n",
       "      <td>0</td>\n",
       "      <td>...</td>\n",
       "      <td>0</td>\n",
       "      <td>0</td>\n",
       "      <td>0</td>\n",
       "      <td>0</td>\n",
       "      <td>0</td>\n",
       "      <td>0</td>\n",
       "      <td>0</td>\n",
       "      <td>0</td>\n",
       "      <td>1</td>\n",
       "      <td>3.0</td>\n",
       "    </tr>\n",
       "    <tr>\n",
       "      <th>2</th>\n",
       "      <td>21</td>\n",
       "      <td>0.624</td>\n",
       "      <td>0</td>\n",
       "      <td>1</td>\n",
       "      <td>3</td>\n",
       "      <td>5</td>\n",
       "      <td>9</td>\n",
       "      <td>0</td>\n",
       "      <td>4.418841</td>\n",
       "      <td>0</td>\n",
       "      <td>...</td>\n",
       "      <td>1</td>\n",
       "      <td>0</td>\n",
       "      <td>0</td>\n",
       "      <td>0</td>\n",
       "      <td>0</td>\n",
       "      <td>0</td>\n",
       "      <td>0</td>\n",
       "      <td>0</td>\n",
       "      <td>1</td>\n",
       "      <td>5.0</td>\n",
       "    </tr>\n",
       "    <tr>\n",
       "      <th>3</th>\n",
       "      <td>115</td>\n",
       "      <td>0.789</td>\n",
       "      <td>0</td>\n",
       "      <td>3</td>\n",
       "      <td>3</td>\n",
       "      <td>0</td>\n",
       "      <td>9</td>\n",
       "      <td>0</td>\n",
       "      <td>3.951244</td>\n",
       "      <td>1</td>\n",
       "      <td>...</td>\n",
       "      <td>1</td>\n",
       "      <td>0</td>\n",
       "      <td>0</td>\n",
       "      <td>1</td>\n",
       "      <td>0</td>\n",
       "      <td>0</td>\n",
       "      <td>0</td>\n",
       "      <td>0</td>\n",
       "      <td>0</td>\n",
       "      <td>7.0</td>\n",
       "    </tr>\n",
       "    <tr>\n",
       "      <th>4</th>\n",
       "      <td>162</td>\n",
       "      <td>0.767</td>\n",
       "      <td>1</td>\n",
       "      <td>3</td>\n",
       "      <td>2</td>\n",
       "      <td>21</td>\n",
       "      <td>6</td>\n",
       "      <td>4</td>\n",
       "      <td>2.079442</td>\n",
       "      <td>0</td>\n",
       "      <td>...</td>\n",
       "      <td>0</td>\n",
       "      <td>0</td>\n",
       "      <td>0</td>\n",
       "      <td>0</td>\n",
       "      <td>0</td>\n",
       "      <td>0</td>\n",
       "      <td>0</td>\n",
       "      <td>0</td>\n",
       "      <td>1</td>\n",
       "      <td>1.0</td>\n",
       "    </tr>\n",
       "  </tbody>\n",
       "</table>\n",
       "<p>5 rows × 22 columns</p>\n",
       "</div>"
      ],
      "text/plain": [
       "   city  city_development_index  relevent_experience  enrolled_university  \\\n",
       "0   103                   0.920                    1                    3   \n",
       "1    40                   0.776                    0                    3   \n",
       "2    21                   0.624                    0                    1   \n",
       "3   115                   0.789                    0                    3   \n",
       "4   162                   0.767                    1                    3   \n",
       "\n",
       "   education_level  experience  company_size  last_new_job  training_hours  \\\n",
       "0                3          21             9             1        3.583519   \n",
       "1                3          15             6             5        3.850148   \n",
       "2                3           5             9             0        4.418841   \n",
       "3                3           0             9             0        3.951244   \n",
       "4                2          21             6             4        2.079442   \n",
       "\n",
       "   target  ...  gender_missing  gender_other  major_arts  major_business  \\\n",
       "0       1  ...               0             0           0               0   \n",
       "1       0  ...               0             0           0               0   \n",
       "2       0  ...               1             0           0               0   \n",
       "3       1  ...               1             0           0               1   \n",
       "4       0  ...               0             0           0               0   \n",
       "\n",
       "   major_humanities  major_missing  major_noMajor  major_other  major_STEM  \\\n",
       "0                 0              0              0            0           1   \n",
       "1                 0              0              0            0           1   \n",
       "2                 0              0              0            0           1   \n",
       "3                 0              0              0            0           0   \n",
       "4                 0              0              0            0           1   \n",
       "\n",
       "   experience_type  \n",
       "0              1.0  \n",
       "1              3.0  \n",
       "2              5.0  \n",
       "3              7.0  \n",
       "4              1.0  \n",
       "\n",
       "[5 rows x 22 columns]"
      ]
     },
     "execution_count": 78,
     "metadata": {},
     "output_type": "execute_result"
    }
   ],
   "source": [
    "df.head()"
   ]
  },
  {
   "cell_type": "markdown",
   "id": "8521ded6",
   "metadata": {},
   "source": [
    "# Detect Outliers"
   ]
  },
  {
   "cell_type": "code",
   "execution_count": 80,
   "id": "b4a78df9",
   "metadata": {
    "ExecuteTime": {
     "end_time": "2021-07-28T11:46:42.053564Z",
     "start_time": "2021-07-28T11:46:41.875537Z"
    }
   },
   "outputs": [
    {
     "data": {
      "text/plain": [
       "<AxesSubplot:xlabel='training_hours'>"
      ]
     },
     "execution_count": 80,
     "metadata": {},
     "output_type": "execute_result"
    },
    {
     "data": {
      "image/png": "[encoded data removed]",
      "text/plain": [
       "<Figure size 432x288 with 1 Axes>"
      ]
     },
     "metadata": {
      "needs_background": "light"
     },
     "output_type": "display_data"
    }
   ],
   "source": [
    "sns.boxplot(x=df.training_hours)"
   ]
  },
  {
   "cell_type": "code",
   "execution_count": 81,
   "id": "6bc982f4",
   "metadata": {
    "ExecuteTime": {
     "end_time": "2021-07-28T11:49:38.107551Z",
     "start_time": "2021-07-28T11:49:38.083536Z"
    }
   },
   "outputs": [
    {
     "data": {
      "text/plain": [
       "count    19158.000000\n",
       "mean         3.762026\n",
       "std          0.986980\n",
       "min          0.000000\n",
       "25%          3.135494\n",
       "50%          3.850148\n",
       "75%          4.477337\n",
       "max          5.817111\n",
       "Name: training_hours, dtype: float64"
      ]
     },
     "execution_count": 81,
     "metadata": {},
     "output_type": "execute_result"
    }
   ],
   "source": [
    "df.training_hours.describe()"
   ]
  },
  {
   "cell_type": "code",
   "execution_count": 84,
   "id": "670d5f7e",
   "metadata": {
    "ExecuteTime": {
     "end_time": "2021-07-28T12:54:16.188393Z",
     "start_time": "2021-07-28T12:54:16.102414Z"
    }
   },
   "outputs": [],
   "source": [
    "def detect_oulier(feature):\n",
    "    q25, q75 = np.percentile(feature, 25), np.percentile(feature, 75)\n",
    "    iqr = q75 - q25 \n",
    "    cut_off = iqr * 1.5\n",
    "    lower, upper = q25 - cut_off, q75 + cut_off\n",
    "    outliers = [x for x in feature if x < lower or x > upper]\n",
    "    if len(outliers) > 0 :\n",
    "        return True\n",
    "    else:\n",
    "        return False\n",
    "    \n",
    "def remove_outlier(feature):\n",
    "    q25, q75 = np.percentile(feature, 25), np.percentile(feature, 75)\n",
    "    iqr = q75 - q25 \n",
    "    cut_off = iqr * 1.5\n",
    "    lower, upper = q25 - cut_off, q75 + cut_off\n",
    "    outliers = [x for x in feature if x < lower or x > upper]\n",
    "      \n",
    "    median = feature.median()\n",
    "    x = np.where((feature >upper) | (feature < lower), median, feature)\n",
    "    return x\n",
    "\n",
    "for feature in continuous_feature:\n",
    "    while True:\n",
    "        if detect_oulier(df[feature]):\n",
    "            df[feature] = remove_outlier(df[feature])\n",
    "        else:\n",
    "            break"
   ]
  },
  {
   "cell_type": "code",
   "execution_count": 87,
   "id": "7f439dcd",
   "metadata": {
    "ExecuteTime": {
     "end_time": "2021-07-28T12:56:33.892568Z",
     "start_time": "2021-07-28T12:56:33.582559Z"
    }
   },
   "outputs": [
    {
     "data": {
      "text/plain": [
       "<AxesSubplot:xlabel='training_hours'>"
      ]
     },
     "execution_count": 87,
     "metadata": {},
     "output_type": "execute_result"
    },
    {
     "data": {
      "image/png": "[encoded data removed]",
      "text/plain": [
       "<Figure size 1152x288 with 2 Axes>"
      ]
     },
     "metadata": {
      "needs_background": "light"
     },
     "output_type": "display_data"
    }
   ],
   "source": [
    "fig, axes = plt.subplots(1, 2, figsize=(16,4))\n",
    "sns.boxplot(x=df.city_development_index, ax=axes[0])\n",
    "sns.boxplot(x=df.training_hours, ax=axes[1])"
   ]
  },
  {
   "cell_type": "code",
   "execution_count": 89,
   "id": "a9be8fb1",
   "metadata": {
    "ExecuteTime": {
     "end_time": "2021-07-28T13:32:17.984036Z",
     "start_time": "2021-07-28T13:32:17.943055Z"
    },
    "scrolled": true
   },
   "outputs": [
    {
     "data": {
      "text/html": [
       "<div>\n",
       "<style scoped>\n",
       "    .dataframe tbody tr th:only-of-type {\n",
       "        vertical-align: middle;\n",
       "    }\n",
       "\n",
       "    .dataframe tbody tr th {\n",
       "        vertical-align: top;\n",
       "    }\n",
       "\n",
       "    .dataframe thead th {\n",
       "        text-align: right;\n",
       "    }\n",
       "</style>\n",
       "<table border=\"1\" class=\"dataframe\">\n",
       "  <thead>\n",
       "    <tr style=\"text-align: right;\">\n",
       "      <th></th>\n",
       "      <th>city</th>\n",
       "      <th>city_development_index</th>\n",
       "      <th>relevent_experience</th>\n",
       "      <th>enrolled_university</th>\n",
       "      <th>education_level</th>\n",
       "      <th>experience</th>\n",
       "      <th>company_size</th>\n",
       "      <th>last_new_job</th>\n",
       "      <th>training_hours</th>\n",
       "      <th>target</th>\n",
       "      <th>...</th>\n",
       "      <th>gender_missing</th>\n",
       "      <th>gender_other</th>\n",
       "      <th>major_arts</th>\n",
       "      <th>major_business</th>\n",
       "      <th>major_humanities</th>\n",
       "      <th>major_missing</th>\n",
       "      <th>major_noMajor</th>\n",
       "      <th>major_other</th>\n",
       "      <th>major_STEM</th>\n",
       "      <th>experience_type</th>\n",
       "    </tr>\n",
       "  </thead>\n",
       "  <tbody>\n",
       "    <tr>\n",
       "      <th>0</th>\n",
       "      <td>103</td>\n",
       "      <td>0.920</td>\n",
       "      <td>1</td>\n",
       "      <td>3</td>\n",
       "      <td>3</td>\n",
       "      <td>21</td>\n",
       "      <td>9</td>\n",
       "      <td>1</td>\n",
       "      <td>3.583519</td>\n",
       "      <td>1</td>\n",
       "      <td>...</td>\n",
       "      <td>0</td>\n",
       "      <td>0</td>\n",
       "      <td>0</td>\n",
       "      <td>0</td>\n",
       "      <td>0</td>\n",
       "      <td>0</td>\n",
       "      <td>0</td>\n",
       "      <td>0</td>\n",
       "      <td>1</td>\n",
       "      <td>1.0</td>\n",
       "    </tr>\n",
       "    <tr>\n",
       "      <th>1</th>\n",
       "      <td>40</td>\n",
       "      <td>0.776</td>\n",
       "      <td>0</td>\n",
       "      <td>3</td>\n",
       "      <td>3</td>\n",
       "      <td>15</td>\n",
       "      <td>6</td>\n",
       "      <td>5</td>\n",
       "      <td>3.850148</td>\n",
       "      <td>0</td>\n",
       "      <td>...</td>\n",
       "      <td>0</td>\n",
       "      <td>0</td>\n",
       "      <td>0</td>\n",
       "      <td>0</td>\n",
       "      <td>0</td>\n",
       "      <td>0</td>\n",
       "      <td>0</td>\n",
       "      <td>0</td>\n",
       "      <td>1</td>\n",
       "      <td>3.0</td>\n",
       "    </tr>\n",
       "    <tr>\n",
       "      <th>2</th>\n",
       "      <td>21</td>\n",
       "      <td>0.624</td>\n",
       "      <td>0</td>\n",
       "      <td>1</td>\n",
       "      <td>3</td>\n",
       "      <td>5</td>\n",
       "      <td>9</td>\n",
       "      <td>0</td>\n",
       "      <td>4.418841</td>\n",
       "      <td>0</td>\n",
       "      <td>...</td>\n",
       "      <td>1</td>\n",
       "      <td>0</td>\n",
       "      <td>0</td>\n",
       "      <td>0</td>\n",
       "      <td>0</td>\n",
       "      <td>0</td>\n",
       "      <td>0</td>\n",
       "      <td>0</td>\n",
       "      <td>1</td>\n",
       "      <td>5.0</td>\n",
       "    </tr>\n",
       "    <tr>\n",
       "      <th>3</th>\n",
       "      <td>115</td>\n",
       "      <td>0.789</td>\n",
       "      <td>0</td>\n",
       "      <td>3</td>\n",
       "      <td>3</td>\n",
       "      <td>0</td>\n",
       "      <td>9</td>\n",
       "      <td>0</td>\n",
       "      <td>3.951244</td>\n",
       "      <td>1</td>\n",
       "      <td>...</td>\n",
       "      <td>1</td>\n",
       "      <td>0</td>\n",
       "      <td>0</td>\n",
       "      <td>1</td>\n",
       "      <td>0</td>\n",
       "      <td>0</td>\n",
       "      <td>0</td>\n",
       "      <td>0</td>\n",
       "      <td>0</td>\n",
       "      <td>7.0</td>\n",
       "    </tr>\n",
       "    <tr>\n",
       "      <th>4</th>\n",
       "      <td>162</td>\n",
       "      <td>0.767</td>\n",
       "      <td>1</td>\n",
       "      <td>3</td>\n",
       "      <td>2</td>\n",
       "      <td>21</td>\n",
       "      <td>6</td>\n",
       "      <td>4</td>\n",
       "      <td>2.079442</td>\n",
       "      <td>0</td>\n",
       "      <td>...</td>\n",
       "      <td>0</td>\n",
       "      <td>0</td>\n",
       "      <td>0</td>\n",
       "      <td>0</td>\n",
       "      <td>0</td>\n",
       "      <td>0</td>\n",
       "      <td>0</td>\n",
       "      <td>0</td>\n",
       "      <td>1</td>\n",
       "      <td>1.0</td>\n",
       "    </tr>\n",
       "  </tbody>\n",
       "</table>\n",
       "<p>5 rows × 22 columns</p>\n",
       "</div>"
      ],
      "text/plain": [
       "   city  city_development_index  relevent_experience  enrolled_university  \\\n",
       "0   103                   0.920                    1                    3   \n",
       "1    40                   0.776                    0                    3   \n",
       "2    21                   0.624                    0                    1   \n",
       "3   115                   0.789                    0                    3   \n",
       "4   162                   0.767                    1                    3   \n",
       "\n",
       "   education_level  experience  company_size  last_new_job  training_hours  \\\n",
       "0                3          21             9             1        3.583519   \n",
       "1                3          15             6             5        3.850148   \n",
       "2                3           5             9             0        4.418841   \n",
       "3                3           0             9             0        3.951244   \n",
       "4                2          21             6             4        2.079442   \n",
       "\n",
       "   target  ...  gender_missing  gender_other  major_arts  major_business  \\\n",
       "0       1  ...               0             0           0               0   \n",
       "1       0  ...               0             0           0               0   \n",
       "2       0  ...               1             0           0               0   \n",
       "3       1  ...               1             0           0               1   \n",
       "4       0  ...               0             0           0               0   \n",
       "\n",
       "   major_humanities  major_missing  major_noMajor  major_other  major_STEM  \\\n",
       "0                 0              0              0            0           1   \n",
       "1                 0              0              0            0           1   \n",
       "2                 0              0              0            0           1   \n",
       "3                 0              0              0            0           0   \n",
       "4                 0              0              0            0           1   \n",
       "\n",
       "   experience_type  \n",
       "0              1.0  \n",
       "1              3.0  \n",
       "2              5.0  \n",
       "3              7.0  \n",
       "4              1.0  \n",
       "\n",
       "[5 rows x 22 columns]"
      ]
     },
     "execution_count": 89,
     "metadata": {},
     "output_type": "execute_result"
    }
   ],
   "source": [
    "df.head()"
   ]
  },
  {
   "cell_type": "markdown",
   "id": "501352cb",
   "metadata": {},
   "source": [
    "# Variable Scaling"
   ]
  },
  {
   "cell_type": "code",
   "execution_count": 88,
   "id": "3dcbec40",
   "metadata": {
    "ExecuteTime": {
     "end_time": "2021-07-28T13:20:23.372109Z",
     "start_time": "2021-07-28T13:20:23.359112Z"
    }
   },
   "outputs": [],
   "source": [
    "from sklearn.preprocessing import StandardScaler"
   ]
  },
  {
   "cell_type": "code",
   "execution_count": 94,
   "id": "91862c2d",
   "metadata": {
    "ExecuteTime": {
     "end_time": "2021-07-28T14:10:51.497400Z",
     "start_time": "2021-07-28T14:10:51.465403Z"
    }
   },
   "outputs": [],
   "source": [
    "scaler = StandardScaler()\n",
    "scaler.fit(df)\n",
    "train_arr = scaler.transform(df)\n",
    "train_arr = np.array(train_arr)\n",
    "np.save(\"train_data.npy\", train_arr)"
   ]
  },
  {
   "cell_type": "code",
   "execution_count": null,
   "id": "d7966ac1",
   "metadata": {},
   "outputs": [],
   "source": []
  }
 ],
 "metadata": {
  "kernelspec": {
   "display_name": "Pytorch (conda)",
   "language": "python",
   "name": "pytorch"
  },
  "language_info": {
   "codemirror_mode": {
    "name": "ipython",
    "version": 3
   },
   "file_extension": ".py",
   "mimetype": "text/x-python",
   "name": "python",
   "nbconvert_exporter": "python",
   "pygments_lexer": "ipython3",
   "version": "3.8.0"
  },
  "varInspector": {
   "cols": {
    "lenName": 16,
    "lenType": 16,
    "lenVar": 40
   },
   "kernels_config": {
    "python": {
     "delete_cmd_postfix": "",
     "delete_cmd_prefix": "del ",
     "library": "var_list.py",
     "varRefreshCmd": "print(var_dic_list())"
    },
    "r": {
     "delete_cmd_postfix": ") ",
     "delete_cmd_prefix": "rm(",
     "library": "var_list.r",
     "varRefreshCmd": "cat(var_dic_list()) "
    }
   },
   "types_to_exclude": [
    "module",
    "function",
    "builtin_function_or_method",
    "instance",
    "_Feature"
   ],
   "window_display": false
  }
 },
 "nbformat": 4,
 "nbformat_minor": 5
}
